{
  "cells": [
    {
      "cell_type": "markdown",
      "metadata": {
        "id": "view-in-github",
        "colab_type": "text"
      },
      "source": [
        "<a href=\"https://colab.research.google.com/github/B14cs/YOLOv11-Custom-Training/blob/main/YOLOv11%20Custom%20Training%20(LPS).ipynb\" target=\"_parent\"><img src=\"https://colab.research.google.com/assets/colab-badge.svg\" alt=\"Open In Colab\"/></a>"
      ]
    },
    {
      "cell_type": "markdown",
      "metadata": {
        "id": "LY_Y41pWYmBn"
      },
      "source": [
        "# Install packages"
      ]
    },
    {
      "cell_type": "code",
      "execution_count": 1,
      "metadata": {
        "colab": {
          "base_uri": "https://localhost:8080/"
        },
        "collapsed": true,
        "id": "eM4dTakBnGEc",
        "outputId": "1f905bfa-058a-4b01-a342-9e00169e7031"
      },
      "outputs": [
        {
          "output_type": "stream",
          "name": "stdout",
          "text": [
            "Collecting ultralytics\n",
            "  Downloading ultralytics-8.3.69-py3-none-any.whl.metadata (35 kB)\n",
            "Requirement already satisfied: numpy>=1.23.0 in /usr/local/lib/python3.11/dist-packages (from ultralytics) (1.26.4)\n",
            "Requirement already satisfied: matplotlib>=3.3.0 in /usr/local/lib/python3.11/dist-packages (from ultralytics) (3.10.0)\n",
            "Requirement already satisfied: opencv-python>=4.6.0 in /usr/local/lib/python3.11/dist-packages (from ultralytics) (4.10.0.84)\n",
            "Requirement already satisfied: pillow>=7.1.2 in /usr/local/lib/python3.11/dist-packages (from ultralytics) (11.1.0)\n",
            "Requirement already satisfied: pyyaml>=5.3.1 in /usr/local/lib/python3.11/dist-packages (from ultralytics) (6.0.2)\n",
            "Requirement already satisfied: requests>=2.23.0 in /usr/local/lib/python3.11/dist-packages (from ultralytics) (2.32.3)\n",
            "Requirement already satisfied: scipy>=1.4.1 in /usr/local/lib/python3.11/dist-packages (from ultralytics) (1.13.1)\n",
            "Requirement already satisfied: torch>=1.8.0 in /usr/local/lib/python3.11/dist-packages (from ultralytics) (2.5.1+cu124)\n",
            "Requirement already satisfied: torchvision>=0.9.0 in /usr/local/lib/python3.11/dist-packages (from ultralytics) (0.20.1+cu124)\n",
            "Requirement already satisfied: tqdm>=4.64.0 in /usr/local/lib/python3.11/dist-packages (from ultralytics) (4.67.1)\n",
            "Requirement already satisfied: psutil in /usr/local/lib/python3.11/dist-packages (from ultralytics) (5.9.5)\n",
            "Requirement already satisfied: py-cpuinfo in /usr/local/lib/python3.11/dist-packages (from ultralytics) (9.0.0)\n",
            "Requirement already satisfied: pandas>=1.1.4 in /usr/local/lib/python3.11/dist-packages (from ultralytics) (2.2.2)\n",
            "Requirement already satisfied: seaborn>=0.11.0 in /usr/local/lib/python3.11/dist-packages (from ultralytics) (0.13.2)\n",
            "Collecting ultralytics-thop>=2.0.0 (from ultralytics)\n",
            "  Downloading ultralytics_thop-2.0.14-py3-none-any.whl.metadata (9.4 kB)\n",
            "Requirement already satisfied: contourpy>=1.0.1 in /usr/local/lib/python3.11/dist-packages (from matplotlib>=3.3.0->ultralytics) (1.3.1)\n",
            "Requirement already satisfied: cycler>=0.10 in /usr/local/lib/python3.11/dist-packages (from matplotlib>=3.3.0->ultralytics) (0.12.1)\n",
            "Requirement already satisfied: fonttools>=4.22.0 in /usr/local/lib/python3.11/dist-packages (from matplotlib>=3.3.0->ultralytics) (4.55.6)\n",
            "Requirement already satisfied: kiwisolver>=1.3.1 in /usr/local/lib/python3.11/dist-packages (from matplotlib>=3.3.0->ultralytics) (1.4.8)\n",
            "Requirement already satisfied: packaging>=20.0 in /usr/local/lib/python3.11/dist-packages (from matplotlib>=3.3.0->ultralytics) (24.2)\n",
            "Requirement already satisfied: pyparsing>=2.3.1 in /usr/local/lib/python3.11/dist-packages (from matplotlib>=3.3.0->ultralytics) (3.2.1)\n",
            "Requirement already satisfied: python-dateutil>=2.7 in /usr/local/lib/python3.11/dist-packages (from matplotlib>=3.3.0->ultralytics) (2.8.2)\n",
            "Requirement already satisfied: pytz>=2020.1 in /usr/local/lib/python3.11/dist-packages (from pandas>=1.1.4->ultralytics) (2024.2)\n",
            "Requirement already satisfied: tzdata>=2022.7 in /usr/local/lib/python3.11/dist-packages (from pandas>=1.1.4->ultralytics) (2025.1)\n",
            "Requirement already satisfied: charset-normalizer<4,>=2 in /usr/local/lib/python3.11/dist-packages (from requests>=2.23.0->ultralytics) (3.4.1)\n",
            "Requirement already satisfied: idna<4,>=2.5 in /usr/local/lib/python3.11/dist-packages (from requests>=2.23.0->ultralytics) (3.10)\n",
            "Requirement already satisfied: urllib3<3,>=1.21.1 in /usr/local/lib/python3.11/dist-packages (from requests>=2.23.0->ultralytics) (2.3.0)\n",
            "Requirement already satisfied: certifi>=2017.4.17 in /usr/local/lib/python3.11/dist-packages (from requests>=2.23.0->ultralytics) (2024.12.14)\n",
            "Requirement already satisfied: filelock in /usr/local/lib/python3.11/dist-packages (from torch>=1.8.0->ultralytics) (3.17.0)\n",
            "Requirement already satisfied: typing-extensions>=4.8.0 in /usr/local/lib/python3.11/dist-packages (from torch>=1.8.0->ultralytics) (4.12.2)\n",
            "Requirement already satisfied: networkx in /usr/local/lib/python3.11/dist-packages (from torch>=1.8.0->ultralytics) (3.4.2)\n",
            "Requirement already satisfied: jinja2 in /usr/local/lib/python3.11/dist-packages (from torch>=1.8.0->ultralytics) (3.1.5)\n",
            "Requirement already satisfied: fsspec in /usr/local/lib/python3.11/dist-packages (from torch>=1.8.0->ultralytics) (2024.10.0)\n",
            "Collecting nvidia-cuda-nvrtc-cu12==12.4.127 (from torch>=1.8.0->ultralytics)\n",
            "  Downloading nvidia_cuda_nvrtc_cu12-12.4.127-py3-none-manylinux2014_x86_64.whl.metadata (1.5 kB)\n",
            "Collecting nvidia-cuda-runtime-cu12==12.4.127 (from torch>=1.8.0->ultralytics)\n",
            "  Downloading nvidia_cuda_runtime_cu12-12.4.127-py3-none-manylinux2014_x86_64.whl.metadata (1.5 kB)\n",
            "Collecting nvidia-cuda-cupti-cu12==12.4.127 (from torch>=1.8.0->ultralytics)\n",
            "  Downloading nvidia_cuda_cupti_cu12-12.4.127-py3-none-manylinux2014_x86_64.whl.metadata (1.6 kB)\n",
            "Collecting nvidia-cudnn-cu12==9.1.0.70 (from torch>=1.8.0->ultralytics)\n",
            "  Downloading nvidia_cudnn_cu12-9.1.0.70-py3-none-manylinux2014_x86_64.whl.metadata (1.6 kB)\n",
            "Collecting nvidia-cublas-cu12==12.4.5.8 (from torch>=1.8.0->ultralytics)\n",
            "  Downloading nvidia_cublas_cu12-12.4.5.8-py3-none-manylinux2014_x86_64.whl.metadata (1.5 kB)\n",
            "Collecting nvidia-cufft-cu12==11.2.1.3 (from torch>=1.8.0->ultralytics)\n",
            "  Downloading nvidia_cufft_cu12-11.2.1.3-py3-none-manylinux2014_x86_64.whl.metadata (1.5 kB)\n",
            "Collecting nvidia-curand-cu12==10.3.5.147 (from torch>=1.8.0->ultralytics)\n",
            "  Downloading nvidia_curand_cu12-10.3.5.147-py3-none-manylinux2014_x86_64.whl.metadata (1.5 kB)\n",
            "Collecting nvidia-cusolver-cu12==11.6.1.9 (from torch>=1.8.0->ultralytics)\n",
            "  Downloading nvidia_cusolver_cu12-11.6.1.9-py3-none-manylinux2014_x86_64.whl.metadata (1.6 kB)\n",
            "Collecting nvidia-cusparse-cu12==12.3.1.170 (from torch>=1.8.0->ultralytics)\n",
            "  Downloading nvidia_cusparse_cu12-12.3.1.170-py3-none-manylinux2014_x86_64.whl.metadata (1.6 kB)\n",
            "Requirement already satisfied: nvidia-nccl-cu12==2.21.5 in /usr/local/lib/python3.11/dist-packages (from torch>=1.8.0->ultralytics) (2.21.5)\n",
            "Requirement already satisfied: nvidia-nvtx-cu12==12.4.127 in /usr/local/lib/python3.11/dist-packages (from torch>=1.8.0->ultralytics) (12.4.127)\n",
            "Collecting nvidia-nvjitlink-cu12==12.4.127 (from torch>=1.8.0->ultralytics)\n",
            "  Downloading nvidia_nvjitlink_cu12-12.4.127-py3-none-manylinux2014_x86_64.whl.metadata (1.5 kB)\n",
            "Requirement already satisfied: triton==3.1.0 in /usr/local/lib/python3.11/dist-packages (from torch>=1.8.0->ultralytics) (3.1.0)\n",
            "Requirement already satisfied: sympy==1.13.1 in /usr/local/lib/python3.11/dist-packages (from torch>=1.8.0->ultralytics) (1.13.1)\n",
            "Requirement already satisfied: mpmath<1.4,>=1.1.0 in /usr/local/lib/python3.11/dist-packages (from sympy==1.13.1->torch>=1.8.0->ultralytics) (1.3.0)\n",
            "Requirement already satisfied: six>=1.5 in /usr/local/lib/python3.11/dist-packages (from python-dateutil>=2.7->matplotlib>=3.3.0->ultralytics) (1.17.0)\n",
            "Requirement already satisfied: MarkupSafe>=2.0 in /usr/local/lib/python3.11/dist-packages (from jinja2->torch>=1.8.0->ultralytics) (3.0.2)\n",
            "Downloading ultralytics-8.3.69-py3-none-any.whl (914 kB)\n",
            "\u001b[2K   \u001b[90m━━━━━━━━━━━━━━━━━━━━━━━━━━━━━━━━━━━━━━━━\u001b[0m \u001b[32m914.6/914.6 kB\u001b[0m \u001b[31m14.4 MB/s\u001b[0m eta \u001b[36m0:00:00\u001b[0m\n",
            "\u001b[?25hDownloading nvidia_cublas_cu12-12.4.5.8-py3-none-manylinux2014_x86_64.whl (363.4 MB)\n",
            "\u001b[2K   \u001b[90m━━━━━━━━━━━━━━━━━━━━━━━━━━━━━━━━━━━━━━━━\u001b[0m \u001b[32m363.4/363.4 MB\u001b[0m \u001b[31m2.9 MB/s\u001b[0m eta \u001b[36m0:00:00\u001b[0m\n",
            "\u001b[?25hDownloading nvidia_cuda_cupti_cu12-12.4.127-py3-none-manylinux2014_x86_64.whl (13.8 MB)\n",
            "\u001b[2K   \u001b[90m━━━━━━━━━━━━━━━━━━━━━━━━━━━━━━━━━━━━━━━━\u001b[0m \u001b[32m13.8/13.8 MB\u001b[0m \u001b[31m88.3 MB/s\u001b[0m eta \u001b[36m0:00:00\u001b[0m\n",
            "\u001b[?25hDownloading nvidia_cuda_nvrtc_cu12-12.4.127-py3-none-manylinux2014_x86_64.whl (24.6 MB)\n",
            "\u001b[2K   \u001b[90m━━━━━━━━━━━━━━━━━━━━━━━━━━━━━━━━━━━━━━━━\u001b[0m \u001b[32m24.6/24.6 MB\u001b[0m \u001b[31m84.2 MB/s\u001b[0m eta \u001b[36m0:00:00\u001b[0m\n",
            "\u001b[?25hDownloading nvidia_cuda_runtime_cu12-12.4.127-py3-none-manylinux2014_x86_64.whl (883 kB)\n",
            "\u001b[2K   \u001b[90m━━━━━━━━━━━━━━━━━━━━━━━━━━━━━━━━━━━━━━━━\u001b[0m \u001b[32m883.7/883.7 kB\u001b[0m \u001b[31m43.1 MB/s\u001b[0m eta \u001b[36m0:00:00\u001b[0m\n",
            "\u001b[?25hDownloading nvidia_cudnn_cu12-9.1.0.70-py3-none-manylinux2014_x86_64.whl (664.8 MB)\n",
            "\u001b[2K   \u001b[90m━━━━━━━━━━━━━━━━━━━━━━━━━━━━━━━━━━━━━━━━\u001b[0m \u001b[32m664.8/664.8 MB\u001b[0m \u001b[31m1.6 MB/s\u001b[0m eta \u001b[36m0:00:00\u001b[0m\n",
            "\u001b[?25hDownloading nvidia_cufft_cu12-11.2.1.3-py3-none-manylinux2014_x86_64.whl (211.5 MB)\n",
            "\u001b[2K   \u001b[90m━━━━━━━━━━━━━━━━━━━━━━━━━━━━━━━━━━━━━━━━\u001b[0m \u001b[32m211.5/211.5 MB\u001b[0m \u001b[31m10.6 MB/s\u001b[0m eta \u001b[36m0:00:00\u001b[0m\n",
            "\u001b[?25hDownloading nvidia_curand_cu12-10.3.5.147-py3-none-manylinux2014_x86_64.whl (56.3 MB)\n",
            "\u001b[2K   \u001b[90m━━━━━━━━━━━━━━━━━━━━━━━━━━━━━━━━━━━━━━━━\u001b[0m \u001b[32m56.3/56.3 MB\u001b[0m \u001b[31m38.5 MB/s\u001b[0m eta \u001b[36m0:00:00\u001b[0m\n",
            "\u001b[?25hDownloading nvidia_cusolver_cu12-11.6.1.9-py3-none-manylinux2014_x86_64.whl (127.9 MB)\n",
            "\u001b[2K   \u001b[90m━━━━━━━━━━━━━━━━━━━━━━━━━━━━━━━━━━━━━━━━\u001b[0m \u001b[32m127.9/127.9 MB\u001b[0m \u001b[31m17.9 MB/s\u001b[0m eta \u001b[36m0:00:00\u001b[0m\n",
            "\u001b[?25hDownloading nvidia_cusparse_cu12-12.3.1.170-py3-none-manylinux2014_x86_64.whl (207.5 MB)\n",
            "\u001b[2K   \u001b[90m━━━━━━━━━━━━━━━━━━━━━━━━━━━━━━━━━━━━━━━━\u001b[0m \u001b[32m207.5/207.5 MB\u001b[0m \u001b[31m5.6 MB/s\u001b[0m eta \u001b[36m0:00:00\u001b[0m\n",
            "\u001b[?25hDownloading nvidia_nvjitlink_cu12-12.4.127-py3-none-manylinux2014_x86_64.whl (21.1 MB)\n",
            "\u001b[2K   \u001b[90m━━━━━━━━━━━━━━━━━━━━━━━━━━━━━━━━━━━━━━━━\u001b[0m \u001b[32m21.1/21.1 MB\u001b[0m \u001b[31m101.3 MB/s\u001b[0m eta \u001b[36m0:00:00\u001b[0m\n",
            "\u001b[?25hDownloading ultralytics_thop-2.0.14-py3-none-any.whl (26 kB)\n",
            "Installing collected packages: nvidia-nvjitlink-cu12, nvidia-curand-cu12, nvidia-cufft-cu12, nvidia-cuda-runtime-cu12, nvidia-cuda-nvrtc-cu12, nvidia-cuda-cupti-cu12, nvidia-cublas-cu12, nvidia-cusparse-cu12, nvidia-cudnn-cu12, nvidia-cusolver-cu12, ultralytics-thop, ultralytics\n",
            "  Attempting uninstall: nvidia-nvjitlink-cu12\n",
            "    Found existing installation: nvidia-nvjitlink-cu12 12.5.82\n",
            "    Uninstalling nvidia-nvjitlink-cu12-12.5.82:\n",
            "      Successfully uninstalled nvidia-nvjitlink-cu12-12.5.82\n",
            "  Attempting uninstall: nvidia-curand-cu12\n",
            "    Found existing installation: nvidia-curand-cu12 10.3.6.82\n",
            "    Uninstalling nvidia-curand-cu12-10.3.6.82:\n",
            "      Successfully uninstalled nvidia-curand-cu12-10.3.6.82\n",
            "  Attempting uninstall: nvidia-cufft-cu12\n",
            "    Found existing installation: nvidia-cufft-cu12 11.2.3.61\n",
            "    Uninstalling nvidia-cufft-cu12-11.2.3.61:\n",
            "      Successfully uninstalled nvidia-cufft-cu12-11.2.3.61\n",
            "  Attempting uninstall: nvidia-cuda-runtime-cu12\n",
            "    Found existing installation: nvidia-cuda-runtime-cu12 12.5.82\n",
            "    Uninstalling nvidia-cuda-runtime-cu12-12.5.82:\n",
            "      Successfully uninstalled nvidia-cuda-runtime-cu12-12.5.82\n",
            "  Attempting uninstall: nvidia-cuda-nvrtc-cu12\n",
            "    Found existing installation: nvidia-cuda-nvrtc-cu12 12.5.82\n",
            "    Uninstalling nvidia-cuda-nvrtc-cu12-12.5.82:\n",
            "      Successfully uninstalled nvidia-cuda-nvrtc-cu12-12.5.82\n",
            "  Attempting uninstall: nvidia-cuda-cupti-cu12\n",
            "    Found existing installation: nvidia-cuda-cupti-cu12 12.5.82\n",
            "    Uninstalling nvidia-cuda-cupti-cu12-12.5.82:\n",
            "      Successfully uninstalled nvidia-cuda-cupti-cu12-12.5.82\n",
            "  Attempting uninstall: nvidia-cublas-cu12\n",
            "    Found existing installation: nvidia-cublas-cu12 12.5.3.2\n",
            "    Uninstalling nvidia-cublas-cu12-12.5.3.2:\n",
            "      Successfully uninstalled nvidia-cublas-cu12-12.5.3.2\n",
            "  Attempting uninstall: nvidia-cusparse-cu12\n",
            "    Found existing installation: nvidia-cusparse-cu12 12.5.1.3\n",
            "    Uninstalling nvidia-cusparse-cu12-12.5.1.3:\n",
            "      Successfully uninstalled nvidia-cusparse-cu12-12.5.1.3\n",
            "  Attempting uninstall: nvidia-cudnn-cu12\n",
            "    Found existing installation: nvidia-cudnn-cu12 9.3.0.75\n",
            "    Uninstalling nvidia-cudnn-cu12-9.3.0.75:\n",
            "      Successfully uninstalled nvidia-cudnn-cu12-9.3.0.75\n",
            "  Attempting uninstall: nvidia-cusolver-cu12\n",
            "    Found existing installation: nvidia-cusolver-cu12 11.6.3.83\n",
            "    Uninstalling nvidia-cusolver-cu12-11.6.3.83:\n",
            "      Successfully uninstalled nvidia-cusolver-cu12-11.6.3.83\n",
            "Successfully installed nvidia-cublas-cu12-12.4.5.8 nvidia-cuda-cupti-cu12-12.4.127 nvidia-cuda-nvrtc-cu12-12.4.127 nvidia-cuda-runtime-cu12-12.4.127 nvidia-cudnn-cu12-9.1.0.70 nvidia-cufft-cu12-11.2.1.3 nvidia-curand-cu12-10.3.5.147 nvidia-cusolver-cu12-11.6.1.9 nvidia-cusparse-cu12-12.3.1.170 nvidia-nvjitlink-cu12-12.4.127 ultralytics-8.3.69 ultralytics-thop-2.0.14\n"
          ]
        }
      ],
      "source": [
        "!pip install ultralytics"
      ]
    },
    {
      "cell_type": "markdown",
      "metadata": {
        "id": "odrruaB7YtGN"
      },
      "source": [
        "# Import Libraries"
      ]
    },
    {
      "cell_type": "code",
      "execution_count": 2,
      "metadata": {
        "colab": {
          "base_uri": "https://localhost:8080/"
        },
        "id": "JUaPVzoiYvQu",
        "outputId": "6ed474ae-24cd-4f51-9f96-f19dc74094b1"
      },
      "outputs": [
        {
          "output_type": "stream",
          "name": "stdout",
          "text": [
            "Creating new Ultralytics Settings v0.0.6 file ✅ \n",
            "View Ultralytics Settings with 'yolo settings' or at '/root/.config/Ultralytics/settings.json'\n",
            "Update Settings with 'yolo settings key=value', i.e. 'yolo settings runs_dir=path/to/dir'. For help see https://docs.ultralytics.com/quickstart/#ultralytics-settings.\n"
          ]
        }
      ],
      "source": [
        "from ultralytics import YOLO\n",
        "from google.colab import drive, files"
      ]
    },
    {
      "cell_type": "markdown",
      "metadata": {
        "id": "15QRYQezY133"
      },
      "source": [
        "# Mount Google Drive"
      ]
    },
    {
      "cell_type": "code",
      "execution_count": 3,
      "metadata": {
        "colab": {
          "base_uri": "https://localhost:8080/"
        },
        "id": "ZJol0bHVnCND",
        "outputId": "bcbb863c-d7a5-4bfd-c267-19cb98ff30a6"
      },
      "outputs": [
        {
          "output_type": "stream",
          "name": "stdout",
          "text": [
            "Mounted at /content/gdrive\n"
          ]
        }
      ],
      "source": [
        "drive.mount('/content/gdrive')"
      ]
    },
    {
      "cell_type": "markdown",
      "metadata": {
        "id": "iL2s_X0pY6Ul"
      },
      "source": [
        "# Prepare data"
      ]
    },
    {
      "cell_type": "code",
      "execution_count": 4,
      "metadata": {
        "colab": {
          "base_uri": "https://localhost:8080/"
        },
        "collapsed": true,
        "id": "5lvcOogrnENq",
        "outputId": "193934fc-930f-4597-9f2b-08f6d6eb7173"
      },
      "outputs": [
        {
          "output_type": "stream",
          "name": "stdout",
          "text": [
            "Archive:  /content/Sudanese License Plate Dataset.zip\n",
            "   creating: /content/Sudanese License Plate Dataset/\n",
            "   creating: /content/Sudanese License Plate Dataset/test/\n",
            "   creating: /content/Sudanese License Plate Dataset/test/images/\n",
            "  inflating: /content/Sudanese License Plate Dataset/test/images/120592968.vhfcssKY.SudanDec09002.jpg  \n",
            "  inflating: /content/Sudanese License Plate Dataset/test/images/4. License Plate.JPG  \n",
            "  inflating: /content/Sudanese License Plate Dataset/test/images/afcb924783416bcd53e00958dd926b7395b915e9-170418185349.jpg  \n",
            "  inflating: /content/Sudanese License Plate Dataset/test/images/AF_SUDA_OT2 (1).jpg  \n",
            "  inflating: /content/Sudanese License Plate Dataset/test/images/AF_SUDA_OT2.jpg  \n",
            "  inflating: /content/Sudanese License Plate Dataset/test/images/GOV.png  \n",
            "  inflating: /content/Sudanese License Plate Dataset/test/images/image cropped in 2023_09_03_17_58_05.jpg  \n",
            "  inflating: /content/Sudanese License Plate Dataset/test/images/image cropped in 2023_09_03_17_58_38.jpg  \n",
            "  inflating: /content/Sudanese License Plate Dataset/test/images/image cropped in 2023_09_03_17_58_49.jpg  \n",
            "  inflating: /content/Sudanese License Plate Dataset/test/images/image cropped in 2025_01_18_20_03_54.jpg  \n",
            "  inflating: /content/Sudanese License Plate Dataset/test/images/image cropped in 2025_01_18_20_10_04.jpg  \n",
            "  inflating: /content/Sudanese License Plate Dataset/test/images/image cropped in 2025_01_18_20_11_17.jpg  \n",
            "  inflating: /content/Sudanese License Plate Dataset/test/images/image cropped in 2025_01_18_20_11_45.jpg  \n",
            "  inflating: /content/Sudanese License Plate Dataset/test/images/image cropped in 2025_01_18_20_12_46.jpg  \n",
            "  inflating: /content/Sudanese License Plate Dataset/test/images/image cropped in 2025_01_18_20_12_58.jpg  \n",
            "  inflating: /content/Sudanese License Plate Dataset/test/images/image cropped in 2025_01_18_20_13_09.jpg  \n",
            "  inflating: /content/Sudanese License Plate Dataset/test/images/image cropped in 2025_01_18_20_13_34.jpg  \n",
            "  inflating: /content/Sudanese License Plate Dataset/test/images/image cropped in 2025_01_18_20_13_44.jpg  \n",
            "  inflating: /content/Sudanese License Plate Dataset/test/images/image cropped in 2025_01_18_20_13_57.jpg  \n",
            "  inflating: /content/Sudanese License Plate Dataset/test/images/image cropped in 2025_01_18_20_14_11.jpg  \n",
            "  inflating: /content/Sudanese License Plate Dataset/test/images/image cropped in 2025_01_18_20_14_24.jpg  \n",
            "  inflating: /content/Sudanese License Plate Dataset/test/images/image cropped in 2025_01_18_20_14_36.jpg  \n",
            "  inflating: /content/Sudanese License Plate Dataset/test/images/image cropped in 2025_01_18_20_15_03.jpg  \n",
            "  inflating: /content/Sudanese License Plate Dataset/test/images/image cropped in 2025_01_18_20_15_15.jpg  \n",
            "  inflating: /content/Sudanese License Plate Dataset/test/images/image cropped in 2025_01_18_20_15_34.jpg  \n",
            "  inflating: /content/Sudanese License Plate Dataset/test/images/image cropped in 2025_01_18_20_15_48.jpg  \n",
            "  inflating: /content/Sudanese License Plate Dataset/test/images/image cropped in 2025_01_18_20_16_12.jpg  \n",
            "  inflating: /content/Sudanese License Plate Dataset/test/images/image cropped in 2025_01_18_20_16_26.jpg  \n",
            "  inflating: /content/Sudanese License Plate Dataset/test/images/image cropped in 2025_01_18_20_16_43.jpg  \n",
            "  inflating: /content/Sudanese License Plate Dataset/test/images/image cropped in 2025_01_18_20_16_56.jpg  \n",
            "  inflating: /content/Sudanese License Plate Dataset/test/images/image cropped in 2025_01_18_20_17_31.jpg  \n",
            "  inflating: /content/Sudanese License Plate Dataset/test/images/image cropped in 2025_01_18_20_17_42.jpg  \n",
            "  inflating: /content/Sudanese License Plate Dataset/test/images/image cropped in 2025_01_18_20_17_56.jpg  \n",
            "  inflating: /content/Sudanese License Plate Dataset/test/images/image cropped in 2025_01_18_20_18_35.jpg  \n",
            "  inflating: /content/Sudanese License Plate Dataset/test/images/image cropped in 2025_01_19_13_49_06.jpg  \n",
            "  inflating: /content/Sudanese License Plate Dataset/test/images/image cropped in 2025_01_19_13_49_34.jpg  \n",
            "  inflating: /content/Sudanese License Plate Dataset/test/images/image cropped in 2025_01_19_13_49_52.jpg  \n",
            "  inflating: /content/Sudanese License Plate Dataset/test/images/image cropped in 2025_01_19_13_50_20.jpg  \n",
            "  inflating: /content/Sudanese License Plate Dataset/test/images/image cropped in 2025_01_19_13_50_36.jpg  \n",
            "  inflating: /content/Sudanese License Plate Dataset/test/images/image cropped in 2025_01_19_13_50_55.jpg  \n",
            "  inflating: /content/Sudanese License Plate Dataset/test/images/image cropped in 2025_01_19_13_51_12.jpg  \n",
            "  inflating: /content/Sudanese License Plate Dataset/test/images/image cropped in 2025_01_19_13_51_42.jpg  \n",
            "  inflating: /content/Sudanese License Plate Dataset/test/images/image cropped in 2025_01_19_13_52_00.jpg  \n",
            "  inflating: /content/Sudanese License Plate Dataset/test/images/image cropped in 2025_01_19_13_53_46.jpg  \n",
            "  inflating: /content/Sudanese License Plate Dataset/test/images/image cropped in 2025_01_19_13_55_07.jpg  \n",
            "  inflating: /content/Sudanese License Plate Dataset/test/images/image cropped in 2025_01_19_13_55_26.jpg  \n",
            "  inflating: /content/Sudanese License Plate Dataset/test/images/image cropped in 2025_01_19_13_55_46.jpg  \n",
            "  inflating: /content/Sudanese License Plate Dataset/test/images/image cropped in 2025_01_19_13_55_56.jpg  \n",
            "  inflating: /content/Sudanese License Plate Dataset/test/images/image cropped in 2025_01_19_13_58_35.jpg  \n",
            "  inflating: /content/Sudanese License Plate Dataset/test/images/image cropped in 2025_01_20_04_54_21.jpg  \n",
            "  inflating: /content/Sudanese License Plate Dataset/test/images/image cropped in 2025_01_20_04_54_56.jpg  \n",
            "  inflating: /content/Sudanese License Plate Dataset/test/images/image cropped in 2025_01_20_05_01_32.jpg  \n",
            "  inflating: /content/Sudanese License Plate Dataset/test/images/image cropped in 2025_01_21_08_29_42.jpg  \n",
            "  inflating: /content/Sudanese License Plate Dataset/test/images/image cropped in 2025_01_21_08_29_57.jpg  \n",
            "  inflating: /content/Sudanese License Plate Dataset/test/images/image cropped in 2025_01_21_08_30_10.jpg  \n",
            "  inflating: /content/Sudanese License Plate Dataset/test/images/image cropped in 2025_01_21_08_30_25.jpg  \n",
            "  inflating: /content/Sudanese License Plate Dataset/test/images/image cropped in 2025_01_21_08_33_47.jpg  \n",
            "  inflating: /content/Sudanese License Plate Dataset/test/images/image cropped in 2025_01_21_08_34_10.jpg  \n",
            "  inflating: /content/Sudanese License Plate Dataset/test/images/image cropped in 2025_01_21_08_34_24.jpg  \n",
            "  inflating: /content/Sudanese License Plate Dataset/test/images/image cropped in 2025_01_21_08_34_40.jpg  \n",
            "  inflating: /content/Sudanese License Plate Dataset/test/images/image cropped in 2025_01_21_08_34_59.jpg  \n",
            "  inflating: /content/Sudanese License Plate Dataset/test/images/image cropped in 2025_01_21_08_35_47.jpg  \n",
            "  inflating: /content/Sudanese License Plate Dataset/test/images/image cropped in 2025_01_21_08_35_57.jpg  \n",
            "  inflating: /content/Sudanese License Plate Dataset/test/images/image cropped in 2025_01_21_08_36_07.jpg  \n",
            "  inflating: /content/Sudanese License Plate Dataset/test/images/image cropped in 2025_01_21_08_36_15.jpg  \n",
            "  inflating: /content/Sudanese License Plate Dataset/test/images/image cropped in 2025_01_21_08_36_35.jpg  \n",
            "   creating: /content/Sudanese License Plate Dataset/test/labels/\n",
            "  inflating: /content/Sudanese License Plate Dataset/test/labels/120592968.vhfcssKY.SudanDec09002.txt  \n",
            "  inflating: /content/Sudanese License Plate Dataset/test/labels/4. License Plate.txt  \n",
            "  inflating: /content/Sudanese License Plate Dataset/test/labels/afcb924783416bcd53e00958dd926b7395b915e9-170418185349.txt  \n",
            "  inflating: /content/Sudanese License Plate Dataset/test/labels/AF_SUDA_OT2 (1).txt  \n",
            "  inflating: /content/Sudanese License Plate Dataset/test/labels/AF_SUDA_OT2.txt  \n",
            "  inflating: /content/Sudanese License Plate Dataset/test/labels/GOV.txt  \n",
            "  inflating: /content/Sudanese License Plate Dataset/test/labels/image cropped in 2023_09_03_17_58_05.txt  \n",
            "  inflating: /content/Sudanese License Plate Dataset/test/labels/image cropped in 2023_09_03_17_58_38.txt  \n",
            "  inflating: /content/Sudanese License Plate Dataset/test/labels/image cropped in 2023_09_03_17_58_49.txt  \n",
            "  inflating: /content/Sudanese License Plate Dataset/test/labels/image cropped in 2025_01_18_20_03_54.txt  \n",
            "  inflating: /content/Sudanese License Plate Dataset/test/labels/image cropped in 2025_01_18_20_10_04.txt  \n",
            "  inflating: /content/Sudanese License Plate Dataset/test/labels/image cropped in 2025_01_18_20_11_17.txt  \n",
            "  inflating: /content/Sudanese License Plate Dataset/test/labels/image cropped in 2025_01_18_20_11_45.txt  \n",
            "  inflating: /content/Sudanese License Plate Dataset/test/labels/image cropped in 2025_01_18_20_12_46.txt  \n",
            "  inflating: /content/Sudanese License Plate Dataset/test/labels/image cropped in 2025_01_18_20_12_58.txt  \n",
            "  inflating: /content/Sudanese License Plate Dataset/test/labels/image cropped in 2025_01_18_20_13_09.txt  \n",
            "  inflating: /content/Sudanese License Plate Dataset/test/labels/image cropped in 2025_01_18_20_13_34.txt  \n",
            "  inflating: /content/Sudanese License Plate Dataset/test/labels/image cropped in 2025_01_18_20_13_44.txt  \n",
            "  inflating: /content/Sudanese License Plate Dataset/test/labels/image cropped in 2025_01_18_20_13_57.txt  \n",
            "  inflating: /content/Sudanese License Plate Dataset/test/labels/image cropped in 2025_01_18_20_14_11.txt  \n",
            "  inflating: /content/Sudanese License Plate Dataset/test/labels/image cropped in 2025_01_18_20_14_24.txt  \n",
            "  inflating: /content/Sudanese License Plate Dataset/test/labels/image cropped in 2025_01_18_20_14_36.txt  \n",
            "  inflating: /content/Sudanese License Plate Dataset/test/labels/image cropped in 2025_01_18_20_15_03.txt  \n",
            "  inflating: /content/Sudanese License Plate Dataset/test/labels/image cropped in 2025_01_18_20_15_15.txt  \n",
            "  inflating: /content/Sudanese License Plate Dataset/test/labels/image cropped in 2025_01_18_20_15_34.txt  \n",
            "  inflating: /content/Sudanese License Plate Dataset/test/labels/image cropped in 2025_01_18_20_15_48.txt  \n",
            "  inflating: /content/Sudanese License Plate Dataset/test/labels/image cropped in 2025_01_18_20_16_12.txt  \n",
            "  inflating: /content/Sudanese License Plate Dataset/test/labels/image cropped in 2025_01_18_20_16_26.txt  \n",
            "  inflating: /content/Sudanese License Plate Dataset/test/labels/image cropped in 2025_01_18_20_16_43.txt  \n",
            "  inflating: /content/Sudanese License Plate Dataset/test/labels/image cropped in 2025_01_18_20_16_56.txt  \n",
            "  inflating: /content/Sudanese License Plate Dataset/test/labels/image cropped in 2025_01_18_20_17_31.txt  \n",
            "  inflating: /content/Sudanese License Plate Dataset/test/labels/image cropped in 2025_01_18_20_17_42.txt  \n",
            "  inflating: /content/Sudanese License Plate Dataset/test/labels/image cropped in 2025_01_18_20_17_56.txt  \n",
            "  inflating: /content/Sudanese License Plate Dataset/test/labels/image cropped in 2025_01_18_20_18_35.txt  \n",
            "  inflating: /content/Sudanese License Plate Dataset/test/labels/image cropped in 2025_01_19_13_49_06.txt  \n",
            "  inflating: /content/Sudanese License Plate Dataset/test/labels/image cropped in 2025_01_19_13_49_34.txt  \n",
            "  inflating: /content/Sudanese License Plate Dataset/test/labels/image cropped in 2025_01_19_13_49_52.txt  \n",
            "  inflating: /content/Sudanese License Plate Dataset/test/labels/image cropped in 2025_01_19_13_50_20.txt  \n",
            "  inflating: /content/Sudanese License Plate Dataset/test/labels/image cropped in 2025_01_19_13_50_36.txt  \n",
            "  inflating: /content/Sudanese License Plate Dataset/test/labels/image cropped in 2025_01_19_13_50_55.txt  \n",
            "  inflating: /content/Sudanese License Plate Dataset/test/labels/image cropped in 2025_01_19_13_51_12.txt  \n",
            "  inflating: /content/Sudanese License Plate Dataset/test/labels/image cropped in 2025_01_19_13_51_42.txt  \n",
            "  inflating: /content/Sudanese License Plate Dataset/test/labels/image cropped in 2025_01_19_13_52_00.txt  \n",
            "  inflating: /content/Sudanese License Plate Dataset/test/labels/image cropped in 2025_01_19_13_53_46.txt  \n",
            "  inflating: /content/Sudanese License Plate Dataset/test/labels/image cropped in 2025_01_19_13_55_07.txt  \n",
            "  inflating: /content/Sudanese License Plate Dataset/test/labels/image cropped in 2025_01_19_13_55_26.txt  \n",
            "  inflating: /content/Sudanese License Plate Dataset/test/labels/image cropped in 2025_01_19_13_55_46.txt  \n",
            "  inflating: /content/Sudanese License Plate Dataset/test/labels/image cropped in 2025_01_19_13_55_56.txt  \n",
            "  inflating: /content/Sudanese License Plate Dataset/test/labels/image cropped in 2025_01_19_13_58_35.txt  \n",
            "  inflating: /content/Sudanese License Plate Dataset/test/labels/image cropped in 2025_01_20_04_54_21.txt  \n",
            "  inflating: /content/Sudanese License Plate Dataset/test/labels/image cropped in 2025_01_20_04_54_56.txt  \n",
            "  inflating: /content/Sudanese License Plate Dataset/test/labels/image cropped in 2025_01_20_05_01_32.txt  \n",
            "  inflating: /content/Sudanese License Plate Dataset/test/labels/image cropped in 2025_01_21_08_29_42.txt  \n",
            "  inflating: /content/Sudanese License Plate Dataset/test/labels/image cropped in 2025_01_21_08_29_57.txt  \n",
            "  inflating: /content/Sudanese License Plate Dataset/test/labels/image cropped in 2025_01_21_08_30_10.txt  \n",
            "  inflating: /content/Sudanese License Plate Dataset/test/labels/image cropped in 2025_01_21_08_30_25.txt  \n",
            "  inflating: /content/Sudanese License Plate Dataset/test/labels/image cropped in 2025_01_21_08_33_47.txt  \n",
            "  inflating: /content/Sudanese License Plate Dataset/test/labels/image cropped in 2025_01_21_08_34_10.txt  \n",
            "  inflating: /content/Sudanese License Plate Dataset/test/labels/image cropped in 2025_01_21_08_34_24.txt  \n",
            "  inflating: /content/Sudanese License Plate Dataset/test/labels/image cropped in 2025_01_21_08_34_40.txt  \n",
            "  inflating: /content/Sudanese License Plate Dataset/test/labels/image cropped in 2025_01_21_08_34_59.txt  \n",
            "  inflating: /content/Sudanese License Plate Dataset/test/labels/image cropped in 2025_01_21_08_35_47.txt  \n",
            "  inflating: /content/Sudanese License Plate Dataset/test/labels/image cropped in 2025_01_21_08_35_57.txt  \n",
            "  inflating: /content/Sudanese License Plate Dataset/test/labels/image cropped in 2025_01_21_08_36_07.txt  \n",
            "  inflating: /content/Sudanese License Plate Dataset/test/labels/image cropped in 2025_01_21_08_36_15.txt  \n",
            "  inflating: /content/Sudanese License Plate Dataset/test/labels/image cropped in 2025_01_21_08_36_35.txt  \n",
            "   creating: /content/Sudanese License Plate Dataset/train/\n",
            "   creating: /content/Sudanese License Plate Dataset/train/images/\n",
            "  inflating: /content/Sudanese License Plate Dataset/train/images/image cropped in 2025_01_21_11_37_52.jpg  \n",
            "  inflating: /content/Sudanese License Plate Dataset/train/images/image cropped in 2025_01_21_11_38_02.jpg  \n",
            "  inflating: /content/Sudanese License Plate Dataset/train/images/image cropped in 2025_01_21_11_38_43.jpg  \n",
            "  inflating: /content/Sudanese License Plate Dataset/train/images/image cropped in 2025_01_21_11_38_52.jpg  \n",
            "  inflating: /content/Sudanese License Plate Dataset/train/images/image cropped in 2025_01_21_11_39_19.jpg  \n",
            "  inflating: /content/Sudanese License Plate Dataset/train/images/image cropped in 2025_01_21_11_39_28.jpg  \n",
            "  inflating: /content/Sudanese License Plate Dataset/train/images/image cropped in 2025_01_21_11_39_37.jpg  \n",
            "  inflating: /content/Sudanese License Plate Dataset/train/images/image cropped in 2025_01_21_11_39_46.jpg  \n",
            "  inflating: /content/Sudanese License Plate Dataset/train/images/image cropped in 2025_01_21_11_39_55.jpg  \n",
            "  inflating: /content/Sudanese License Plate Dataset/train/images/image cropped in 2025_01_21_11_40_08.jpg  \n",
            "  inflating: /content/Sudanese License Plate Dataset/train/images/image cropped in 2025_01_21_11_40_18.jpg  \n",
            "  inflating: /content/Sudanese License Plate Dataset/train/images/image cropped in 2025_01_21_11_40_27.jpg  \n",
            "  inflating: /content/Sudanese License Plate Dataset/train/images/image cropped in 2025_01_21_11_40_37.jpg  \n",
            "  inflating: /content/Sudanese License Plate Dataset/train/images/image cropped in 2025_01_21_11_40_46.jpg  \n",
            "  inflating: /content/Sudanese License Plate Dataset/train/images/image cropped in 2025_01_21_11_42_16.jpg  \n",
            "  inflating: /content/Sudanese License Plate Dataset/train/images/image cropped in 2025_01_21_11_42_26.jpg  \n",
            "  inflating: /content/Sudanese License Plate Dataset/train/images/image cropped in 2025_01_21_11_42_43.jpg  \n",
            "  inflating: /content/Sudanese License Plate Dataset/train/images/image cropped in 2025_01_21_11_43_00.jpg  \n",
            "  inflating: /content/Sudanese License Plate Dataset/train/images/image cropped in 2025_01_21_11_43_13.jpg  \n",
            "  inflating: /content/Sudanese License Plate Dataset/train/images/image cropped in 2025_01_21_11_43_35.jpg  \n",
            "  inflating: /content/Sudanese License Plate Dataset/train/images/image cropped in 2025_01_21_11_43_51.jpg  \n",
            "  inflating: /content/Sudanese License Plate Dataset/train/images/image cropped in 2025_01_21_11_44_02.jpg  \n",
            "  inflating: /content/Sudanese License Plate Dataset/train/images/image cropped in 2025_01_21_11_44_12.jpg  \n",
            "  inflating: /content/Sudanese License Plate Dataset/train/images/image cropped in 2025_01_21_11_44_24.jpg  \n",
            "  inflating: /content/Sudanese License Plate Dataset/train/images/image cropped in 2025_01_21_11_44_56.jpg  \n",
            "  inflating: /content/Sudanese License Plate Dataset/train/images/image cropped in 2025_01_21_11_45_06.jpg  \n",
            "  inflating: /content/Sudanese License Plate Dataset/train/images/image cropped in 2025_01_21_11_45_17.jpg  \n",
            "  inflating: /content/Sudanese License Plate Dataset/train/images/image cropped in 2025_01_21_11_45_25.jpg  \n",
            "  inflating: /content/Sudanese License Plate Dataset/train/images/image cropped in 2025_01_21_11_45_47.jpg  \n",
            "  inflating: /content/Sudanese License Plate Dataset/train/images/image cropped in 2025_01_21_11_46_30.jpg  \n",
            "  inflating: /content/Sudanese License Plate Dataset/train/images/image cropped in 2025_01_21_11_46_40.jpg  \n",
            "  inflating: /content/Sudanese License Plate Dataset/train/images/image cropped in 2025_01_21_11_46_49.jpg  \n",
            "  inflating: /content/Sudanese License Plate Dataset/train/images/image cropped in 2025_01_21_11_46_58.jpg  \n",
            "  inflating: /content/Sudanese License Plate Dataset/train/images/image cropped in 2025_01_21_11_48_14.jpg  \n",
            "  inflating: /content/Sudanese License Plate Dataset/train/images/image cropped in 2025_01_21_11_48_40.jpg  \n",
            "  inflating: /content/Sudanese License Plate Dataset/train/images/image cropped in 2025_01_21_11_48_49.jpg  \n",
            "  inflating: /content/Sudanese License Plate Dataset/train/images/image cropped in 2025_01_21_11_49_48.jpg  \n",
            "  inflating: /content/Sudanese License Plate Dataset/train/images/image cropped in 2025_01_21_11_50_00.jpg  \n",
            "  inflating: /content/Sudanese License Plate Dataset/train/images/image cropped in 2025_01_21_11_50_15.jpg  \n",
            "  inflating: /content/Sudanese License Plate Dataset/train/images/image cropped in 2025_01_21_11_50_34.jpg  \n",
            "  inflating: /content/Sudanese License Plate Dataset/train/images/image cropped in 2025_01_21_11_50_47.jpg  \n",
            "  inflating: /content/Sudanese License Plate Dataset/train/images/image cropped in 2025_01_21_11_51_02.jpg  \n",
            "  inflating: /content/Sudanese License Plate Dataset/train/images/image cropped in 2025_01_21_11_51_15.jpg  \n",
            "  inflating: /content/Sudanese License Plate Dataset/train/images/image cropped in 2025_01_21_11_51_27.jpg  \n",
            "  inflating: /content/Sudanese License Plate Dataset/train/images/image cropped in 2025_01_21_11_51_39.jpg  \n",
            "  inflating: /content/Sudanese License Plate Dataset/train/images/image cropped in 2025_01_21_11_51_49.jpg  \n",
            "  inflating: /content/Sudanese License Plate Dataset/train/images/image cropped in 2025_01_21_11_51_59.jpg  \n",
            "  inflating: /content/Sudanese License Plate Dataset/train/images/image cropped in 2025_01_21_11_52_09.jpg  \n",
            "  inflating: /content/Sudanese License Plate Dataset/train/images/image cropped in 2025_01_21_11_54_35.jpg  \n",
            "  inflating: /content/Sudanese License Plate Dataset/train/images/image cropped in 2025_01_21_11_55_38.jpg  \n",
            "  inflating: /content/Sudanese License Plate Dataset/train/images/image cropped in 2025_01_21_11_56_03.jpg  \n",
            "  inflating: /content/Sudanese License Plate Dataset/train/images/image cropped in 2025_01_21_11_56_12.jpg  \n",
            "  inflating: /content/Sudanese License Plate Dataset/train/images/image cropped in 2025_01_21_11_56_23.jpg  \n",
            "  inflating: /content/Sudanese License Plate Dataset/train/images/image cropped in 2025_01_21_11_56_34.jpg  \n",
            "  inflating: /content/Sudanese License Plate Dataset/train/images/image cropped in 2025_01_21_11_56_47.jpg  \n",
            "  inflating: /content/Sudanese License Plate Dataset/train/images/image cropped in 2025_01_21_11_56_56.jpg  \n",
            "  inflating: /content/Sudanese License Plate Dataset/train/images/image cropped in 2025_01_21_11_57_07.jpg  \n",
            "  inflating: /content/Sudanese License Plate Dataset/train/images/image cropped in 2025_01_21_11_57_18.jpg  \n",
            "  inflating: /content/Sudanese License Plate Dataset/train/images/image cropped in 2025_01_21_11_57_28.jpg  \n",
            "  inflating: /content/Sudanese License Plate Dataset/train/images/image cropped in 2025_01_21_11_57_37.jpg  \n",
            "  inflating: /content/Sudanese License Plate Dataset/train/images/image cropped in 2025_01_21_11_57_52.jpg  \n",
            "  inflating: /content/Sudanese License Plate Dataset/train/images/image cropped in 2025_01_21_11_58_01.jpg  \n",
            "  inflating: /content/Sudanese License Plate Dataset/train/images/image cropped in 2025_01_21_11_58_10.jpg  \n",
            "  inflating: /content/Sudanese License Plate Dataset/train/images/image cropped in 2025_01_21_11_58_21.jpg  \n",
            "  inflating: /content/Sudanese License Plate Dataset/train/images/image cropped in 2025_01_21_11_58_31.jpg  \n",
            "  inflating: /content/Sudanese License Plate Dataset/train/images/image cropped in 2025_01_21_12_19_24.jpg  \n",
            "  inflating: /content/Sudanese License Plate Dataset/train/images/image cropped in 2025_01_21_12_19_40.jpg  \n",
            "  inflating: /content/Sudanese License Plate Dataset/train/images/image cropped in 2025_01_21_12_19_53.jpg  \n",
            "  inflating: /content/Sudanese License Plate Dataset/train/images/image cropped in 2025_01_21_12_20_03.jpg  \n",
            "  inflating: /content/Sudanese License Plate Dataset/train/images/image cropped in 2025_01_21_12_20_15.jpg  \n",
            "  inflating: /content/Sudanese License Plate Dataset/train/images/image cropped in 2025_01_21_12_20_25.jpg  \n",
            "  inflating: /content/Sudanese License Plate Dataset/train/images/image cropped in 2025_01_21_12_20_37.jpg  \n",
            "  inflating: /content/Sudanese License Plate Dataset/train/images/image cropped in 2025_01_22_03_36_47.jpg  \n",
            "  inflating: /content/Sudanese License Plate Dataset/train/images/image cropped in 2025_01_22_03_36_57.jpg  \n",
            "  inflating: /content/Sudanese License Plate Dataset/train/images/image cropped in 2025_01_22_03_37_06.jpg  \n",
            "  inflating: /content/Sudanese License Plate Dataset/train/images/image cropped in 2025_01_22_03_37_17.jpg  \n",
            "  inflating: /content/Sudanese License Plate Dataset/train/images/image cropped in 2025_01_22_03_37_28.jpg  \n",
            "  inflating: /content/Sudanese License Plate Dataset/train/images/image cropped in 2025_01_22_03_37_37.jpg  \n",
            "  inflating: /content/Sudanese License Plate Dataset/train/images/image cropped in 2025_01_22_03_37_49.jpg  \n",
            "  inflating: /content/Sudanese License Plate Dataset/train/images/image cropped in 2025_01_22_03_37_59.jpg  \n",
            "  inflating: /content/Sudanese License Plate Dataset/train/images/image cropped in 2025_01_22_03_38_10.jpg  \n",
            "  inflating: /content/Sudanese License Plate Dataset/train/images/image cropped in 2025_01_22_03_38_20.jpg  \n",
            "  inflating: /content/Sudanese License Plate Dataset/train/images/image cropped in 2025_01_22_03_38_30.jpg  \n",
            "  inflating: /content/Sudanese License Plate Dataset/train/images/image cropped in 2025_01_22_03_38_39.jpg  \n",
            "  inflating: /content/Sudanese License Plate Dataset/train/images/image cropped in 2025_01_22_03_45_03.jpg  \n",
            "  inflating: /content/Sudanese License Plate Dataset/train/images/image cropped in 2025_01_22_03_46_27.jpg  \n",
            "  inflating: /content/Sudanese License Plate Dataset/train/images/image cropped in 2025_01_22_03_47_29.jpg  \n",
            "  inflating: /content/Sudanese License Plate Dataset/train/images/image cropped in 2025_01_22_03_48_21.jpg  \n",
            "  inflating: /content/Sudanese License Plate Dataset/train/images/image cropped in 2025_01_22_03_48_34.jpg  \n",
            "  inflating: /content/Sudanese License Plate Dataset/train/images/image cropped in 2025_01_22_06_02_32.jpg  \n",
            "  inflating: /content/Sudanese License Plate Dataset/train/images/image cropped in 2025_01_22_06_03_02.jpg  \n",
            "  inflating: /content/Sudanese License Plate Dataset/train/images/image cropped in 2025_01_22_06_03_24.jpg  \n",
            "  inflating: /content/Sudanese License Plate Dataset/train/images/image cropped in 2025_01_22_06_03_44.jpg  \n",
            "  inflating: /content/Sudanese License Plate Dataset/train/images/image cropped in 2025_01_22_06_04_06.jpg  \n",
            "  inflating: /content/Sudanese License Plate Dataset/train/images/image cropped in 2025_01_22_06_04_36.jpg  \n",
            "  inflating: /content/Sudanese License Plate Dataset/train/images/image cropped in 2025_01_22_06_04_56.jpg  \n",
            "  inflating: /content/Sudanese License Plate Dataset/train/images/image cropped in 2025_01_22_06_05_14.jpg  \n",
            "  inflating: /content/Sudanese License Plate Dataset/train/images/image cropped in 2025_01_22_06_05_37.jpg  \n",
            "  inflating: /content/Sudanese License Plate Dataset/train/images/image cropped in 2025_01_22_06_05_56.jpg  \n",
            "  inflating: /content/Sudanese License Plate Dataset/train/images/image cropped in 2025_01_22_06_06_55.jpg  \n",
            "  inflating: /content/Sudanese License Plate Dataset/train/images/image cropped in 2025_01_22_06_07_17.jpg  \n",
            "  inflating: /content/Sudanese License Plate Dataset/train/images/image cropped in 2025_01_22_06_07_43.jpg  \n",
            "  inflating: /content/Sudanese License Plate Dataset/train/images/image cropped in 2025_01_22_06_08_05.jpg  \n",
            "  inflating: /content/Sudanese License Plate Dataset/train/images/image cropped in 2025_01_22_06_08_26.jpg  \n",
            "  inflating: /content/Sudanese License Plate Dataset/train/images/image cropped in 2025_01_22_06_09_01.jpg  \n",
            "  inflating: /content/Sudanese License Plate Dataset/train/images/image cropped in 2025_01_22_06_09_28.jpg  \n",
            "  inflating: /content/Sudanese License Plate Dataset/train/images/image cropped in 2025_01_22_06_09_59.jpg  \n",
            "  inflating: /content/Sudanese License Plate Dataset/train/images/image cropped in 2025_01_22_06_10_23.jpg  \n",
            "  inflating: /content/Sudanese License Plate Dataset/train/images/image cropped in 2025_01_22_06_10_45.jpg  \n",
            "  inflating: /content/Sudanese License Plate Dataset/train/images/image cropped in 2025_01_22_06_11_29.jpg  \n",
            "  inflating: /content/Sudanese License Plate Dataset/train/images/image cropped in 2025_01_22_06_11_52.jpg  \n",
            "  inflating: /content/Sudanese License Plate Dataset/train/images/image cropped in 2025_01_22_06_12_27.jpg  \n",
            "  inflating: /content/Sudanese License Plate Dataset/train/images/image cropped in 2025_01_22_06_12_58.jpg  \n",
            "  inflating: /content/Sudanese License Plate Dataset/train/images/image cropped in 2025_01_22_06_13_25.jpg  \n",
            "  inflating: /content/Sudanese License Plate Dataset/train/images/image cropped in 2025_01_22_06_14_21.jpg  \n",
            "  inflating: /content/Sudanese License Plate Dataset/train/images/image cropped in 2025_01_22_06_14_51.jpg  \n",
            "  inflating: /content/Sudanese License Plate Dataset/train/images/image cropped in 2025_01_22_06_15_30.jpg  \n",
            "  inflating: /content/Sudanese License Plate Dataset/train/images/image cropped in 2025_01_22_06_16_07.jpg  \n",
            "  inflating: /content/Sudanese License Plate Dataset/train/images/image cropped in 2025_01_22_06_16_26.jpg  \n",
            "  inflating: /content/Sudanese License Plate Dataset/train/images/image cropped in 2025_01_22_06_17_20.jpg  \n",
            "  inflating: /content/Sudanese License Plate Dataset/train/images/image cropped in 2025_01_22_06_17_54.jpg  \n",
            "  inflating: /content/Sudanese License Plate Dataset/train/images/image cropped in 2025_01_22_06_18_18.jpg  \n",
            "  inflating: /content/Sudanese License Plate Dataset/train/images/image cropped in 2025_01_22_06_18_43.jpg  \n",
            "  inflating: /content/Sudanese License Plate Dataset/train/images/image cropped in 2025_01_22_06_19_05.jpg  \n",
            "  inflating: /content/Sudanese License Plate Dataset/train/images/image cropped in 2025_01_22_06_19_31.jpg  \n",
            "  inflating: /content/Sudanese License Plate Dataset/train/images/image cropped in 2025_01_22_06_19_53.jpg  \n",
            "  inflating: /content/Sudanese License Plate Dataset/train/images/image cropped in 2025_01_22_06_20_09.jpg  \n",
            "  inflating: /content/Sudanese License Plate Dataset/train/images/image cropped in 2025_01_22_06_20_26.jpg  \n",
            "  inflating: /content/Sudanese License Plate Dataset/train/images/image cropped in 2025_01_22_06_20_51.jpg  \n",
            "  inflating: /content/Sudanese License Plate Dataset/train/images/image cropped in 2025_01_22_06_21_26.jpg  \n",
            "  inflating: /content/Sudanese License Plate Dataset/train/images/image cropped in 2025_01_22_06_21_54.jpg  \n",
            "  inflating: /content/Sudanese License Plate Dataset/train/images/image cropped in 2025_01_22_06_22_15.jpg  \n",
            "  inflating: /content/Sudanese License Plate Dataset/train/images/image cropped in 2025_01_22_06_22_42.jpg  \n",
            "  inflating: /content/Sudanese License Plate Dataset/train/images/image cropped in 2025_01_22_06_23_02.jpg  \n",
            "  inflating: /content/Sudanese License Plate Dataset/train/images/image cropped in 2025_01_22_06_25_09.jpg  \n",
            "  inflating: /content/Sudanese License Plate Dataset/train/images/image cropped in 2025_01_22_06_25_45.jpg  \n",
            "  inflating: /content/Sudanese License Plate Dataset/train/images/image cropped in 2025_01_22_06_25_58.jpg  \n",
            "  inflating: /content/Sudanese License Plate Dataset/train/images/image cropped in 2025_01_22_06_26_21.jpg  \n",
            "  inflating: /content/Sudanese License Plate Dataset/train/images/image cropped in 2025_01_22_06_26_39.jpg  \n",
            "  inflating: /content/Sudanese License Plate Dataset/train/images/image cropped in 2025_01_22_06_27_03.jpg  \n",
            "  inflating: /content/Sudanese License Plate Dataset/train/images/image cropped in 2025_01_22_06_27_26.jpg  \n",
            "  inflating: /content/Sudanese License Plate Dataset/train/images/image cropped in 2025_01_22_06_27_46.jpg  \n",
            "  inflating: /content/Sudanese License Plate Dataset/train/images/image cropped in 2025_01_22_06_28_05.jpg  \n",
            "  inflating: /content/Sudanese License Plate Dataset/train/images/image cropped in 2025_01_22_06_28_33.jpg  \n",
            "  inflating: /content/Sudanese License Plate Dataset/train/images/image cropped in 2025_01_22_06_28_58.jpg  \n",
            "  inflating: /content/Sudanese License Plate Dataset/train/images/image cropped in 2025_01_22_06_29_15.jpg  \n",
            "  inflating: /content/Sudanese License Plate Dataset/train/images/image cropped in 2025_01_22_06_29_36.jpg  \n",
            "  inflating: /content/Sudanese License Plate Dataset/train/images/image cropped in 2025_01_22_06_30_03.jpg  \n",
            "  inflating: /content/Sudanese License Plate Dataset/train/images/image cropped in 2025_01_22_06_30_46.jpg  \n",
            "  inflating: /content/Sudanese License Plate Dataset/train/images/image cropped in 2025_01_22_06_31_22.jpg  \n",
            "  inflating: /content/Sudanese License Plate Dataset/train/images/image cropped in 2025_01_22_06_31_41.jpg  \n",
            "  inflating: /content/Sudanese License Plate Dataset/train/images/image cropped in 2025_01_22_06_32_00.jpg  \n",
            "  inflating: /content/Sudanese License Plate Dataset/train/images/image cropped in 2025_01_22_06_32_24.jpg  \n",
            "  inflating: /content/Sudanese License Plate Dataset/train/images/image cropped in 2025_01_22_06_33_56.jpg  \n",
            "  inflating: /content/Sudanese License Plate Dataset/train/images/image cropped in 2025_01_22_06_34_47.jpg  \n",
            "  inflating: /content/Sudanese License Plate Dataset/train/images/image cropped in 2025_01_22_06_35_11.jpg  \n",
            "  inflating: /content/Sudanese License Plate Dataset/train/images/image cropped in 2025_01_22_06_35_36.jpg  \n",
            "  inflating: /content/Sudanese License Plate Dataset/train/images/image cropped in 2025_01_22_06_35_53.jpg  \n",
            "  inflating: /content/Sudanese License Plate Dataset/train/images/image cropped in 2025_01_22_06_36_14.jpg  \n",
            "  inflating: /content/Sudanese License Plate Dataset/train/images/image cropped in 2025_01_22_06_36_36.jpg  \n",
            "  inflating: /content/Sudanese License Plate Dataset/train/images/image cropped in 2025_01_22_06_36_59.jpg  \n",
            "  inflating: /content/Sudanese License Plate Dataset/train/images/image cropped in 2025_01_22_06_37_17.jpg  \n",
            "  inflating: /content/Sudanese License Plate Dataset/train/images/image cropped in 2025_01_22_06_37_34.jpg  \n",
            "  inflating: /content/Sudanese License Plate Dataset/train/images/image cropped in 2025_01_22_06_37_52.jpg  \n",
            "  inflating: /content/Sudanese License Plate Dataset/train/images/image cropped in 2025_01_22_06_47_48.jpg  \n",
            "  inflating: /content/Sudanese License Plate Dataset/train/images/image cropped in 2025_01_22_06_48_11.jpg  \n",
            "  inflating: /content/Sudanese License Plate Dataset/train/images/image cropped in 2025_01_22_06_48_34.jpg  \n",
            "  inflating: /content/Sudanese License Plate Dataset/train/images/image cropped in 2025_01_22_06_48_55.jpg  \n",
            "  inflating: /content/Sudanese License Plate Dataset/train/images/image cropped in 2025_01_22_06_49_13.jpg  \n",
            "  inflating: /content/Sudanese License Plate Dataset/train/images/image cropped in 2025_01_22_06_49_43.jpg  \n",
            "  inflating: /content/Sudanese License Plate Dataset/train/images/image cropped in 2025_01_22_06_50_17.jpg  \n",
            "  inflating: /content/Sudanese License Plate Dataset/train/images/image cropped in 2025_01_22_06_50_36.jpg  \n",
            "  inflating: /content/Sudanese License Plate Dataset/train/images/image cropped in 2025_01_22_06_51_04.jpg  \n",
            "  inflating: /content/Sudanese License Plate Dataset/train/images/image cropped in 2025_01_22_06_51_29.jpg  \n",
            "  inflating: /content/Sudanese License Plate Dataset/train/images/image cropped in 2025_01_22_06_52_43.jpg  \n",
            "  inflating: /content/Sudanese License Plate Dataset/train/images/image cropped in 2025_01_22_06_53_39.jpg  \n",
            "  inflating: /content/Sudanese License Plate Dataset/train/images/image cropped in 2025_01_22_06_56_00.jpg  \n",
            "  inflating: /content/Sudanese License Plate Dataset/train/images/image cropped in 2025_01_22_06_56_42.jpg  \n",
            "  inflating: /content/Sudanese License Plate Dataset/train/images/image cropped in 2025_01_22_06_57_08.jpg  \n",
            "  inflating: /content/Sudanese License Plate Dataset/train/images/image cropped in 2025_01_22_06_57_32.jpg  \n",
            "  inflating: /content/Sudanese License Plate Dataset/train/images/image cropped in 2025_01_22_06_57_54.jpg  \n",
            "  inflating: /content/Sudanese License Plate Dataset/train/images/image cropped in 2025_01_22_06_58_12.jpg  \n",
            "  inflating: /content/Sudanese License Plate Dataset/train/images/image cropped in 2025_01_22_06_58_35.jpg  \n",
            "  inflating: /content/Sudanese License Plate Dataset/train/images/image cropped in 2025_01_22_06_58_56.jpg  \n",
            "  inflating: /content/Sudanese License Plate Dataset/train/images/image cropped in 2025_01_22_06_59_23.jpg  \n",
            "  inflating: /content/Sudanese License Plate Dataset/train/images/image cropped in 2025_01_22_06_59_46.jpg  \n",
            "  inflating: /content/Sudanese License Plate Dataset/train/images/image cropped in 2025_01_22_07_00_03.jpg  \n",
            "  inflating: /content/Sudanese License Plate Dataset/train/images/image cropped in 2025_01_22_07_00_24.jpg  \n",
            "  inflating: /content/Sudanese License Plate Dataset/train/images/image cropped in 2025_01_22_07_00_46.jpg  \n",
            "  inflating: /content/Sudanese License Plate Dataset/train/images/image cropped in 2025_01_22_07_01_24.jpg  \n",
            "  inflating: /content/Sudanese License Plate Dataset/train/images/image cropped in 2025_01_22_07_03_00.jpg  \n",
            "  inflating: /content/Sudanese License Plate Dataset/train/images/image cropped in 2025_01_22_07_05_21.jpg  \n",
            "  inflating: /content/Sudanese License Plate Dataset/train/images/image cropped in 2025_01_22_07_05_39.jpg  \n",
            "  inflating: /content/Sudanese License Plate Dataset/train/images/image cropped in 2025_01_22_07_06_19.jpg  \n",
            "  inflating: /content/Sudanese License Plate Dataset/train/images/image cropped in 2025_01_22_07_07_04.jpg  \n",
            "  inflating: /content/Sudanese License Plate Dataset/train/images/image cropped in 2025_01_22_07_07_37.jpg  \n",
            "  inflating: /content/Sudanese License Plate Dataset/train/images/image cropped in 2025_01_22_07_08_07.jpg  \n",
            "  inflating: /content/Sudanese License Plate Dataset/train/images/image cropped in 2025_01_22_07_08_39.jpg  \n",
            "  inflating: /content/Sudanese License Plate Dataset/train/images/image cropped in 2025_01_22_07_09_05.jpg  \n",
            "  inflating: /content/Sudanese License Plate Dataset/train/images/image cropped in 2025_01_22_07_09_42.jpg  \n",
            "  inflating: /content/Sudanese License Plate Dataset/train/images/image cropped in 2025_01_22_07_10_16.jpg  \n",
            "  inflating: /content/Sudanese License Plate Dataset/train/images/image cropped in 2025_01_22_07_10_49.jpg  \n",
            "  inflating: /content/Sudanese License Plate Dataset/train/images/image cropped in 2025_01_22_07_11_14.jpg  \n",
            "  inflating: /content/Sudanese License Plate Dataset/train/images/image cropped in 2025_01_22_07_11_57.jpg  \n",
            "  inflating: /content/Sudanese License Plate Dataset/train/images/image cropped in 2025_01_22_07_13_08.jpg  \n",
            "  inflating: /content/Sudanese License Plate Dataset/train/images/image cropped in 2025_01_22_07_13_48.jpg  \n",
            "  inflating: /content/Sudanese License Plate Dataset/train/images/image cropped in 2025_01_22_07_14_12.jpg  \n",
            "  inflating: /content/Sudanese License Plate Dataset/train/images/image cropped in 2025_01_22_07_14_41.jpg  \n",
            "  inflating: /content/Sudanese License Plate Dataset/train/images/image cropped in 2025_01_22_07_15_04.jpg  \n",
            "  inflating: /content/Sudanese License Plate Dataset/train/images/image cropped in 2025_01_22_07_15_52.jpg  \n",
            "  inflating: /content/Sudanese License Plate Dataset/train/images/image cropped in 2025_01_22_07_16_14.jpg  \n",
            "  inflating: /content/Sudanese License Plate Dataset/train/images/image cropped in 2025_01_22_07_16_34.jpg  \n",
            "  inflating: /content/Sudanese License Plate Dataset/train/images/image cropped in 2025_01_22_07_16_57.jpg  \n",
            "  inflating: /content/Sudanese License Plate Dataset/train/images/image cropped in 2025_01_22_07_17_15.jpg  \n",
            "  inflating: /content/Sudanese License Plate Dataset/train/images/image cropped in 2025_01_22_07_17_36.jpg  \n",
            "  inflating: /content/Sudanese License Plate Dataset/train/images/image cropped in 2025_01_22_07_18_41.jpg  \n",
            "  inflating: /content/Sudanese License Plate Dataset/train/images/image cropped in 2025_01_22_07_19_07.jpg  \n",
            "  inflating: /content/Sudanese License Plate Dataset/train/images/image cropped in 2025_01_22_07_19_27.jpg  \n",
            "  inflating: /content/Sudanese License Plate Dataset/train/images/image cropped in 2025_01_22_07_20_27.jpg  \n",
            "  inflating: /content/Sudanese License Plate Dataset/train/images/image cropped in 2025_01_22_07_20_58.jpg  \n",
            "  inflating: /content/Sudanese License Plate Dataset/train/images/image cropped in 2025_01_22_07_21_18.jpg  \n",
            "  inflating: /content/Sudanese License Plate Dataset/train/images/image cropped in 2025_01_22_07_21_48.jpg  \n",
            "  inflating: /content/Sudanese License Plate Dataset/train/images/image cropped in 2025_01_22_07_22_07.jpg  \n",
            "  inflating: /content/Sudanese License Plate Dataset/train/images/image cropped in 2025_01_22_07_22_29.jpg  \n",
            "  inflating: /content/Sudanese License Plate Dataset/train/images/image cropped in 2025_01_22_07_22_50.jpg  \n",
            "  inflating: /content/Sudanese License Plate Dataset/train/images/image cropped in 2025_01_22_07_23_11.jpg  \n",
            "  inflating: /content/Sudanese License Plate Dataset/train/images/image cropped in 2025_01_22_07_23_30.jpg  \n",
            "  inflating: /content/Sudanese License Plate Dataset/train/images/image cropped in 2025_01_22_07_23_48.jpg  \n",
            "  inflating: /content/Sudanese License Plate Dataset/train/images/image cropped in 2025_01_22_07_24_13.jpg  \n",
            "  inflating: /content/Sudanese License Plate Dataset/train/images/image cropped in 2025_01_22_07_24_35.jpg  \n",
            "  inflating: /content/Sudanese License Plate Dataset/train/images/image cropped in 2025_01_22_07_25_03.jpg  \n",
            "  inflating: /content/Sudanese License Plate Dataset/train/images/image cropped in 2025_01_22_07_25_30.jpg  \n",
            "  inflating: /content/Sudanese License Plate Dataset/train/images/image cropped in 2025_01_22_07_25_56.jpg  \n",
            "  inflating: /content/Sudanese License Plate Dataset/train/images/image cropped in 2025_01_22_07_26_24.jpg  \n",
            "  inflating: /content/Sudanese License Plate Dataset/train/images/image cropped in 2025_01_22_07_26_52.jpg  \n",
            "  inflating: /content/Sudanese License Plate Dataset/train/images/image cropped in 2025_01_22_07_27_58.jpg  \n",
            "  inflating: /content/Sudanese License Plate Dataset/train/images/image cropped in 2025_01_22_07_28_10.jpg  \n",
            "  inflating: /content/Sudanese License Plate Dataset/train/images/image cropped in 2025_01_22_07_29_09.jpg  \n",
            "  inflating: /content/Sudanese License Plate Dataset/train/images/image cropped in 2025_01_22_07_29_31.jpg  \n",
            "  inflating: /content/Sudanese License Plate Dataset/train/images/image cropped in 2025_01_22_07_29_56.jpg  \n",
            "  inflating: /content/Sudanese License Plate Dataset/train/images/image cropped in 2025_01_22_07_31_33.jpg  \n",
            "  inflating: /content/Sudanese License Plate Dataset/train/images/image cropped in 2025_01_22_07_31_46.jpg  \n",
            "  inflating: /content/Sudanese License Plate Dataset/train/images/image cropped in 2025_01_22_07_32_00.jpg  \n",
            "  inflating: /content/Sudanese License Plate Dataset/train/images/image cropped in 2025_01_22_07_33_20.jpg  \n",
            "  inflating: /content/Sudanese License Plate Dataset/train/images/image cropped in 2025_01_22_07_33_43.jpg  \n",
            "  inflating: /content/Sudanese License Plate Dataset/train/images/image cropped in 2025_01_22_07_34_55.jpg  \n",
            "  inflating: /content/Sudanese License Plate Dataset/train/images/image cropped in 2025_01_22_07_35_18.jpg  \n",
            "  inflating: /content/Sudanese License Plate Dataset/train/images/image cropped in 2025_01_22_07_35_46.jpg  \n",
            "  inflating: /content/Sudanese License Plate Dataset/train/images/image cropped in 2025_01_22_07_36_05.jpg  \n",
            "  inflating: /content/Sudanese License Plate Dataset/train/images/image cropped in 2025_01_22_07_36_17.jpg  \n",
            "  inflating: /content/Sudanese License Plate Dataset/train/images/image cropped in 2025_01_24_04_00_31.jpg  \n",
            "  inflating: /content/Sudanese License Plate Dataset/train/images/image cropped in 2025_01_24_04_00_43.jpg  \n",
            "  inflating: /content/Sudanese License Plate Dataset/train/images/image cropped in 2025_01_24_04_00_54.jpg  \n",
            "  inflating: /content/Sudanese License Plate Dataset/train/images/image cropped in 2025_01_24_04_01_04.jpg  \n",
            "  inflating: /content/Sudanese License Plate Dataset/train/images/image cropped in 2025_01_24_04_01_17.jpg  \n",
            "  inflating: /content/Sudanese License Plate Dataset/train/images/image cropped in 2025_01_24_04_01_27.jpg  \n",
            "  inflating: /content/Sudanese License Plate Dataset/train/images/image cropped in 2025_01_24_04_01_44.jpg  \n",
            "  inflating: /content/Sudanese License Plate Dataset/train/images/image cropped in 2025_01_24_04_01_55.jpg  \n",
            "  inflating: /content/Sudanese License Plate Dataset/train/images/image cropped in 2025_01_24_04_02_21.jpg  \n",
            "  inflating: /content/Sudanese License Plate Dataset/train/images/image cropped in 2025_01_24_04_02_45.jpg  \n",
            "  inflating: /content/Sudanese License Plate Dataset/train/images/image cropped in 2025_01_24_04_03_05.jpg  \n",
            "  inflating: /content/Sudanese License Plate Dataset/train/images/image cropped in 2025_01_24_04_04_55.jpg  \n",
            "  inflating: /content/Sudanese License Plate Dataset/train/images/image cropped in 2025_01_24_04_05_08.jpg  \n",
            "  inflating: /content/Sudanese License Plate Dataset/train/images/image cropped in 2025_01_24_04_05_18.jpg  \n",
            "  inflating: /content/Sudanese License Plate Dataset/train/images/image cropped in 2025_01_24_04_05_28.jpg  \n",
            "  inflating: /content/Sudanese License Plate Dataset/train/images/image cropped in 2025_01_24_04_05_38.jpg  \n",
            "  inflating: /content/Sudanese License Plate Dataset/train/images/image cropped in 2025_01_24_04_05_50.jpg  \n",
            "  inflating: /content/Sudanese License Plate Dataset/train/images/image cropped in 2025_01_24_04_05_59.jpg  \n",
            "  inflating: /content/Sudanese License Plate Dataset/train/images/image cropped in 2025_01_24_04_06_37.jpg  \n",
            "  inflating: /content/Sudanese License Plate Dataset/train/images/image cropped in 2025_01_24_04_06_49.jpg  \n",
            "  inflating: /content/Sudanese License Plate Dataset/train/images/image cropped in 2025_01_24_04_07_00.jpg  \n",
            "  inflating: /content/Sudanese License Plate Dataset/train/images/image cropped in 2025_01_24_04_07_13.jpg  \n",
            "  inflating: /content/Sudanese License Plate Dataset/train/images/image cropped in 2025_01_24_04_10_36.jpg  \n",
            "  inflating: /content/Sudanese License Plate Dataset/train/images/image cropped in 2025_01_24_04_10_47.jpg  \n",
            "  inflating: /content/Sudanese License Plate Dataset/train/images/image cropped in 2025_01_24_04_11_31.jpg  \n",
            "  inflating: /content/Sudanese License Plate Dataset/train/images/image cropped in 2025_01_24_04_11_40.jpg  \n",
            "  inflating: /content/Sudanese License Plate Dataset/train/images/image cropped in 2025_01_24_04_11_49.jpg  \n",
            "  inflating: /content/Sudanese License Plate Dataset/train/images/image cropped in 2025_01_24_04_12_08.jpg  \n",
            "  inflating: /content/Sudanese License Plate Dataset/train/images/image cropped in 2025_01_24_04_12_16.jpg  \n",
            "  inflating: /content/Sudanese License Plate Dataset/train/images/image cropped in 2025_01_24_04_12_24.jpg  \n",
            "  inflating: /content/Sudanese License Plate Dataset/train/images/image cropped in 2025_01_24_04_12_32.jpg  \n",
            "  inflating: /content/Sudanese License Plate Dataset/train/images/image cropped in 2025_01_24_04_12_40.jpg  \n",
            "  inflating: /content/Sudanese License Plate Dataset/train/images/image cropped in 2025_01_24_04_12_55.jpg  \n",
            "  inflating: /content/Sudanese License Plate Dataset/train/images/image cropped in 2025_01_24_04_13_03.jpg  \n",
            "  inflating: /content/Sudanese License Plate Dataset/train/images/image cropped in 2025_01_24_04_13_12.jpg  \n",
            "  inflating: /content/Sudanese License Plate Dataset/train/images/image cropped in 2025_01_24_04_13_21.jpg  \n",
            "  inflating: /content/Sudanese License Plate Dataset/train/images/image cropped in 2025_01_24_04_13_31.jpg  \n",
            "  inflating: /content/Sudanese License Plate Dataset/train/images/image cropped in 2025_01_24_04_13_51.jpg  \n",
            "  inflating: /content/Sudanese License Plate Dataset/train/images/image cropped in 2025_01_24_04_13_58.jpg  \n",
            "  inflating: /content/Sudanese License Plate Dataset/train/images/image cropped in 2025_01_24_04_14_13.jpg  \n",
            "  inflating: /content/Sudanese License Plate Dataset/train/images/image cropped in 2025_01_24_04_14_22.jpg  \n",
            "  inflating: /content/Sudanese License Plate Dataset/train/images/image cropped in 2025_01_24_04_14_32.jpg  \n",
            "  inflating: /content/Sudanese License Plate Dataset/train/images/image cropped in 2025_01_24_04_15_02.jpg  \n",
            "  inflating: /content/Sudanese License Plate Dataset/train/images/image cropped in 2025_01_24_04_15_11.jpg  \n",
            "  inflating: /content/Sudanese License Plate Dataset/train/images/image cropped in 2025_01_24_04_15_21.jpg  \n",
            "  inflating: /content/Sudanese License Plate Dataset/train/images/image cropped in 2025_01_24_04_15_30.jpg  \n",
            "  inflating: /content/Sudanese License Plate Dataset/train/images/image cropped in 2025_01_24_04_15_37.jpg  \n",
            "  inflating: /content/Sudanese License Plate Dataset/train/images/image cropped in 2025_01_24_04_23_33.jpg  \n",
            "  inflating: /content/Sudanese License Plate Dataset/train/images/image cropped in 2025_01_24_04_23_46.jpg  \n",
            "  inflating: /content/Sudanese License Plate Dataset/train/images/image cropped in 2025_01_24_04_23_55.jpg  \n",
            "  inflating: /content/Sudanese License Plate Dataset/train/images/image cropped in 2025_01_24_04_40_39.jpg  \n",
            "  inflating: /content/Sudanese License Plate Dataset/train/images/image cropped in 2025_01_24_04_40_52.jpg  \n",
            "  inflating: /content/Sudanese License Plate Dataset/train/images/image cropped in 2025_01_24_04_41_22.jpg  \n",
            "  inflating: /content/Sudanese License Plate Dataset/train/images/image cropped in 2025_01_24_04_41_35.jpg  \n",
            "  inflating: /content/Sudanese License Plate Dataset/train/images/image cropped in 2025_01_24_04_41_56.jpg  \n",
            "  inflating: /content/Sudanese License Plate Dataset/train/images/image cropped in 2025_01_24_04_42_05.jpg  \n",
            "  inflating: /content/Sudanese License Plate Dataset/train/images/image cropped in 2025_01_24_04_42_13.jpg  \n",
            "  inflating: /content/Sudanese License Plate Dataset/train/images/image cropped in 2025_01_24_04_42_41.jpg  \n",
            "  inflating: /content/Sudanese License Plate Dataset/train/images/image cropped in 2025_01_24_04_42_53.jpg  \n",
            "  inflating: /content/Sudanese License Plate Dataset/train/images/image cropped in 2025_01_24_04_43_04.jpg  \n",
            "  inflating: /content/Sudanese License Plate Dataset/train/images/image cropped in 2025_01_24_04_43_14.jpg  \n",
            "  inflating: /content/Sudanese License Plate Dataset/train/images/image cropped in 2025_01_24_04_43_37.jpg  \n",
            "  inflating: /content/Sudanese License Plate Dataset/train/images/image cropped in 2025_01_24_04_43_48.jpg  \n",
            "  inflating: /content/Sudanese License Plate Dataset/train/images/image cropped in 2025_01_24_04_43_59.jpg  \n",
            "  inflating: /content/Sudanese License Plate Dataset/train/images/image cropped in 2025_01_24_04_44_10.jpg  \n",
            "  inflating: /content/Sudanese License Plate Dataset/train/images/image cropped in 2025_01_24_04_44_17.jpg  \n",
            "  inflating: /content/Sudanese License Plate Dataset/train/images/image cropped in 2025_01_24_04_44_29.jpg  \n",
            "  inflating: /content/Sudanese License Plate Dataset/train/images/image cropped in 2025_01_24_04_44_38.jpg  \n",
            "  inflating: /content/Sudanese License Plate Dataset/train/images/image cropped in 2025_01_24_04_44_46.jpg  \n",
            "  inflating: /content/Sudanese License Plate Dataset/train/images/image cropped in 2025_01_24_04_44_55.jpg  \n",
            "  inflating: /content/Sudanese License Plate Dataset/train/images/image cropped in 2025_01_24_04_45_03.jpg  \n",
            "  inflating: /content/Sudanese License Plate Dataset/train/images/image cropped in 2025_01_24_04_45_17.jpg  \n",
            "  inflating: /content/Sudanese License Plate Dataset/train/images/image cropped in 2025_01_24_04_46_17.jpg  \n",
            "  inflating: /content/Sudanese License Plate Dataset/train/images/image cropped in 2025_01_24_04_46_26.jpg  \n",
            "  inflating: /content/Sudanese License Plate Dataset/train/images/image cropped in 2025_01_24_04_46_48.jpg  \n",
            "  inflating: /content/Sudanese License Plate Dataset/train/images/image cropped in 2025_01_24_04_46_57.jpg  \n",
            "  inflating: /content/Sudanese License Plate Dataset/train/images/image cropped in 2025_01_24_04_47_06.jpg  \n",
            "  inflating: /content/Sudanese License Plate Dataset/train/images/image cropped in 2025_01_24_04_48_11.jpg  \n",
            "  inflating: /content/Sudanese License Plate Dataset/train/images/image cropped in 2025_01_24_04_48_24.jpg  \n",
            "  inflating: /content/Sudanese License Plate Dataset/train/images/image cropped in 2025_01_24_04_48_39.jpg  \n",
            "  inflating: /content/Sudanese License Plate Dataset/train/images/image cropped in 2025_01_24_04_48_50.jpg  \n",
            "  inflating: /content/Sudanese License Plate Dataset/train/images/image cropped in 2025_01_24_04_49_11.jpg  \n",
            "  inflating: /content/Sudanese License Plate Dataset/train/images/image cropped in 2025_01_24_04_49_21.jpg  \n",
            "  inflating: /content/Sudanese License Plate Dataset/train/images/image cropped in 2025_01_24_04_49_30.jpg  \n",
            "  inflating: /content/Sudanese License Plate Dataset/train/images/image cropped in 2025_01_24_04_49_40.jpg  \n",
            "  inflating: /content/Sudanese License Plate Dataset/train/images/image cropped in 2025_01_24_04_49_50.jpg  \n",
            "  inflating: /content/Sudanese License Plate Dataset/train/images/image cropped in 2025_01_24_04_50_38.jpg  \n",
            "  inflating: /content/Sudanese License Plate Dataset/train/images/image cropped in 2025_01_24_04_50_47.jpg  \n",
            "  inflating: /content/Sudanese License Plate Dataset/train/images/image cropped in 2025_01_24_04_50_57.jpg  \n",
            "  inflating: /content/Sudanese License Plate Dataset/train/images/image cropped in 2025_01_24_04_51_07.jpg  \n",
            "  inflating: /content/Sudanese License Plate Dataset/train/images/image cropped in 2025_01_24_04_54_31.jpg  \n",
            "  inflating: /content/Sudanese License Plate Dataset/train/images/image cropped in 2025_01_24_04_55_06.jpg  \n",
            "  inflating: /content/Sudanese License Plate Dataset/train/images/image cropped in 2025_01_24_04_55_18.jpg  \n",
            "  inflating: /content/Sudanese License Plate Dataset/train/images/image cropped in 2025_01_24_04_55_28.jpg  \n",
            "  inflating: /content/Sudanese License Plate Dataset/train/images/image cropped in 2025_01_24_04_56_08.jpg  \n",
            "  inflating: /content/Sudanese License Plate Dataset/train/images/image cropped in 2025_01_24_04_56_20.jpg  \n",
            "  inflating: /content/Sudanese License Plate Dataset/train/images/image cropped in 2025_01_24_04_56_37.jpg  \n",
            "  inflating: /content/Sudanese License Plate Dataset/train/images/image cropped in 2025_01_24_04_57_15.jpg  \n",
            "  inflating: /content/Sudanese License Plate Dataset/train/images/image cropped in 2025_01_24_04_57_24.jpg  \n",
            "  inflating: /content/Sudanese License Plate Dataset/train/images/image cropped in 2025_01_24_04_57_34.jpg  \n",
            "  inflating: /content/Sudanese License Plate Dataset/train/images/image cropped in 2025_01_24_04_57_51.jpg  \n",
            "  inflating: /content/Sudanese License Plate Dataset/train/images/image cropped in 2025_01_24_04_58_00.jpg  \n",
            "  inflating: /content/Sudanese License Plate Dataset/train/images/image cropped in 2025_01_24_04_58_12.jpg  \n",
            "  inflating: /content/Sudanese License Plate Dataset/train/images/image cropped in 2025_01_24_04_58_35.jpg  \n",
            "  inflating: /content/Sudanese License Plate Dataset/train/images/image cropped in 2025_01_24_04_58_48.jpg  \n",
            "  inflating: /content/Sudanese License Plate Dataset/train/images/image cropped in 2025_01_24_04_59_12.jpg  \n",
            "  inflating: /content/Sudanese License Plate Dataset/train/images/image cropped in 2025_01_24_04_59_25.jpg  \n",
            "  inflating: /content/Sudanese License Plate Dataset/train/images/image cropped in 2025_01_24_04_59_34.jpg  \n",
            "  inflating: /content/Sudanese License Plate Dataset/train/images/image cropped in 2025_01_24_04_59_44.jpg  \n",
            "  inflating: /content/Sudanese License Plate Dataset/train/images/image cropped in 2025_01_24_04_59_54.jpg  \n",
            "  inflating: /content/Sudanese License Plate Dataset/train/images/image cropped in 2025_01_24_05_00_06.jpg  \n",
            "  inflating: /content/Sudanese License Plate Dataset/train/images/image cropped in 2025_01_24_05_00_18.jpg  \n",
            "  inflating: /content/Sudanese License Plate Dataset/train/images/image cropped in 2025_01_24_05_00_30.jpg  \n",
            "  inflating: /content/Sudanese License Plate Dataset/train/images/image cropped in 2025_01_24_05_00_47.jpg  \n",
            "  inflating: /content/Sudanese License Plate Dataset/train/images/image cropped in 2025_01_24_05_00_57.jpg  \n",
            "  inflating: /content/Sudanese License Plate Dataset/train/images/image cropped in 2025_01_24_05_01_18.jpg  \n",
            "  inflating: /content/Sudanese License Plate Dataset/train/images/image cropped in 2025_01_24_05_01_30.jpg  \n",
            "  inflating: /content/Sudanese License Plate Dataset/train/images/image cropped in 2025_01_24_05_01_40.jpg  \n",
            "  inflating: /content/Sudanese License Plate Dataset/train/images/image cropped in 2025_01_24_05_01_51.jpg  \n",
            "  inflating: /content/Sudanese License Plate Dataset/train/images/image cropped in 2025_01_24_05_02_02.jpg  \n",
            "  inflating: /content/Sudanese License Plate Dataset/train/images/image cropped in 2025_01_24_05_03_33.jpg  \n",
            "  inflating: /content/Sudanese License Plate Dataset/train/images/image cropped in 2025_01_24_05_03_41.jpg  \n",
            "  inflating: /content/Sudanese License Plate Dataset/train/images/image cropped in 2025_01_24_05_03_59.jpg  \n",
            "  inflating: /content/Sudanese License Plate Dataset/train/images/image cropped in 2025_01_24_05_04_11.jpg  \n",
            "  inflating: /content/Sudanese License Plate Dataset/train/images/image cropped in 2025_01_24_05_04_21.jpg  \n",
            "  inflating: /content/Sudanese License Plate Dataset/train/images/image cropped in 2025_01_24_06_01_46.jpg  \n",
            "  inflating: /content/Sudanese License Plate Dataset/train/images/image cropped in 2025_01_25_17_46_19.jpg  \n",
            "  inflating: /content/Sudanese License Plate Dataset/train/images/image cropped in 2025_01_25_17_46_35.jpg  \n",
            "  inflating: /content/Sudanese License Plate Dataset/train/images/image cropped in 2025_01_25_17_47_52.jpg  \n",
            "  inflating: /content/Sudanese License Plate Dataset/train/images/image cropped in 2025_01_25_17_48_05.jpg  \n",
            "  inflating: /content/Sudanese License Plate Dataset/train/images/image_cropped_in_2025_01_20_04_04_54.jpg  \n",
            "  inflating: /content/Sudanese License Plate Dataset/train/images/image_cropped_in_2025_01_20_04_04_55.jpg  \n",
            "  inflating: /content/Sudanese License Plate Dataset/train/images/image_cropped_in_2025_01_20_04_04_57.jpg  \n",
            "  inflating: /content/Sudanese License Plate Dataset/train/images/image_cropped_in_2025_01_20_04_04_59.jpg  \n",
            "  inflating: /content/Sudanese License Plate Dataset/train/images/image_cropped_in_2025_01_20_04_05_00.jpg  \n",
            "  inflating: /content/Sudanese License Plate Dataset/train/images/image_cropped_in_2025_01_20_04_05_01.jpg  \n",
            "  inflating: /content/Sudanese License Plate Dataset/train/images/image_cropped_in_2025_01_20_04_05_02.jpg  \n",
            "  inflating: /content/Sudanese License Plate Dataset/train/images/image_cropped_in_2025_01_20_04_05_03.jpg  \n",
            "  inflating: /content/Sudanese License Plate Dataset/train/images/image_cropped_in_2025_01_20_04_05_04.jpg  \n",
            "  inflating: /content/Sudanese License Plate Dataset/train/images/image_cropped_in_2025_01_20_04_05_06.jpg  \n",
            "  inflating: /content/Sudanese License Plate Dataset/train/images/image_cropped_in_2025_01_20_04_05_07.jpg  \n",
            "  inflating: /content/Sudanese License Plate Dataset/train/images/image_cropped_in_2025_01_20_04_34_17.jpg  \n",
            "  inflating: /content/Sudanese License Plate Dataset/train/images/image_cropped_in_2025_01_20_04_34_18.jpg  \n",
            "  inflating: /content/Sudanese License Plate Dataset/train/images/image_cropped_in_2025_01_20_04_34_19.jpg  \n",
            "  inflating: /content/Sudanese License Plate Dataset/train/images/image_cropped_in_2025_01_20_04_34_20.jpg  \n",
            "  inflating: /content/Sudanese License Plate Dataset/train/images/image_cropped_in_2025_01_20_04_34_24.jpg  \n",
            "  inflating: /content/Sudanese License Plate Dataset/train/images/image_cropped_in_2025_01_20_04_34_26.jpg  \n",
            "  inflating: /content/Sudanese License Plate Dataset/train/images/image_cropped_in_2025_01_20_04_34_27.jpg  \n",
            "  inflating: /content/Sudanese License Plate Dataset/train/images/image_cropped_in_2025_01_20_04_34_28.jpg  \n",
            "  inflating: /content/Sudanese License Plate Dataset/train/images/image_cropped_in_2025_01_20_04_34_30.jpg  \n",
            "  inflating: /content/Sudanese License Plate Dataset/train/images/image_cropped_in_2025_01_20_04_34_31.jpg  \n",
            "  inflating: /content/Sudanese License Plate Dataset/train/images/image_cropped_in_2025_01_20_04_34_33.jpg  \n",
            "  inflating: /content/Sudanese License Plate Dataset/train/images/image_cropped_in_2025_01_20_04_34_34.jpg  \n",
            "  inflating: /content/Sudanese License Plate Dataset/train/images/image_cropped_in_2025_01_20_04_34_36.jpg  \n",
            "  inflating: /content/Sudanese License Plate Dataset/train/images/image_cropped_in_2025_01_20_04_34_37.jpg  \n",
            "  inflating: /content/Sudanese License Plate Dataset/train/images/image_cropped_in_2025_01_20_04_34_40.jpg  \n",
            "  inflating: /content/Sudanese License Plate Dataset/train/images/image_cropped_in_2025_01_20_04_34_42.jpg  \n",
            "  inflating: /content/Sudanese License Plate Dataset/train/images/image_cropped_in_2025_01_20_04_34_43.jpg  \n",
            "  inflating: /content/Sudanese License Plate Dataset/train/images/image_cropped_in_2025_01_20_04_34_44.jpg  \n",
            "  inflating: /content/Sudanese License Plate Dataset/train/images/image_cropped_in_2025_01_20_04_34_46.jpg  \n",
            "  inflating: /content/Sudanese License Plate Dataset/train/images/image_cropped_in_2025_01_20_04_34_49.jpg  \n",
            "  inflating: /content/Sudanese License Plate Dataset/train/images/image_cropped_in_2025_01_20_04_34_50.jpg  \n",
            "  inflating: /content/Sudanese License Plate Dataset/train/images/image_cropped_in_2025_01_20_04_34_52.jpg  \n",
            "  inflating: /content/Sudanese License Plate Dataset/train/images/image_cropped_in_2025_01_20_04_34_53.jpg  \n",
            "  inflating: /content/Sudanese License Plate Dataset/train/images/image_cropped_in_2025_01_20_04_34_55.jpg  \n",
            "  inflating: /content/Sudanese License Plate Dataset/train/images/image_cropped_in_2025_01_20_04_34_57.jpg  \n",
            "  inflating: /content/Sudanese License Plate Dataset/train/images/image_cropped_in_2025_01_20_04_35_00.jpg  \n",
            "  inflating: /content/Sudanese License Plate Dataset/train/images/image_cropped_in_2025_01_20_04_35_02.jpg  \n",
            "  inflating: /content/Sudanese License Plate Dataset/train/images/image_cropped_in_2025_01_20_04_35_05.jpg  \n",
            "  inflating: /content/Sudanese License Plate Dataset/train/images/image_cropped_in_2025_01_20_04_35_07.jpg  \n",
            "  inflating: /content/Sudanese License Plate Dataset/train/images/image_cropped_in_2025_01_20_04_35_08.jpg  \n",
            "  inflating: /content/Sudanese License Plate Dataset/train/images/image_cropped_in_2025_01_20_04_35_10.jpg  \n",
            "  inflating: /content/Sudanese License Plate Dataset/train/images/image_cropped_in_2025_01_20_04_35_11.jpg  \n",
            "  inflating: /content/Sudanese License Plate Dataset/train/images/image_cropped_in_2025_01_20_04_35_12.jpg  \n",
            "  inflating: /content/Sudanese License Plate Dataset/train/images/image_cropped_in_2025_01_20_04_35_13.jpg  \n",
            "  inflating: /content/Sudanese License Plate Dataset/train/images/image_cropped_in_2025_01_20_04_35_14.jpg  \n",
            "  inflating: /content/Sudanese License Plate Dataset/train/images/image_cropped_in_2025_01_20_04_35_16.jpg  \n",
            "  inflating: /content/Sudanese License Plate Dataset/train/images/image_cropped_in_2025_01_20_04_35_17.jpg  \n",
            "  inflating: /content/Sudanese License Plate Dataset/train/images/image_cropped_in_2025_01_20_04_35_18.jpg  \n",
            "  inflating: /content/Sudanese License Plate Dataset/train/images/image_cropped_in_2025_01_20_04_35_19.jpg  \n",
            "  inflating: /content/Sudanese License Plate Dataset/train/images/image_cropped_in_2025_01_20_04_35_20.jpg  \n",
            "  inflating: /content/Sudanese License Plate Dataset/train/images/image_cropped_in_2025_01_20_04_35_21.jpg  \n",
            "  inflating: /content/Sudanese License Plate Dataset/train/images/image_cropped_in_2025_01_20_04_35_22.jpg  \n",
            "  inflating: /content/Sudanese License Plate Dataset/train/images/image_cropped_in_2025_01_20_04_35_24.jpg  \n",
            "  inflating: /content/Sudanese License Plate Dataset/train/images/image_cropped_in_2025_01_20_04_35_25.jpg  \n",
            "  inflating: /content/Sudanese License Plate Dataset/train/images/image_cropped_in_2025_01_20_04_35_26.jpg  \n",
            "  inflating: /content/Sudanese License Plate Dataset/train/images/image_cropped_in_2025_01_20_04_35_28.jpg  \n",
            "  inflating: /content/Sudanese License Plate Dataset/train/images/image_cropped_in_2025_01_20_04_35_29.jpg  \n",
            "  inflating: /content/Sudanese License Plate Dataset/train/images/image_cropped_in_2025_01_20_04_35_31.jpg  \n",
            "  inflating: /content/Sudanese License Plate Dataset/train/images/image_cropped_in_2025_01_20_04_35_33.jpg  \n",
            "  inflating: /content/Sudanese License Plate Dataset/train/images/image_cropped_in_2025_01_20_04_35_34.jpg  \n",
            "  inflating: /content/Sudanese License Plate Dataset/train/images/image_cropped_in_2025_01_20_04_35_37.jpg  \n",
            "  inflating: /content/Sudanese License Plate Dataset/train/images/image_cropped_in_2025_01_20_04_35_40.jpg  \n",
            "  inflating: /content/Sudanese License Plate Dataset/train/images/image_cropped_in_2025_01_20_04_35_41.jpg  \n",
            "  inflating: /content/Sudanese License Plate Dataset/train/images/image_cropped_in_2025_01_20_04_35_42.jpg  \n",
            "  inflating: /content/Sudanese License Plate Dataset/train/images/image_cropped_in_2025_01_20_04_35_44.jpg  \n",
            "  inflating: /content/Sudanese License Plate Dataset/train/images/image_cropped_in_2025_01_20_04_35_45.jpg  \n",
            "  inflating: /content/Sudanese License Plate Dataset/train/images/image_cropped_in_2025_01_20_04_35_46.jpg  \n",
            "  inflating: /content/Sudanese License Plate Dataset/train/images/image_cropped_in_2025_01_20_04_35_49.jpg  \n",
            "  inflating: /content/Sudanese License Plate Dataset/train/images/image_cropped_in_2025_01_20_04_35_51.jpg  \n",
            "  inflating: /content/Sudanese License Plate Dataset/train/images/image_cropped_in_2025_01_20_04_35_52.jpg  \n",
            "  inflating: /content/Sudanese License Plate Dataset/train/images/image_cropped_in_2025_01_20_04_35_54.jpg  \n",
            "  inflating: /content/Sudanese License Plate Dataset/train/images/image_cropped_in_2025_01_20_04_35_55.jpg  \n",
            "  inflating: /content/Sudanese License Plate Dataset/train/images/OIP (1).jpg  \n",
            "  inflating: /content/Sudanese License Plate Dataset/train/images/R.jpg  \n",
            "  inflating: /content/Sudanese License Plate Dataset/train/images/R1.jpg  \n",
            "  inflating: /content/Sudanese License Plate Dataset/train/images/R2.jpg  \n",
            "  inflating: /content/Sudanese License Plate Dataset/train/images/s-l300.jpg  \n",
            "  inflating: /content/Sudanese License Plate Dataset/train/images/s-l400.jpg  \n",
            "  inflating: /content/Sudanese License Plate Dataset/train/images/Transport.png  \n",
            "   creating: /content/Sudanese License Plate Dataset/train/labels/\n",
            "  inflating: /content/Sudanese License Plate Dataset/train/labels/image cropped in 2025_01_21_11_37_52.txt  \n",
            "  inflating: /content/Sudanese License Plate Dataset/train/labels/image cropped in 2025_01_21_11_38_02.txt  \n",
            "  inflating: /content/Sudanese License Plate Dataset/train/labels/image cropped in 2025_01_21_11_38_43.txt  \n",
            "  inflating: /content/Sudanese License Plate Dataset/train/labels/image cropped in 2025_01_21_11_38_52.txt  \n",
            "  inflating: /content/Sudanese License Plate Dataset/train/labels/image cropped in 2025_01_21_11_39_19.txt  \n",
            "  inflating: /content/Sudanese License Plate Dataset/train/labels/image cropped in 2025_01_21_11_39_28.txt  \n",
            "  inflating: /content/Sudanese License Plate Dataset/train/labels/image cropped in 2025_01_21_11_39_37.txt  \n",
            "  inflating: /content/Sudanese License Plate Dataset/train/labels/image cropped in 2025_01_21_11_39_46.txt  \n",
            "  inflating: /content/Sudanese License Plate Dataset/train/labels/image cropped in 2025_01_21_11_39_55.txt  \n",
            "  inflating: /content/Sudanese License Plate Dataset/train/labels/image cropped in 2025_01_21_11_40_08.txt  \n",
            "  inflating: /content/Sudanese License Plate Dataset/train/labels/image cropped in 2025_01_21_11_40_18.txt  \n",
            "  inflating: /content/Sudanese License Plate Dataset/train/labels/image cropped in 2025_01_21_11_40_27.txt  \n",
            "  inflating: /content/Sudanese License Plate Dataset/train/labels/image cropped in 2025_01_21_11_40_37.txt  \n",
            "  inflating: /content/Sudanese License Plate Dataset/train/labels/image cropped in 2025_01_21_11_40_46.txt  \n",
            "  inflating: /content/Sudanese License Plate Dataset/train/labels/image cropped in 2025_01_21_11_42_16.txt  \n",
            "  inflating: /content/Sudanese License Plate Dataset/train/labels/image cropped in 2025_01_21_11_42_26.txt  \n",
            "  inflating: /content/Sudanese License Plate Dataset/train/labels/image cropped in 2025_01_21_11_42_43.txt  \n",
            "  inflating: /content/Sudanese License Plate Dataset/train/labels/image cropped in 2025_01_21_11_43_00.txt  \n",
            "  inflating: /content/Sudanese License Plate Dataset/train/labels/image cropped in 2025_01_21_11_43_13.txt  \n",
            "  inflating: /content/Sudanese License Plate Dataset/train/labels/image cropped in 2025_01_21_11_43_35.txt  \n",
            "  inflating: /content/Sudanese License Plate Dataset/train/labels/image cropped in 2025_01_21_11_43_51.txt  \n",
            "  inflating: /content/Sudanese License Plate Dataset/train/labels/image cropped in 2025_01_21_11_44_02.txt  \n",
            "  inflating: /content/Sudanese License Plate Dataset/train/labels/image cropped in 2025_01_21_11_44_12.txt  \n",
            "  inflating: /content/Sudanese License Plate Dataset/train/labels/image cropped in 2025_01_21_11_44_24.txt  \n",
            "  inflating: /content/Sudanese License Plate Dataset/train/labels/image cropped in 2025_01_21_11_44_56.txt  \n",
            "  inflating: /content/Sudanese License Plate Dataset/train/labels/image cropped in 2025_01_21_11_45_06.txt  \n",
            "  inflating: /content/Sudanese License Plate Dataset/train/labels/image cropped in 2025_01_21_11_45_17.txt  \n",
            "  inflating: /content/Sudanese License Plate Dataset/train/labels/image cropped in 2025_01_21_11_45_25.txt  \n",
            "  inflating: /content/Sudanese License Plate Dataset/train/labels/image cropped in 2025_01_21_11_45_47.txt  \n",
            "  inflating: /content/Sudanese License Plate Dataset/train/labels/image cropped in 2025_01_21_11_46_30.txt  \n",
            "  inflating: /content/Sudanese License Plate Dataset/train/labels/image cropped in 2025_01_21_11_46_40.txt  \n",
            "  inflating: /content/Sudanese License Plate Dataset/train/labels/image cropped in 2025_01_21_11_46_49.txt  \n",
            "  inflating: /content/Sudanese License Plate Dataset/train/labels/image cropped in 2025_01_21_11_46_58.txt  \n",
            "  inflating: /content/Sudanese License Plate Dataset/train/labels/image cropped in 2025_01_21_11_48_14.txt  \n",
            "  inflating: /content/Sudanese License Plate Dataset/train/labels/image cropped in 2025_01_21_11_48_40.txt  \n",
            "  inflating: /content/Sudanese License Plate Dataset/train/labels/image cropped in 2025_01_21_11_48_49.txt  \n",
            "  inflating: /content/Sudanese License Plate Dataset/train/labels/image cropped in 2025_01_21_11_49_48.txt  \n",
            "  inflating: /content/Sudanese License Plate Dataset/train/labels/image cropped in 2025_01_21_11_50_00.txt  \n",
            "  inflating: /content/Sudanese License Plate Dataset/train/labels/image cropped in 2025_01_21_11_50_15.txt  \n",
            "  inflating: /content/Sudanese License Plate Dataset/train/labels/image cropped in 2025_01_21_11_50_34.txt  \n",
            "  inflating: /content/Sudanese License Plate Dataset/train/labels/image cropped in 2025_01_21_11_50_47.txt  \n",
            "  inflating: /content/Sudanese License Plate Dataset/train/labels/image cropped in 2025_01_21_11_51_02.txt  \n",
            "  inflating: /content/Sudanese License Plate Dataset/train/labels/image cropped in 2025_01_21_11_51_15.txt  \n",
            "  inflating: /content/Sudanese License Plate Dataset/train/labels/image cropped in 2025_01_21_11_51_27.txt  \n",
            "  inflating: /content/Sudanese License Plate Dataset/train/labels/image cropped in 2025_01_21_11_51_39.txt  \n",
            "  inflating: /content/Sudanese License Plate Dataset/train/labels/image cropped in 2025_01_21_11_51_49.txt  \n",
            "  inflating: /content/Sudanese License Plate Dataset/train/labels/image cropped in 2025_01_21_11_51_59.txt  \n",
            "  inflating: /content/Sudanese License Plate Dataset/train/labels/image cropped in 2025_01_21_11_52_09.txt  \n",
            "  inflating: /content/Sudanese License Plate Dataset/train/labels/image cropped in 2025_01_21_11_54_35.txt  \n",
            "  inflating: /content/Sudanese License Plate Dataset/train/labels/image cropped in 2025_01_21_11_55_38.txt  \n",
            "  inflating: /content/Sudanese License Plate Dataset/train/labels/image cropped in 2025_01_21_11_56_03.txt  \n",
            "  inflating: /content/Sudanese License Plate Dataset/train/labels/image cropped in 2025_01_21_11_56_12.txt  \n",
            "  inflating: /content/Sudanese License Plate Dataset/train/labels/image cropped in 2025_01_21_11_56_23.txt  \n",
            "  inflating: /content/Sudanese License Plate Dataset/train/labels/image cropped in 2025_01_21_11_56_34.txt  \n",
            "  inflating: /content/Sudanese License Plate Dataset/train/labels/image cropped in 2025_01_21_11_56_47.txt  \n",
            "  inflating: /content/Sudanese License Plate Dataset/train/labels/image cropped in 2025_01_21_11_56_56.txt  \n",
            "  inflating: /content/Sudanese License Plate Dataset/train/labels/image cropped in 2025_01_21_11_57_07.txt  \n",
            "  inflating: /content/Sudanese License Plate Dataset/train/labels/image cropped in 2025_01_21_11_57_18.txt  \n",
            "  inflating: /content/Sudanese License Plate Dataset/train/labels/image cropped in 2025_01_21_11_57_28.txt  \n",
            "  inflating: /content/Sudanese License Plate Dataset/train/labels/image cropped in 2025_01_21_11_57_37.txt  \n",
            "  inflating: /content/Sudanese License Plate Dataset/train/labels/image cropped in 2025_01_21_11_57_52.txt  \n",
            "  inflating: /content/Sudanese License Plate Dataset/train/labels/image cropped in 2025_01_21_11_58_01.txt  \n",
            "  inflating: /content/Sudanese License Plate Dataset/train/labels/image cropped in 2025_01_21_11_58_10.txt  \n",
            "  inflating: /content/Sudanese License Plate Dataset/train/labels/image cropped in 2025_01_21_11_58_21.txt  \n",
            "  inflating: /content/Sudanese License Plate Dataset/train/labels/image cropped in 2025_01_21_11_58_31.txt  \n",
            "  inflating: /content/Sudanese License Plate Dataset/train/labels/image cropped in 2025_01_21_12_19_24.txt  \n",
            "  inflating: /content/Sudanese License Plate Dataset/train/labels/image cropped in 2025_01_21_12_19_40.txt  \n",
            "  inflating: /content/Sudanese License Plate Dataset/train/labels/image cropped in 2025_01_21_12_19_53.txt  \n",
            "  inflating: /content/Sudanese License Plate Dataset/train/labels/image cropped in 2025_01_21_12_20_03.txt  \n",
            "  inflating: /content/Sudanese License Plate Dataset/train/labels/image cropped in 2025_01_21_12_20_15.txt  \n",
            "  inflating: /content/Sudanese License Plate Dataset/train/labels/image cropped in 2025_01_21_12_20_25.txt  \n",
            "  inflating: /content/Sudanese License Plate Dataset/train/labels/image cropped in 2025_01_21_12_20_37.txt  \n",
            "  inflating: /content/Sudanese License Plate Dataset/train/labels/image cropped in 2025_01_22_03_36_47.txt  \n",
            "  inflating: /content/Sudanese License Plate Dataset/train/labels/image cropped in 2025_01_22_03_36_57.txt  \n",
            "  inflating: /content/Sudanese License Plate Dataset/train/labels/image cropped in 2025_01_22_03_37_06.txt  \n",
            "  inflating: /content/Sudanese License Plate Dataset/train/labels/image cropped in 2025_01_22_03_37_17.txt  \n",
            "  inflating: /content/Sudanese License Plate Dataset/train/labels/image cropped in 2025_01_22_03_37_28.txt  \n",
            "  inflating: /content/Sudanese License Plate Dataset/train/labels/image cropped in 2025_01_22_03_37_37.txt  \n",
            "  inflating: /content/Sudanese License Plate Dataset/train/labels/image cropped in 2025_01_22_03_37_49.txt  \n",
            "  inflating: /content/Sudanese License Plate Dataset/train/labels/image cropped in 2025_01_22_03_37_59.txt  \n",
            "  inflating: /content/Sudanese License Plate Dataset/train/labels/image cropped in 2025_01_22_03_38_10.txt  \n",
            "  inflating: /content/Sudanese License Plate Dataset/train/labels/image cropped in 2025_01_22_03_38_20.txt  \n",
            "  inflating: /content/Sudanese License Plate Dataset/train/labels/image cropped in 2025_01_22_03_38_30.txt  \n",
            "  inflating: /content/Sudanese License Plate Dataset/train/labels/image cropped in 2025_01_22_03_38_39.txt  \n",
            "  inflating: /content/Sudanese License Plate Dataset/train/labels/image cropped in 2025_01_22_03_45_03.txt  \n",
            "  inflating: /content/Sudanese License Plate Dataset/train/labels/image cropped in 2025_01_22_03_46_27.txt  \n",
            "  inflating: /content/Sudanese License Plate Dataset/train/labels/image cropped in 2025_01_22_03_47_29.txt  \n",
            "  inflating: /content/Sudanese License Plate Dataset/train/labels/image cropped in 2025_01_22_03_48_21.txt  \n",
            "  inflating: /content/Sudanese License Plate Dataset/train/labels/image cropped in 2025_01_22_03_48_34.txt  \n",
            "  inflating: /content/Sudanese License Plate Dataset/train/labels/image cropped in 2025_01_22_06_02_32.txt  \n",
            "  inflating: /content/Sudanese License Plate Dataset/train/labels/image cropped in 2025_01_22_06_03_02.txt  \n",
            "  inflating: /content/Sudanese License Plate Dataset/train/labels/image cropped in 2025_01_22_06_03_24.txt  \n",
            "  inflating: /content/Sudanese License Plate Dataset/train/labels/image cropped in 2025_01_22_06_03_44.txt  \n",
            "  inflating: /content/Sudanese License Plate Dataset/train/labels/image cropped in 2025_01_22_06_04_06.txt  \n",
            "  inflating: /content/Sudanese License Plate Dataset/train/labels/image cropped in 2025_01_22_06_04_36.txt  \n",
            "  inflating: /content/Sudanese License Plate Dataset/train/labels/image cropped in 2025_01_22_06_04_56.txt  \n",
            "  inflating: /content/Sudanese License Plate Dataset/train/labels/image cropped in 2025_01_22_06_05_14.txt  \n",
            "  inflating: /content/Sudanese License Plate Dataset/train/labels/image cropped in 2025_01_22_06_05_37.txt  \n",
            "  inflating: /content/Sudanese License Plate Dataset/train/labels/image cropped in 2025_01_22_06_05_56.txt  \n",
            "  inflating: /content/Sudanese License Plate Dataset/train/labels/image cropped in 2025_01_22_06_06_55.txt  \n",
            "  inflating: /content/Sudanese License Plate Dataset/train/labels/image cropped in 2025_01_22_06_07_17.txt  \n",
            "  inflating: /content/Sudanese License Plate Dataset/train/labels/image cropped in 2025_01_22_06_07_43.txt  \n",
            "  inflating: /content/Sudanese License Plate Dataset/train/labels/image cropped in 2025_01_22_06_08_05.txt  \n",
            "  inflating: /content/Sudanese License Plate Dataset/train/labels/image cropped in 2025_01_22_06_08_26.txt  \n",
            "  inflating: /content/Sudanese License Plate Dataset/train/labels/image cropped in 2025_01_22_06_09_01.txt  \n",
            "  inflating: /content/Sudanese License Plate Dataset/train/labels/image cropped in 2025_01_22_06_09_28.txt  \n",
            "  inflating: /content/Sudanese License Plate Dataset/train/labels/image cropped in 2025_01_22_06_09_59.txt  \n",
            "  inflating: /content/Sudanese License Plate Dataset/train/labels/image cropped in 2025_01_22_06_10_23.txt  \n",
            "  inflating: /content/Sudanese License Plate Dataset/train/labels/image cropped in 2025_01_22_06_10_45.txt  \n",
            "  inflating: /content/Sudanese License Plate Dataset/train/labels/image cropped in 2025_01_22_06_11_29.txt  \n",
            "  inflating: /content/Sudanese License Plate Dataset/train/labels/image cropped in 2025_01_22_06_11_52.txt  \n",
            "  inflating: /content/Sudanese License Plate Dataset/train/labels/image cropped in 2025_01_22_06_12_27.txt  \n",
            "  inflating: /content/Sudanese License Plate Dataset/train/labels/image cropped in 2025_01_22_06_12_58.txt  \n",
            "  inflating: /content/Sudanese License Plate Dataset/train/labels/image cropped in 2025_01_22_06_13_25.txt  \n",
            "  inflating: /content/Sudanese License Plate Dataset/train/labels/image cropped in 2025_01_22_06_14_21.txt  \n",
            "  inflating: /content/Sudanese License Plate Dataset/train/labels/image cropped in 2025_01_22_06_14_51.txt  \n",
            "  inflating: /content/Sudanese License Plate Dataset/train/labels/image cropped in 2025_01_22_06_15_30.txt  \n",
            "  inflating: /content/Sudanese License Plate Dataset/train/labels/image cropped in 2025_01_22_06_16_07.txt  \n",
            "  inflating: /content/Sudanese License Plate Dataset/train/labels/image cropped in 2025_01_22_06_16_26.txt  \n",
            "  inflating: /content/Sudanese License Plate Dataset/train/labels/image cropped in 2025_01_22_06_17_20.txt  \n",
            "  inflating: /content/Sudanese License Plate Dataset/train/labels/image cropped in 2025_01_22_06_17_54.txt  \n",
            "  inflating: /content/Sudanese License Plate Dataset/train/labels/image cropped in 2025_01_22_06_18_18.txt  \n",
            "  inflating: /content/Sudanese License Plate Dataset/train/labels/image cropped in 2025_01_22_06_18_43.txt  \n",
            "  inflating: /content/Sudanese License Plate Dataset/train/labels/image cropped in 2025_01_22_06_19_05.txt  \n",
            "  inflating: /content/Sudanese License Plate Dataset/train/labels/image cropped in 2025_01_22_06_19_31.txt  \n",
            "  inflating: /content/Sudanese License Plate Dataset/train/labels/image cropped in 2025_01_22_06_19_53.txt  \n",
            "  inflating: /content/Sudanese License Plate Dataset/train/labels/image cropped in 2025_01_22_06_20_09.txt  \n",
            "  inflating: /content/Sudanese License Plate Dataset/train/labels/image cropped in 2025_01_22_06_20_26.txt  \n",
            "  inflating: /content/Sudanese License Plate Dataset/train/labels/image cropped in 2025_01_22_06_20_51.txt  \n",
            "  inflating: /content/Sudanese License Plate Dataset/train/labels/image cropped in 2025_01_22_06_21_26.txt  \n",
            "  inflating: /content/Sudanese License Plate Dataset/train/labels/image cropped in 2025_01_22_06_21_54.txt  \n",
            "  inflating: /content/Sudanese License Plate Dataset/train/labels/image cropped in 2025_01_22_06_22_15.txt  \n",
            "  inflating: /content/Sudanese License Plate Dataset/train/labels/image cropped in 2025_01_22_06_22_42.txt  \n",
            "  inflating: /content/Sudanese License Plate Dataset/train/labels/image cropped in 2025_01_22_06_23_02.txt  \n",
            "  inflating: /content/Sudanese License Plate Dataset/train/labels/image cropped in 2025_01_22_06_25_09.txt  \n",
            "  inflating: /content/Sudanese License Plate Dataset/train/labels/image cropped in 2025_01_22_06_25_45.txt  \n",
            "  inflating: /content/Sudanese License Plate Dataset/train/labels/image cropped in 2025_01_22_06_25_58.txt  \n",
            "  inflating: /content/Sudanese License Plate Dataset/train/labels/image cropped in 2025_01_22_06_26_21.txt  \n",
            "  inflating: /content/Sudanese License Plate Dataset/train/labels/image cropped in 2025_01_22_06_26_39.txt  \n",
            "  inflating: /content/Sudanese License Plate Dataset/train/labels/image cropped in 2025_01_22_06_27_03.txt  \n",
            "  inflating: /content/Sudanese License Plate Dataset/train/labels/image cropped in 2025_01_22_06_27_26.txt  \n",
            "  inflating: /content/Sudanese License Plate Dataset/train/labels/image cropped in 2025_01_22_06_27_46.txt  \n",
            "  inflating: /content/Sudanese License Plate Dataset/train/labels/image cropped in 2025_01_22_06_28_05.txt  \n",
            "  inflating: /content/Sudanese License Plate Dataset/train/labels/image cropped in 2025_01_22_06_28_33.txt  \n",
            "  inflating: /content/Sudanese License Plate Dataset/train/labels/image cropped in 2025_01_22_06_28_58.txt  \n",
            "  inflating: /content/Sudanese License Plate Dataset/train/labels/image cropped in 2025_01_22_06_29_15.txt  \n",
            "  inflating: /content/Sudanese License Plate Dataset/train/labels/image cropped in 2025_01_22_06_29_36.txt  \n",
            "  inflating: /content/Sudanese License Plate Dataset/train/labels/image cropped in 2025_01_22_06_30_03.txt  \n",
            "  inflating: /content/Sudanese License Plate Dataset/train/labels/image cropped in 2025_01_22_06_30_46.txt  \n",
            "  inflating: /content/Sudanese License Plate Dataset/train/labels/image cropped in 2025_01_22_06_31_22.txt  \n",
            "  inflating: /content/Sudanese License Plate Dataset/train/labels/image cropped in 2025_01_22_06_31_41.txt  \n",
            "  inflating: /content/Sudanese License Plate Dataset/train/labels/image cropped in 2025_01_22_06_32_00.txt  \n",
            "  inflating: /content/Sudanese License Plate Dataset/train/labels/image cropped in 2025_01_22_06_32_24.txt  \n",
            "  inflating: /content/Sudanese License Plate Dataset/train/labels/image cropped in 2025_01_22_06_33_56.txt  \n",
            "  inflating: /content/Sudanese License Plate Dataset/train/labels/image cropped in 2025_01_22_06_34_47.txt  \n",
            "  inflating: /content/Sudanese License Plate Dataset/train/labels/image cropped in 2025_01_22_06_35_11.txt  \n",
            "  inflating: /content/Sudanese License Plate Dataset/train/labels/image cropped in 2025_01_22_06_35_36.txt  \n",
            "  inflating: /content/Sudanese License Plate Dataset/train/labels/image cropped in 2025_01_22_06_35_53.txt  \n",
            "  inflating: /content/Sudanese License Plate Dataset/train/labels/image cropped in 2025_01_22_06_36_14.txt  \n",
            "  inflating: /content/Sudanese License Plate Dataset/train/labels/image cropped in 2025_01_22_06_36_36.txt  \n",
            "  inflating: /content/Sudanese License Plate Dataset/train/labels/image cropped in 2025_01_22_06_36_59.txt  \n",
            "  inflating: /content/Sudanese License Plate Dataset/train/labels/image cropped in 2025_01_22_06_37_17.txt  \n",
            "  inflating: /content/Sudanese License Plate Dataset/train/labels/image cropped in 2025_01_22_06_37_34.txt  \n",
            "  inflating: /content/Sudanese License Plate Dataset/train/labels/image cropped in 2025_01_22_06_37_52.txt  \n",
            "  inflating: /content/Sudanese License Plate Dataset/train/labels/image cropped in 2025_01_22_06_47_48.txt  \n",
            "  inflating: /content/Sudanese License Plate Dataset/train/labels/image cropped in 2025_01_22_06_48_11.txt  \n",
            "  inflating: /content/Sudanese License Plate Dataset/train/labels/image cropped in 2025_01_22_06_48_34.txt  \n",
            "  inflating: /content/Sudanese License Plate Dataset/train/labels/image cropped in 2025_01_22_06_48_55.txt  \n",
            "  inflating: /content/Sudanese License Plate Dataset/train/labels/image cropped in 2025_01_22_06_49_13.txt  \n",
            "  inflating: /content/Sudanese License Plate Dataset/train/labels/image cropped in 2025_01_22_06_49_43.txt  \n",
            "  inflating: /content/Sudanese License Plate Dataset/train/labels/image cropped in 2025_01_22_06_50_17.txt  \n",
            "  inflating: /content/Sudanese License Plate Dataset/train/labels/image cropped in 2025_01_22_06_50_36.txt  \n",
            "  inflating: /content/Sudanese License Plate Dataset/train/labels/image cropped in 2025_01_22_06_51_04.txt  \n",
            "  inflating: /content/Sudanese License Plate Dataset/train/labels/image cropped in 2025_01_22_06_51_29.txt  \n",
            "  inflating: /content/Sudanese License Plate Dataset/train/labels/image cropped in 2025_01_22_06_52_43.txt  \n",
            "  inflating: /content/Sudanese License Plate Dataset/train/labels/image cropped in 2025_01_22_06_53_39.txt  \n",
            "  inflating: /content/Sudanese License Plate Dataset/train/labels/image cropped in 2025_01_22_06_56_00.txt  \n",
            "  inflating: /content/Sudanese License Plate Dataset/train/labels/image cropped in 2025_01_22_06_56_42.txt  \n",
            "  inflating: /content/Sudanese License Plate Dataset/train/labels/image cropped in 2025_01_22_06_57_08.txt  \n",
            "  inflating: /content/Sudanese License Plate Dataset/train/labels/image cropped in 2025_01_22_06_57_32.txt  \n",
            "  inflating: /content/Sudanese License Plate Dataset/train/labels/image cropped in 2025_01_22_06_57_54.txt  \n",
            "  inflating: /content/Sudanese License Plate Dataset/train/labels/image cropped in 2025_01_22_06_58_12.txt  \n",
            "  inflating: /content/Sudanese License Plate Dataset/train/labels/image cropped in 2025_01_22_06_58_35.txt  \n",
            "  inflating: /content/Sudanese License Plate Dataset/train/labels/image cropped in 2025_01_22_06_58_56.txt  \n",
            "  inflating: /content/Sudanese License Plate Dataset/train/labels/image cropped in 2025_01_22_06_59_23.txt  \n",
            "  inflating: /content/Sudanese License Plate Dataset/train/labels/image cropped in 2025_01_22_06_59_46.txt  \n",
            "  inflating: /content/Sudanese License Plate Dataset/train/labels/image cropped in 2025_01_22_07_00_03.txt  \n",
            "  inflating: /content/Sudanese License Plate Dataset/train/labels/image cropped in 2025_01_22_07_00_24.txt  \n",
            "  inflating: /content/Sudanese License Plate Dataset/train/labels/image cropped in 2025_01_22_07_00_46.txt  \n",
            "  inflating: /content/Sudanese License Plate Dataset/train/labels/image cropped in 2025_01_22_07_01_24.txt  \n",
            "  inflating: /content/Sudanese License Plate Dataset/train/labels/image cropped in 2025_01_22_07_03_00.txt  \n",
            "  inflating: /content/Sudanese License Plate Dataset/train/labels/image cropped in 2025_01_22_07_05_21.txt  \n",
            "  inflating: /content/Sudanese License Plate Dataset/train/labels/image cropped in 2025_01_22_07_05_39.txt  \n",
            "  inflating: /content/Sudanese License Plate Dataset/train/labels/image cropped in 2025_01_22_07_06_19.txt  \n",
            "  inflating: /content/Sudanese License Plate Dataset/train/labels/image cropped in 2025_01_22_07_07_04.txt  \n",
            "  inflating: /content/Sudanese License Plate Dataset/train/labels/image cropped in 2025_01_22_07_07_37.txt  \n",
            "  inflating: /content/Sudanese License Plate Dataset/train/labels/image cropped in 2025_01_22_07_08_07.txt  \n",
            "  inflating: /content/Sudanese License Plate Dataset/train/labels/image cropped in 2025_01_22_07_08_39.txt  \n",
            "  inflating: /content/Sudanese License Plate Dataset/train/labels/image cropped in 2025_01_22_07_09_05.txt  \n",
            "  inflating: /content/Sudanese License Plate Dataset/train/labels/image cropped in 2025_01_22_07_09_42.txt  \n",
            "  inflating: /content/Sudanese License Plate Dataset/train/labels/image cropped in 2025_01_22_07_10_16.txt  \n",
            "  inflating: /content/Sudanese License Plate Dataset/train/labels/image cropped in 2025_01_22_07_10_49.txt  \n",
            "  inflating: /content/Sudanese License Plate Dataset/train/labels/image cropped in 2025_01_22_07_11_14.txt  \n",
            "  inflating: /content/Sudanese License Plate Dataset/train/labels/image cropped in 2025_01_22_07_11_57.txt  \n",
            "  inflating: /content/Sudanese License Plate Dataset/train/labels/image cropped in 2025_01_22_07_13_08.txt  \n",
            "  inflating: /content/Sudanese License Plate Dataset/train/labels/image cropped in 2025_01_22_07_13_48.txt  \n",
            "  inflating: /content/Sudanese License Plate Dataset/train/labels/image cropped in 2025_01_22_07_14_12.txt  \n",
            "  inflating: /content/Sudanese License Plate Dataset/train/labels/image cropped in 2025_01_22_07_14_41.txt  \n",
            "  inflating: /content/Sudanese License Plate Dataset/train/labels/image cropped in 2025_01_22_07_15_04.txt  \n",
            "  inflating: /content/Sudanese License Plate Dataset/train/labels/image cropped in 2025_01_22_07_15_52.txt  \n",
            "  inflating: /content/Sudanese License Plate Dataset/train/labels/image cropped in 2025_01_22_07_16_14.txt  \n",
            "  inflating: /content/Sudanese License Plate Dataset/train/labels/image cropped in 2025_01_22_07_16_34.txt  \n",
            "  inflating: /content/Sudanese License Plate Dataset/train/labels/image cropped in 2025_01_22_07_16_57.txt  \n",
            "  inflating: /content/Sudanese License Plate Dataset/train/labels/image cropped in 2025_01_22_07_17_15.txt  \n",
            "  inflating: /content/Sudanese License Plate Dataset/train/labels/image cropped in 2025_01_22_07_17_36.txt  \n",
            "  inflating: /content/Sudanese License Plate Dataset/train/labels/image cropped in 2025_01_22_07_18_41.txt  \n",
            "  inflating: /content/Sudanese License Plate Dataset/train/labels/image cropped in 2025_01_22_07_19_07.txt  \n",
            "  inflating: /content/Sudanese License Plate Dataset/train/labels/image cropped in 2025_01_22_07_19_27.txt  \n",
            "  inflating: /content/Sudanese License Plate Dataset/train/labels/image cropped in 2025_01_22_07_20_27.txt  \n",
            "  inflating: /content/Sudanese License Plate Dataset/train/labels/image cropped in 2025_01_22_07_20_58.txt  \n",
            "  inflating: /content/Sudanese License Plate Dataset/train/labels/image cropped in 2025_01_22_07_21_18.txt  \n",
            "  inflating: /content/Sudanese License Plate Dataset/train/labels/image cropped in 2025_01_22_07_21_48.txt  \n",
            "  inflating: /content/Sudanese License Plate Dataset/train/labels/image cropped in 2025_01_22_07_22_07.txt  \n",
            "  inflating: /content/Sudanese License Plate Dataset/train/labels/image cropped in 2025_01_22_07_22_29.txt  \n",
            "  inflating: /content/Sudanese License Plate Dataset/train/labels/image cropped in 2025_01_22_07_22_50.txt  \n",
            "  inflating: /content/Sudanese License Plate Dataset/train/labels/image cropped in 2025_01_22_07_23_11.txt  \n",
            "  inflating: /content/Sudanese License Plate Dataset/train/labels/image cropped in 2025_01_22_07_23_30.txt  \n",
            "  inflating: /content/Sudanese License Plate Dataset/train/labels/image cropped in 2025_01_22_07_23_48.txt  \n",
            "  inflating: /content/Sudanese License Plate Dataset/train/labels/image cropped in 2025_01_22_07_24_13.txt  \n",
            "  inflating: /content/Sudanese License Plate Dataset/train/labels/image cropped in 2025_01_22_07_24_35.txt  \n",
            "  inflating: /content/Sudanese License Plate Dataset/train/labels/image cropped in 2025_01_22_07_25_03.txt  \n",
            "  inflating: /content/Sudanese License Plate Dataset/train/labels/image cropped in 2025_01_22_07_25_30.txt  \n",
            "  inflating: /content/Sudanese License Plate Dataset/train/labels/image cropped in 2025_01_22_07_25_56.txt  \n",
            "  inflating: /content/Sudanese License Plate Dataset/train/labels/image cropped in 2025_01_22_07_26_24.txt  \n",
            "  inflating: /content/Sudanese License Plate Dataset/train/labels/image cropped in 2025_01_22_07_26_52.txt  \n",
            "  inflating: /content/Sudanese License Plate Dataset/train/labels/image cropped in 2025_01_22_07_27_58.txt  \n",
            "  inflating: /content/Sudanese License Plate Dataset/train/labels/image cropped in 2025_01_22_07_28_10.txt  \n",
            "  inflating: /content/Sudanese License Plate Dataset/train/labels/image cropped in 2025_01_22_07_29_09.txt  \n",
            "  inflating: /content/Sudanese License Plate Dataset/train/labels/image cropped in 2025_01_22_07_29_31.txt  \n",
            "  inflating: /content/Sudanese License Plate Dataset/train/labels/image cropped in 2025_01_22_07_29_56.txt  \n",
            "  inflating: /content/Sudanese License Plate Dataset/train/labels/image cropped in 2025_01_22_07_31_33.txt  \n",
            "  inflating: /content/Sudanese License Plate Dataset/train/labels/image cropped in 2025_01_22_07_31_46.txt  \n",
            "  inflating: /content/Sudanese License Plate Dataset/train/labels/image cropped in 2025_01_22_07_32_00.txt  \n",
            "  inflating: /content/Sudanese License Plate Dataset/train/labels/image cropped in 2025_01_22_07_33_20.txt  \n",
            "  inflating: /content/Sudanese License Plate Dataset/train/labels/image cropped in 2025_01_22_07_33_43.txt  \n",
            "  inflating: /content/Sudanese License Plate Dataset/train/labels/image cropped in 2025_01_22_07_34_55.txt  \n",
            "  inflating: /content/Sudanese License Plate Dataset/train/labels/image cropped in 2025_01_22_07_35_18.txt  \n",
            "  inflating: /content/Sudanese License Plate Dataset/train/labels/image cropped in 2025_01_22_07_35_46.txt  \n",
            "  inflating: /content/Sudanese License Plate Dataset/train/labels/image cropped in 2025_01_22_07_36_05.txt  \n",
            "  inflating: /content/Sudanese License Plate Dataset/train/labels/image cropped in 2025_01_22_07_36_17.txt  \n",
            "  inflating: /content/Sudanese License Plate Dataset/train/labels/image cropped in 2025_01_24_04_00_31.txt  \n",
            "  inflating: /content/Sudanese License Plate Dataset/train/labels/image cropped in 2025_01_24_04_00_43.txt  \n",
            "  inflating: /content/Sudanese License Plate Dataset/train/labels/image cropped in 2025_01_24_04_00_54.txt  \n",
            "  inflating: /content/Sudanese License Plate Dataset/train/labels/image cropped in 2025_01_24_04_01_04.txt  \n",
            "  inflating: /content/Sudanese License Plate Dataset/train/labels/image cropped in 2025_01_24_04_01_17.txt  \n",
            "  inflating: /content/Sudanese License Plate Dataset/train/labels/image cropped in 2025_01_24_04_01_27.txt  \n",
            "  inflating: /content/Sudanese License Plate Dataset/train/labels/image cropped in 2025_01_24_04_01_44.txt  \n",
            "  inflating: /content/Sudanese License Plate Dataset/train/labels/image cropped in 2025_01_24_04_01_55.txt  \n",
            "  inflating: /content/Sudanese License Plate Dataset/train/labels/image cropped in 2025_01_24_04_02_21.txt  \n",
            "  inflating: /content/Sudanese License Plate Dataset/train/labels/image cropped in 2025_01_24_04_02_45.txt  \n",
            "  inflating: /content/Sudanese License Plate Dataset/train/labels/image cropped in 2025_01_24_04_03_05.txt  \n",
            "  inflating: /content/Sudanese License Plate Dataset/train/labels/image cropped in 2025_01_24_04_04_55.txt  \n",
            "  inflating: /content/Sudanese License Plate Dataset/train/labels/image cropped in 2025_01_24_04_05_08.txt  \n",
            "  inflating: /content/Sudanese License Plate Dataset/train/labels/image cropped in 2025_01_24_04_05_18.txt  \n",
            "  inflating: /content/Sudanese License Plate Dataset/train/labels/image cropped in 2025_01_24_04_05_28.txt  \n",
            "  inflating: /content/Sudanese License Plate Dataset/train/labels/image cropped in 2025_01_24_04_05_38.txt  \n",
            "  inflating: /content/Sudanese License Plate Dataset/train/labels/image cropped in 2025_01_24_04_05_50.txt  \n",
            "  inflating: /content/Sudanese License Plate Dataset/train/labels/image cropped in 2025_01_24_04_05_59.txt  \n",
            "  inflating: /content/Sudanese License Plate Dataset/train/labels/image cropped in 2025_01_24_04_06_37.txt  \n",
            "  inflating: /content/Sudanese License Plate Dataset/train/labels/image cropped in 2025_01_24_04_06_49.txt  \n",
            "  inflating: /content/Sudanese License Plate Dataset/train/labels/image cropped in 2025_01_24_04_07_00.txt  \n",
            "  inflating: /content/Sudanese License Plate Dataset/train/labels/image cropped in 2025_01_24_04_07_13.txt  \n",
            "  inflating: /content/Sudanese License Plate Dataset/train/labels/image cropped in 2025_01_24_04_10_36.txt  \n",
            "  inflating: /content/Sudanese License Plate Dataset/train/labels/image cropped in 2025_01_24_04_10_47.txt  \n",
            "  inflating: /content/Sudanese License Plate Dataset/train/labels/image cropped in 2025_01_24_04_11_31.txt  \n",
            "  inflating: /content/Sudanese License Plate Dataset/train/labels/image cropped in 2025_01_24_04_11_40.txt  \n",
            "  inflating: /content/Sudanese License Plate Dataset/train/labels/image cropped in 2025_01_24_04_11_49.txt  \n",
            "  inflating: /content/Sudanese License Plate Dataset/train/labels/image cropped in 2025_01_24_04_12_08.txt  \n",
            "  inflating: /content/Sudanese License Plate Dataset/train/labels/image cropped in 2025_01_24_04_12_16.txt  \n",
            "  inflating: /content/Sudanese License Plate Dataset/train/labels/image cropped in 2025_01_24_04_12_24.txt  \n",
            "  inflating: /content/Sudanese License Plate Dataset/train/labels/image cropped in 2025_01_24_04_12_32.txt  \n",
            "  inflating: /content/Sudanese License Plate Dataset/train/labels/image cropped in 2025_01_24_04_12_40.txt  \n",
            "  inflating: /content/Sudanese License Plate Dataset/train/labels/image cropped in 2025_01_24_04_12_55.txt  \n",
            "  inflating: /content/Sudanese License Plate Dataset/train/labels/image cropped in 2025_01_24_04_13_03.txt  \n",
            "  inflating: /content/Sudanese License Plate Dataset/train/labels/image cropped in 2025_01_24_04_13_12.txt  \n",
            "  inflating: /content/Sudanese License Plate Dataset/train/labels/image cropped in 2025_01_24_04_13_21.txt  \n",
            "  inflating: /content/Sudanese License Plate Dataset/train/labels/image cropped in 2025_01_24_04_13_31.txt  \n",
            "  inflating: /content/Sudanese License Plate Dataset/train/labels/image cropped in 2025_01_24_04_13_51.txt  \n",
            "  inflating: /content/Sudanese License Plate Dataset/train/labels/image cropped in 2025_01_24_04_13_58.txt  \n",
            "  inflating: /content/Sudanese License Plate Dataset/train/labels/image cropped in 2025_01_24_04_14_13.txt  \n",
            "  inflating: /content/Sudanese License Plate Dataset/train/labels/image cropped in 2025_01_24_04_14_22.txt  \n",
            "  inflating: /content/Sudanese License Plate Dataset/train/labels/image cropped in 2025_01_24_04_14_32.txt  \n",
            "  inflating: /content/Sudanese License Plate Dataset/train/labels/image cropped in 2025_01_24_04_15_02.txt  \n",
            "  inflating: /content/Sudanese License Plate Dataset/train/labels/image cropped in 2025_01_24_04_15_11.txt  \n",
            "  inflating: /content/Sudanese License Plate Dataset/train/labels/image cropped in 2025_01_24_04_15_21.txt  \n",
            "  inflating: /content/Sudanese License Plate Dataset/train/labels/image cropped in 2025_01_24_04_15_30.txt  \n",
            "  inflating: /content/Sudanese License Plate Dataset/train/labels/image cropped in 2025_01_24_04_15_37.txt  \n",
            "  inflating: /content/Sudanese License Plate Dataset/train/labels/image cropped in 2025_01_24_04_23_33.txt  \n",
            "  inflating: /content/Sudanese License Plate Dataset/train/labels/image cropped in 2025_01_24_04_23_46.txt  \n",
            "  inflating: /content/Sudanese License Plate Dataset/train/labels/image cropped in 2025_01_24_04_23_55.txt  \n",
            "  inflating: /content/Sudanese License Plate Dataset/train/labels/image cropped in 2025_01_24_04_40_39.txt  \n",
            "  inflating: /content/Sudanese License Plate Dataset/train/labels/image cropped in 2025_01_24_04_40_52.txt  \n",
            "  inflating: /content/Sudanese License Plate Dataset/train/labels/image cropped in 2025_01_24_04_41_22.txt  \n",
            "  inflating: /content/Sudanese License Plate Dataset/train/labels/image cropped in 2025_01_24_04_41_35.txt  \n",
            "  inflating: /content/Sudanese License Plate Dataset/train/labels/image cropped in 2025_01_24_04_41_56.txt  \n",
            "  inflating: /content/Sudanese License Plate Dataset/train/labels/image cropped in 2025_01_24_04_42_05.txt  \n",
            "  inflating: /content/Sudanese License Plate Dataset/train/labels/image cropped in 2025_01_24_04_42_13.txt  \n",
            "  inflating: /content/Sudanese License Plate Dataset/train/labels/image cropped in 2025_01_24_04_42_41.txt  \n",
            "  inflating: /content/Sudanese License Plate Dataset/train/labels/image cropped in 2025_01_24_04_42_53.txt  \n",
            "  inflating: /content/Sudanese License Plate Dataset/train/labels/image cropped in 2025_01_24_04_43_04.txt  \n",
            "  inflating: /content/Sudanese License Plate Dataset/train/labels/image cropped in 2025_01_24_04_43_14.txt  \n",
            "  inflating: /content/Sudanese License Plate Dataset/train/labels/image cropped in 2025_01_24_04_43_37.txt  \n",
            "  inflating: /content/Sudanese License Plate Dataset/train/labels/image cropped in 2025_01_24_04_43_48.txt  \n",
            "  inflating: /content/Sudanese License Plate Dataset/train/labels/image cropped in 2025_01_24_04_43_59.txt  \n",
            "  inflating: /content/Sudanese License Plate Dataset/train/labels/image cropped in 2025_01_24_04_44_10.txt  \n",
            "  inflating: /content/Sudanese License Plate Dataset/train/labels/image cropped in 2025_01_24_04_44_17.txt  \n",
            "  inflating: /content/Sudanese License Plate Dataset/train/labels/image cropped in 2025_01_24_04_44_29.txt  \n",
            "  inflating: /content/Sudanese License Plate Dataset/train/labels/image cropped in 2025_01_24_04_44_38.txt  \n",
            "  inflating: /content/Sudanese License Plate Dataset/train/labels/image cropped in 2025_01_24_04_44_46.txt  \n",
            "  inflating: /content/Sudanese License Plate Dataset/train/labels/image cropped in 2025_01_24_04_44_55.txt  \n",
            "  inflating: /content/Sudanese License Plate Dataset/train/labels/image cropped in 2025_01_24_04_45_03.txt  \n",
            "  inflating: /content/Sudanese License Plate Dataset/train/labels/image cropped in 2025_01_24_04_45_17.txt  \n",
            "  inflating: /content/Sudanese License Plate Dataset/train/labels/image cropped in 2025_01_24_04_46_17.txt  \n",
            "  inflating: /content/Sudanese License Plate Dataset/train/labels/image cropped in 2025_01_24_04_46_26.txt  \n",
            "  inflating: /content/Sudanese License Plate Dataset/train/labels/image cropped in 2025_01_24_04_46_48.txt  \n",
            "  inflating: /content/Sudanese License Plate Dataset/train/labels/image cropped in 2025_01_24_04_46_57.txt  \n",
            "  inflating: /content/Sudanese License Plate Dataset/train/labels/image cropped in 2025_01_24_04_47_06.txt  \n",
            "  inflating: /content/Sudanese License Plate Dataset/train/labels/image cropped in 2025_01_24_04_48_11.txt  \n",
            "  inflating: /content/Sudanese License Plate Dataset/train/labels/image cropped in 2025_01_24_04_48_24.txt  \n",
            "  inflating: /content/Sudanese License Plate Dataset/train/labels/image cropped in 2025_01_24_04_48_39.txt  \n",
            "  inflating: /content/Sudanese License Plate Dataset/train/labels/image cropped in 2025_01_24_04_48_50.txt  \n",
            "  inflating: /content/Sudanese License Plate Dataset/train/labels/image cropped in 2025_01_24_04_49_11.txt  \n",
            "  inflating: /content/Sudanese License Plate Dataset/train/labels/image cropped in 2025_01_24_04_49_21.txt  \n",
            "  inflating: /content/Sudanese License Plate Dataset/train/labels/image cropped in 2025_01_24_04_49_30.txt  \n",
            "  inflating: /content/Sudanese License Plate Dataset/train/labels/image cropped in 2025_01_24_04_49_40.txt  \n",
            "  inflating: /content/Sudanese License Plate Dataset/train/labels/image cropped in 2025_01_24_04_49_50.txt  \n",
            "  inflating: /content/Sudanese License Plate Dataset/train/labels/image cropped in 2025_01_24_04_50_38.txt  \n",
            "  inflating: /content/Sudanese License Plate Dataset/train/labels/image cropped in 2025_01_24_04_50_47.txt  \n",
            "  inflating: /content/Sudanese License Plate Dataset/train/labels/image cropped in 2025_01_24_04_50_57.txt  \n",
            "  inflating: /content/Sudanese License Plate Dataset/train/labels/image cropped in 2025_01_24_04_51_07.txt  \n",
            "  inflating: /content/Sudanese License Plate Dataset/train/labels/image cropped in 2025_01_24_04_54_31.txt  \n",
            "  inflating: /content/Sudanese License Plate Dataset/train/labels/image cropped in 2025_01_24_04_55_06.txt  \n",
            "  inflating: /content/Sudanese License Plate Dataset/train/labels/image cropped in 2025_01_24_04_55_18.txt  \n",
            "  inflating: /content/Sudanese License Plate Dataset/train/labels/image cropped in 2025_01_24_04_55_28.txt  \n",
            "  inflating: /content/Sudanese License Plate Dataset/train/labels/image cropped in 2025_01_24_04_56_08.txt  \n",
            "  inflating: /content/Sudanese License Plate Dataset/train/labels/image cropped in 2025_01_24_04_56_20.txt  \n",
            "  inflating: /content/Sudanese License Plate Dataset/train/labels/image cropped in 2025_01_24_04_56_37.txt  \n",
            "  inflating: /content/Sudanese License Plate Dataset/train/labels/image cropped in 2025_01_24_04_57_15.txt  \n",
            "  inflating: /content/Sudanese License Plate Dataset/train/labels/image cropped in 2025_01_24_04_57_24.txt  \n",
            "  inflating: /content/Sudanese License Plate Dataset/train/labels/image cropped in 2025_01_24_04_57_34.txt  \n",
            "  inflating: /content/Sudanese License Plate Dataset/train/labels/image cropped in 2025_01_24_04_57_51.txt  \n",
            "  inflating: /content/Sudanese License Plate Dataset/train/labels/image cropped in 2025_01_24_04_58_00.txt  \n",
            "  inflating: /content/Sudanese License Plate Dataset/train/labels/image cropped in 2025_01_24_04_58_12.txt  \n",
            "  inflating: /content/Sudanese License Plate Dataset/train/labels/image cropped in 2025_01_24_04_58_35.txt  \n",
            "  inflating: /content/Sudanese License Plate Dataset/train/labels/image cropped in 2025_01_24_04_58_48.txt  \n",
            "  inflating: /content/Sudanese License Plate Dataset/train/labels/image cropped in 2025_01_24_04_59_12.txt  \n",
            "  inflating: /content/Sudanese License Plate Dataset/train/labels/image cropped in 2025_01_24_04_59_25.txt  \n",
            "  inflating: /content/Sudanese License Plate Dataset/train/labels/image cropped in 2025_01_24_04_59_34.txt  \n",
            "  inflating: /content/Sudanese License Plate Dataset/train/labels/image cropped in 2025_01_24_04_59_44.txt  \n",
            "  inflating: /content/Sudanese License Plate Dataset/train/labels/image cropped in 2025_01_24_04_59_54.txt  \n",
            "  inflating: /content/Sudanese License Plate Dataset/train/labels/image cropped in 2025_01_24_05_00_06.txt  \n",
            "  inflating: /content/Sudanese License Plate Dataset/train/labels/image cropped in 2025_01_24_05_00_18.txt  \n",
            "  inflating: /content/Sudanese License Plate Dataset/train/labels/image cropped in 2025_01_24_05_00_30.txt  \n",
            "  inflating: /content/Sudanese License Plate Dataset/train/labels/image cropped in 2025_01_24_05_00_47.txt  \n",
            "  inflating: /content/Sudanese License Plate Dataset/train/labels/image cropped in 2025_01_24_05_00_57.txt  \n",
            "  inflating: /content/Sudanese License Plate Dataset/train/labels/image cropped in 2025_01_24_05_01_18.txt  \n",
            "  inflating: /content/Sudanese License Plate Dataset/train/labels/image cropped in 2025_01_24_05_01_30.txt  \n",
            "  inflating: /content/Sudanese License Plate Dataset/train/labels/image cropped in 2025_01_24_05_01_40.txt  \n",
            "  inflating: /content/Sudanese License Plate Dataset/train/labels/image cropped in 2025_01_24_05_01_51.txt  \n",
            "  inflating: /content/Sudanese License Plate Dataset/train/labels/image cropped in 2025_01_24_05_02_02.txt  \n",
            "  inflating: /content/Sudanese License Plate Dataset/train/labels/image cropped in 2025_01_24_05_03_33.txt  \n",
            "  inflating: /content/Sudanese License Plate Dataset/train/labels/image cropped in 2025_01_24_05_03_41.txt  \n",
            "  inflating: /content/Sudanese License Plate Dataset/train/labels/image cropped in 2025_01_24_05_03_59.txt  \n",
            "  inflating: /content/Sudanese License Plate Dataset/train/labels/image cropped in 2025_01_24_05_04_11.txt  \n",
            "  inflating: /content/Sudanese License Plate Dataset/train/labels/image cropped in 2025_01_24_05_04_21.txt  \n",
            "  inflating: /content/Sudanese License Plate Dataset/train/labels/image cropped in 2025_01_24_06_01_46.txt  \n",
            "  inflating: /content/Sudanese License Plate Dataset/train/labels/image cropped in 2025_01_25_17_46_19.txt  \n",
            "  inflating: /content/Sudanese License Plate Dataset/train/labels/image cropped in 2025_01_25_17_46_35.txt  \n",
            "  inflating: /content/Sudanese License Plate Dataset/train/labels/image cropped in 2025_01_25_17_47_52.txt  \n",
            "  inflating: /content/Sudanese License Plate Dataset/train/labels/image cropped in 2025_01_25_17_48_05.txt  \n",
            "  inflating: /content/Sudanese License Plate Dataset/train/labels/image_cropped_in_2025_01_20_04_04_54.txt  \n",
            "  inflating: /content/Sudanese License Plate Dataset/train/labels/image_cropped_in_2025_01_20_04_04_55.txt  \n",
            "  inflating: /content/Sudanese License Plate Dataset/train/labels/image_cropped_in_2025_01_20_04_04_57.txt  \n",
            "  inflating: /content/Sudanese License Plate Dataset/train/labels/image_cropped_in_2025_01_20_04_04_59.txt  \n",
            "  inflating: /content/Sudanese License Plate Dataset/train/labels/image_cropped_in_2025_01_20_04_05_00.txt  \n",
            "  inflating: /content/Sudanese License Plate Dataset/train/labels/image_cropped_in_2025_01_20_04_05_01.txt  \n",
            "  inflating: /content/Sudanese License Plate Dataset/train/labels/image_cropped_in_2025_01_20_04_05_02.txt  \n",
            "  inflating: /content/Sudanese License Plate Dataset/train/labels/image_cropped_in_2025_01_20_04_05_03.txt  \n",
            "  inflating: /content/Sudanese License Plate Dataset/train/labels/image_cropped_in_2025_01_20_04_05_04.txt  \n",
            "  inflating: /content/Sudanese License Plate Dataset/train/labels/image_cropped_in_2025_01_20_04_05_06.txt  \n",
            "  inflating: /content/Sudanese License Plate Dataset/train/labels/image_cropped_in_2025_01_20_04_05_07.txt  \n",
            "  inflating: /content/Sudanese License Plate Dataset/train/labels/image_cropped_in_2025_01_20_04_34_17.txt  \n",
            "  inflating: /content/Sudanese License Plate Dataset/train/labels/image_cropped_in_2025_01_20_04_34_18.txt  \n",
            "  inflating: /content/Sudanese License Plate Dataset/train/labels/image_cropped_in_2025_01_20_04_34_19.txt  \n",
            "  inflating: /content/Sudanese License Plate Dataset/train/labels/image_cropped_in_2025_01_20_04_34_20.txt  \n",
            "  inflating: /content/Sudanese License Plate Dataset/train/labels/image_cropped_in_2025_01_20_04_34_24.txt  \n",
            "  inflating: /content/Sudanese License Plate Dataset/train/labels/image_cropped_in_2025_01_20_04_34_26.txt  \n",
            "  inflating: /content/Sudanese License Plate Dataset/train/labels/image_cropped_in_2025_01_20_04_34_27.txt  \n",
            "  inflating: /content/Sudanese License Plate Dataset/train/labels/image_cropped_in_2025_01_20_04_34_28.txt  \n",
            "  inflating: /content/Sudanese License Plate Dataset/train/labels/image_cropped_in_2025_01_20_04_34_30.txt  \n",
            "  inflating: /content/Sudanese License Plate Dataset/train/labels/image_cropped_in_2025_01_20_04_34_31.txt  \n",
            "  inflating: /content/Sudanese License Plate Dataset/train/labels/image_cropped_in_2025_01_20_04_34_33.txt  \n",
            "  inflating: /content/Sudanese License Plate Dataset/train/labels/image_cropped_in_2025_01_20_04_34_34.txt  \n",
            "  inflating: /content/Sudanese License Plate Dataset/train/labels/image_cropped_in_2025_01_20_04_34_36.txt  \n",
            "  inflating: /content/Sudanese License Plate Dataset/train/labels/image_cropped_in_2025_01_20_04_34_37.txt  \n",
            "  inflating: /content/Sudanese License Plate Dataset/train/labels/image_cropped_in_2025_01_20_04_34_40.txt  \n",
            "  inflating: /content/Sudanese License Plate Dataset/train/labels/image_cropped_in_2025_01_20_04_34_42.txt  \n",
            "  inflating: /content/Sudanese License Plate Dataset/train/labels/image_cropped_in_2025_01_20_04_34_43.txt  \n",
            "  inflating: /content/Sudanese License Plate Dataset/train/labels/image_cropped_in_2025_01_20_04_34_44.txt  \n",
            "  inflating: /content/Sudanese License Plate Dataset/train/labels/image_cropped_in_2025_01_20_04_34_46.txt  \n",
            "  inflating: /content/Sudanese License Plate Dataset/train/labels/image_cropped_in_2025_01_20_04_34_49.txt  \n",
            "  inflating: /content/Sudanese License Plate Dataset/train/labels/image_cropped_in_2025_01_20_04_34_50.txt  \n",
            "  inflating: /content/Sudanese License Plate Dataset/train/labels/image_cropped_in_2025_01_20_04_34_52.txt  \n",
            "  inflating: /content/Sudanese License Plate Dataset/train/labels/image_cropped_in_2025_01_20_04_34_53.txt  \n",
            "  inflating: /content/Sudanese License Plate Dataset/train/labels/image_cropped_in_2025_01_20_04_34_55.txt  \n",
            "  inflating: /content/Sudanese License Plate Dataset/train/labels/image_cropped_in_2025_01_20_04_34_57.txt  \n",
            "  inflating: /content/Sudanese License Plate Dataset/train/labels/image_cropped_in_2025_01_20_04_35_00.txt  \n",
            "  inflating: /content/Sudanese License Plate Dataset/train/labels/image_cropped_in_2025_01_20_04_35_02.txt  \n",
            "  inflating: /content/Sudanese License Plate Dataset/train/labels/image_cropped_in_2025_01_20_04_35_05.txt  \n",
            "  inflating: /content/Sudanese License Plate Dataset/train/labels/image_cropped_in_2025_01_20_04_35_07.txt  \n",
            "  inflating: /content/Sudanese License Plate Dataset/train/labels/image_cropped_in_2025_01_20_04_35_08.txt  \n",
            "  inflating: /content/Sudanese License Plate Dataset/train/labels/image_cropped_in_2025_01_20_04_35_10.txt  \n",
            "  inflating: /content/Sudanese License Plate Dataset/train/labels/image_cropped_in_2025_01_20_04_35_11.txt  \n",
            "  inflating: /content/Sudanese License Plate Dataset/train/labels/image_cropped_in_2025_01_20_04_35_12.txt  \n",
            "  inflating: /content/Sudanese License Plate Dataset/train/labels/image_cropped_in_2025_01_20_04_35_13.txt  \n",
            "  inflating: /content/Sudanese License Plate Dataset/train/labels/image_cropped_in_2025_01_20_04_35_14.txt  \n",
            "  inflating: /content/Sudanese License Plate Dataset/train/labels/image_cropped_in_2025_01_20_04_35_16.txt  \n",
            "  inflating: /content/Sudanese License Plate Dataset/train/labels/image_cropped_in_2025_01_20_04_35_17.txt  \n",
            "  inflating: /content/Sudanese License Plate Dataset/train/labels/image_cropped_in_2025_01_20_04_35_18.txt  \n",
            "  inflating: /content/Sudanese License Plate Dataset/train/labels/image_cropped_in_2025_01_20_04_35_19.txt  \n",
            "  inflating: /content/Sudanese License Plate Dataset/train/labels/image_cropped_in_2025_01_20_04_35_20.txt  \n",
            "  inflating: /content/Sudanese License Plate Dataset/train/labels/image_cropped_in_2025_01_20_04_35_21.txt  \n",
            "  inflating: /content/Sudanese License Plate Dataset/train/labels/image_cropped_in_2025_01_20_04_35_22.txt  \n",
            "  inflating: /content/Sudanese License Plate Dataset/train/labels/image_cropped_in_2025_01_20_04_35_24.txt  \n",
            "  inflating: /content/Sudanese License Plate Dataset/train/labels/image_cropped_in_2025_01_20_04_35_25.txt  \n",
            "  inflating: /content/Sudanese License Plate Dataset/train/labels/image_cropped_in_2025_01_20_04_35_26.txt  \n",
            "  inflating: /content/Sudanese License Plate Dataset/train/labels/image_cropped_in_2025_01_20_04_35_28.txt  \n",
            "  inflating: /content/Sudanese License Plate Dataset/train/labels/image_cropped_in_2025_01_20_04_35_29.txt  \n",
            "  inflating: /content/Sudanese License Plate Dataset/train/labels/image_cropped_in_2025_01_20_04_35_31.txt  \n",
            "  inflating: /content/Sudanese License Plate Dataset/train/labels/image_cropped_in_2025_01_20_04_35_33.txt  \n",
            "  inflating: /content/Sudanese License Plate Dataset/train/labels/image_cropped_in_2025_01_20_04_35_34.txt  \n",
            "  inflating: /content/Sudanese License Plate Dataset/train/labels/image_cropped_in_2025_01_20_04_35_37.txt  \n",
            "  inflating: /content/Sudanese License Plate Dataset/train/labels/image_cropped_in_2025_01_20_04_35_40.txt  \n",
            "  inflating: /content/Sudanese License Plate Dataset/train/labels/image_cropped_in_2025_01_20_04_35_41.txt  \n",
            "  inflating: /content/Sudanese License Plate Dataset/train/labels/image_cropped_in_2025_01_20_04_35_42.txt  \n",
            "  inflating: /content/Sudanese License Plate Dataset/train/labels/image_cropped_in_2025_01_20_04_35_44.txt  \n",
            "  inflating: /content/Sudanese License Plate Dataset/train/labels/image_cropped_in_2025_01_20_04_35_45.txt  \n",
            "  inflating: /content/Sudanese License Plate Dataset/train/labels/image_cropped_in_2025_01_20_04_35_46.txt  \n",
            "  inflating: /content/Sudanese License Plate Dataset/train/labels/image_cropped_in_2025_01_20_04_35_49.txt  \n",
            "  inflating: /content/Sudanese License Plate Dataset/train/labels/image_cropped_in_2025_01_20_04_35_51.txt  \n",
            "  inflating: /content/Sudanese License Plate Dataset/train/labels/image_cropped_in_2025_01_20_04_35_52.txt  \n",
            "  inflating: /content/Sudanese License Plate Dataset/train/labels/image_cropped_in_2025_01_20_04_35_54.txt  \n",
            "  inflating: /content/Sudanese License Plate Dataset/train/labels/image_cropped_in_2025_01_20_04_35_55.txt  \n",
            "  inflating: /content/Sudanese License Plate Dataset/train/labels/OIP (1).txt  \n",
            "  inflating: /content/Sudanese License Plate Dataset/train/labels/R.txt  \n",
            "  inflating: /content/Sudanese License Plate Dataset/train/labels/R1.txt  \n",
            "  inflating: /content/Sudanese License Plate Dataset/train/labels/R2.txt  \n",
            "  inflating: /content/Sudanese License Plate Dataset/train/labels/s-l300.txt  \n",
            "  inflating: /content/Sudanese License Plate Dataset/train/labels/s-l400.txt  \n",
            "  inflating: /content/Sudanese License Plate Dataset/train/labels/Transport.txt  \n",
            "   creating: /content/Sudanese License Plate Dataset/valid/\n",
            "   creating: /content/Sudanese License Plate Dataset/valid/images/\n",
            "  inflating: /content/Sudanese License Plate Dataset/valid/images/image cropped in 2025_01_21_08_36_51.jpg  \n",
            "  inflating: /content/Sudanese License Plate Dataset/valid/images/image cropped in 2025_01_21_08_37_04.jpg  \n",
            "  inflating: /content/Sudanese License Plate Dataset/valid/images/image cropped in 2025_01_21_08_37_13.jpg  \n",
            "  inflating: /content/Sudanese License Plate Dataset/valid/images/image cropped in 2025_01_21_08_37_21.jpg  \n",
            "  inflating: /content/Sudanese License Plate Dataset/valid/images/image cropped in 2025_01_21_08_37_42.jpg  \n",
            "  inflating: /content/Sudanese License Plate Dataset/valid/images/image cropped in 2025_01_21_08_37_52.jpg  \n",
            "  inflating: /content/Sudanese License Plate Dataset/valid/images/image cropped in 2025_01_21_08_38_01.jpg  \n",
            "  inflating: /content/Sudanese License Plate Dataset/valid/images/image cropped in 2025_01_21_08_38_11.jpg  \n",
            "  inflating: /content/Sudanese License Plate Dataset/valid/images/image cropped in 2025_01_21_08_38_20.jpg  \n",
            "  inflating: /content/Sudanese License Plate Dataset/valid/images/image cropped in 2025_01_21_08_38_38.jpg  \n",
            "  inflating: /content/Sudanese License Plate Dataset/valid/images/image cropped in 2025_01_21_08_38_47.jpg  \n",
            "  inflating: /content/Sudanese License Plate Dataset/valid/images/image cropped in 2025_01_21_08_38_58.jpg  \n",
            "  inflating: /content/Sudanese License Plate Dataset/valid/images/image cropped in 2025_01_21_08_39_06.jpg  \n",
            "  inflating: /content/Sudanese License Plate Dataset/valid/images/image cropped in 2025_01_21_08_39_15.jpg  \n",
            "  inflating: /content/Sudanese License Plate Dataset/valid/images/image cropped in 2025_01_21_08_39_40.jpg  \n",
            "  inflating: /content/Sudanese License Plate Dataset/valid/images/image cropped in 2025_01_21_08_39_52.jpg  \n",
            "  inflating: /content/Sudanese License Plate Dataset/valid/images/image cropped in 2025_01_21_08_41_51.jpg  \n",
            "  inflating: /content/Sudanese License Plate Dataset/valid/images/image cropped in 2025_01_21_08_42_00.jpg  \n",
            "  inflating: /content/Sudanese License Plate Dataset/valid/images/image cropped in 2025_01_21_08_44_06.jpg  \n",
            "  inflating: /content/Sudanese License Plate Dataset/valid/images/image cropped in 2025_01_21_08_46_02.jpg  \n",
            "  inflating: /content/Sudanese License Plate Dataset/valid/images/image cropped in 2025_01_21_08_46_17.jpg  \n",
            "  inflating: /content/Sudanese License Plate Dataset/valid/images/image cropped in 2025_01_21_08_46_25.jpg  \n",
            "  inflating: /content/Sudanese License Plate Dataset/valid/images/image cropped in 2025_01_21_08_46_35.jpg  \n",
            "  inflating: /content/Sudanese License Plate Dataset/valid/images/image cropped in 2025_01_21_08_46_43.jpg  \n",
            "  inflating: /content/Sudanese License Plate Dataset/valid/images/image cropped in 2025_01_21_08_47_08.jpg  \n",
            "  inflating: /content/Sudanese License Plate Dataset/valid/images/image cropped in 2025_01_21_08_47_32.jpg  \n",
            "  inflating: /content/Sudanese License Plate Dataset/valid/images/image cropped in 2025_01_21_08_49_46.jpg  \n",
            "  inflating: /content/Sudanese License Plate Dataset/valid/images/image cropped in 2025_01_21_08_49_55.jpg  \n",
            "  inflating: /content/Sudanese License Plate Dataset/valid/images/image cropped in 2025_01_21_08_50_58.jpg  \n",
            "  inflating: /content/Sudanese License Plate Dataset/valid/images/image cropped in 2025_01_21_08_51_20.jpg  \n",
            "  inflating: /content/Sudanese License Plate Dataset/valid/images/image cropped in 2025_01_21_08_51_54.jpg  \n",
            "  inflating: /content/Sudanese License Plate Dataset/valid/images/image cropped in 2025_01_21_08_52_16.jpg  \n",
            "  inflating: /content/Sudanese License Plate Dataset/valid/images/image cropped in 2025_01_21_08_52_24.jpg  \n",
            "  inflating: /content/Sudanese License Plate Dataset/valid/images/image cropped in 2025_01_21_08_52_34.jpg  \n",
            "  inflating: /content/Sudanese License Plate Dataset/valid/images/image cropped in 2025_01_21_08_54_21.jpg  \n",
            "  inflating: /content/Sudanese License Plate Dataset/valid/images/image cropped in 2025_01_21_08_54_29.jpg  \n",
            "  inflating: /content/Sudanese License Plate Dataset/valid/images/image cropped in 2025_01_21_08_54_39.jpg  \n",
            "  inflating: /content/Sudanese License Plate Dataset/valid/images/image cropped in 2025_01_21_08_54_48.jpg  \n",
            "  inflating: /content/Sudanese License Plate Dataset/valid/images/image cropped in 2025_01_21_08_54_58.jpg  \n",
            "  inflating: /content/Sudanese License Plate Dataset/valid/images/image cropped in 2025_01_21_08_55_11.jpg  \n",
            "  inflating: /content/Sudanese License Plate Dataset/valid/images/image cropped in 2025_01_21_08_55_20.jpg  \n",
            "  inflating: /content/Sudanese License Plate Dataset/valid/images/image cropped in 2025_01_21_08_55_28.jpg  \n",
            "  inflating: /content/Sudanese License Plate Dataset/valid/images/image cropped in 2025_01_21_08_55_46.jpg  \n",
            "  inflating: /content/Sudanese License Plate Dataset/valid/images/image cropped in 2025_01_21_08_56_26.jpg  \n",
            "  inflating: /content/Sudanese License Plate Dataset/valid/images/image cropped in 2025_01_21_08_56_41.jpg  \n",
            "  inflating: /content/Sudanese License Plate Dataset/valid/images/image cropped in 2025_01_21_08_57_24.jpg  \n",
            "  inflating: /content/Sudanese License Plate Dataset/valid/images/image cropped in 2025_01_21_08_57_40.jpg  \n",
            "  inflating: /content/Sudanese License Plate Dataset/valid/images/image cropped in 2025_01_21_08_57_53.jpg  \n",
            "  inflating: /content/Sudanese License Plate Dataset/valid/images/image cropped in 2025_01_21_09_03_02.jpg  \n",
            "  inflating: /content/Sudanese License Plate Dataset/valid/images/image cropped in 2025_01_21_09_03_29.jpg  \n",
            "  inflating: /content/Sudanese License Plate Dataset/valid/images/image cropped in 2025_01_21_09_03_41.jpg  \n",
            "  inflating: /content/Sudanese License Plate Dataset/valid/images/image cropped in 2025_01_21_09_03_54.jpg  \n",
            "  inflating: /content/Sudanese License Plate Dataset/valid/images/image cropped in 2025_01_21_09_04_09.jpg  \n",
            "  inflating: /content/Sudanese License Plate Dataset/valid/images/image cropped in 2025_01_21_09_04_45.jpg  \n",
            "  inflating: /content/Sudanese License Plate Dataset/valid/images/image cropped in 2025_01_21_09_05_04.jpg  \n",
            "  inflating: /content/Sudanese License Plate Dataset/valid/images/image cropped in 2025_01_21_09_05_47.jpg  \n",
            "  inflating: /content/Sudanese License Plate Dataset/valid/images/image cropped in 2025_01_21_09_06_04.jpg  \n",
            "  inflating: /content/Sudanese License Plate Dataset/valid/images/image cropped in 2025_01_21_09_07_19.jpg  \n",
            "  inflating: /content/Sudanese License Plate Dataset/valid/images/image cropped in 2025_01_21_09_07_37.jpg  \n",
            "  inflating: /content/Sudanese License Plate Dataset/valid/images/image cropped in 2025_01_21_09_07_46.jpg  \n",
            "  inflating: /content/Sudanese License Plate Dataset/valid/images/image cropped in 2025_01_21_09_08_35.jpg  \n",
            "  inflating: /content/Sudanese License Plate Dataset/valid/images/image cropped in 2025_01_21_09_10_08.jpg  \n",
            "  inflating: /content/Sudanese License Plate Dataset/valid/images/image cropped in 2025_01_21_09_10_29.jpg  \n",
            "  inflating: /content/Sudanese License Plate Dataset/valid/images/image cropped in 2025_01_21_09_11_59.jpg  \n",
            "  inflating: /content/Sudanese License Plate Dataset/valid/images/image cropped in 2025_01_21_09_12_16.jpg  \n",
            "  inflating: /content/Sudanese License Plate Dataset/valid/images/image cropped in 2025_01_21_09_12_31.jpg  \n",
            "  inflating: /content/Sudanese License Plate Dataset/valid/images/image cropped in 2025_01_21_09_12_43.jpg  \n",
            "  inflating: /content/Sudanese License Plate Dataset/valid/images/image cropped in 2025_01_21_09_12_53.jpg  \n",
            "  inflating: /content/Sudanese License Plate Dataset/valid/images/image cropped in 2025_01_21_09_13_12.jpg  \n",
            "  inflating: /content/Sudanese License Plate Dataset/valid/images/image cropped in 2025_01_21_09_13_20.jpg  \n",
            "  inflating: /content/Sudanese License Plate Dataset/valid/images/image cropped in 2025_01_21_09_13_29.jpg  \n",
            "  inflating: /content/Sudanese License Plate Dataset/valid/images/image cropped in 2025_01_21_09_13_38.jpg  \n",
            "  inflating: /content/Sudanese License Plate Dataset/valid/images/image cropped in 2025_01_21_09_13_46.jpg  \n",
            "  inflating: /content/Sudanese License Plate Dataset/valid/images/image cropped in 2025_01_21_09_14_04.jpg  \n",
            "  inflating: /content/Sudanese License Plate Dataset/valid/images/image cropped in 2025_01_21_09_14_12.jpg  \n",
            "  inflating: /content/Sudanese License Plate Dataset/valid/images/image cropped in 2025_01_21_09_14_21.jpg  \n",
            "  inflating: /content/Sudanese License Plate Dataset/valid/images/image cropped in 2025_01_21_09_14_30.jpg  \n",
            "  inflating: /content/Sudanese License Plate Dataset/valid/images/image cropped in 2025_01_21_09_14_40.jpg  \n",
            "  inflating: /content/Sudanese License Plate Dataset/valid/images/image cropped in 2025_01_21_09_15_04.jpg  \n",
            "  inflating: /content/Sudanese License Plate Dataset/valid/images/image cropped in 2025_01_21_09_15_13.jpg  \n",
            "  inflating: /content/Sudanese License Plate Dataset/valid/images/image cropped in 2025_01_21_09_15_22.jpg  \n",
            "  inflating: /content/Sudanese License Plate Dataset/valid/images/image cropped in 2025_01_21_09_15_31.jpg  \n",
            "  inflating: /content/Sudanese License Plate Dataset/valid/images/image cropped in 2025_01_21_09_15_42.jpg  \n",
            "  inflating: /content/Sudanese License Plate Dataset/valid/images/image cropped in 2025_01_21_09_15_55.jpg  \n",
            "  inflating: /content/Sudanese License Plate Dataset/valid/images/image cropped in 2025_01_21_09_16_09.jpg  \n",
            "  inflating: /content/Sudanese License Plate Dataset/valid/images/image cropped in 2025_01_21_09_17_01.jpg  \n",
            "  inflating: /content/Sudanese License Plate Dataset/valid/images/image cropped in 2025_01_21_09_17_13.jpg  \n",
            "  inflating: /content/Sudanese License Plate Dataset/valid/images/image cropped in 2025_01_21_09_17_24.jpg  \n",
            "  inflating: /content/Sudanese License Plate Dataset/valid/images/image cropped in 2025_01_21_09_17_44.jpg  \n",
            "  inflating: /content/Sudanese License Plate Dataset/valid/images/image cropped in 2025_01_21_09_17_54.jpg  \n",
            "  inflating: /content/Sudanese License Plate Dataset/valid/images/image cropped in 2025_01_21_09_18_04.jpg  \n",
            "  inflating: /content/Sudanese License Plate Dataset/valid/images/image cropped in 2025_01_21_09_18_14.jpg  \n",
            "  inflating: /content/Sudanese License Plate Dataset/valid/images/image cropped in 2025_01_21_09_18_24.jpg  \n",
            "  inflating: /content/Sudanese License Plate Dataset/valid/images/image cropped in 2025_01_21_09_18_40.jpg  \n",
            "  inflating: /content/Sudanese License Plate Dataset/valid/images/image cropped in 2025_01_21_09_18_53.jpg  \n",
            "  inflating: /content/Sudanese License Plate Dataset/valid/images/image cropped in 2025_01_21_09_19_08.jpg  \n",
            "  inflating: /content/Sudanese License Plate Dataset/valid/images/image cropped in 2025_01_21_11_22_57.jpg  \n",
            "  inflating: /content/Sudanese License Plate Dataset/valid/images/image cropped in 2025_01_21_11_23_20.jpg  \n",
            "  inflating: /content/Sudanese License Plate Dataset/valid/images/image cropped in 2025_01_21_11_23_29.jpg  \n",
            "  inflating: /content/Sudanese License Plate Dataset/valid/images/image cropped in 2025_01_21_11_24_32.jpg  \n",
            "  inflating: /content/Sudanese License Plate Dataset/valid/images/image cropped in 2025_01_21_11_24_41.jpg  \n",
            "  inflating: /content/Sudanese License Plate Dataset/valid/images/image cropped in 2025_01_21_11_26_46.jpg  \n",
            "  inflating: /content/Sudanese License Plate Dataset/valid/images/image cropped in 2025_01_21_11_26_57.jpg  \n",
            "  inflating: /content/Sudanese License Plate Dataset/valid/images/image cropped in 2025_01_21_11_27_11.jpg  \n",
            "  inflating: /content/Sudanese License Plate Dataset/valid/images/image cropped in 2025_01_21_11_27_20.jpg  \n",
            "  inflating: /content/Sudanese License Plate Dataset/valid/images/image cropped in 2025_01_21_11_27_29.jpg  \n",
            "  inflating: /content/Sudanese License Plate Dataset/valid/images/image cropped in 2025_01_21_11_28_18.jpg  \n",
            "  inflating: /content/Sudanese License Plate Dataset/valid/images/image cropped in 2025_01_21_11_28_26.jpg  \n",
            "  inflating: /content/Sudanese License Plate Dataset/valid/images/image cropped in 2025_01_21_11_28_35.jpg  \n",
            "  inflating: /content/Sudanese License Plate Dataset/valid/images/image cropped in 2025_01_21_11_28_44.jpg  \n",
            "  inflating: /content/Sudanese License Plate Dataset/valid/images/image cropped in 2025_01_21_11_28_54.jpg  \n",
            "  inflating: /content/Sudanese License Plate Dataset/valid/images/image cropped in 2025_01_21_11_29_09.jpg  \n",
            "  inflating: /content/Sudanese License Plate Dataset/valid/images/image cropped in 2025_01_21_11_29_19.jpg  \n",
            "  inflating: /content/Sudanese License Plate Dataset/valid/images/image cropped in 2025_01_21_11_29_28.jpg  \n",
            "  inflating: /content/Sudanese License Plate Dataset/valid/images/image cropped in 2025_01_21_11_29_37.jpg  \n",
            "  inflating: /content/Sudanese License Plate Dataset/valid/images/image cropped in 2025_01_21_11_29_48.jpg  \n",
            "  inflating: /content/Sudanese License Plate Dataset/valid/images/image cropped in 2025_01_21_11_31_53.jpg  \n",
            "  inflating: /content/Sudanese License Plate Dataset/valid/images/image cropped in 2025_01_21_11_32_04.jpg  \n",
            "  inflating: /content/Sudanese License Plate Dataset/valid/images/image cropped in 2025_01_21_11_32_18.jpg  \n",
            "  inflating: /content/Sudanese License Plate Dataset/valid/images/image cropped in 2025_01_21_11_32_30.jpg  \n",
            "  inflating: /content/Sudanese License Plate Dataset/valid/images/image cropped in 2025_01_21_11_33_20.jpg  \n",
            "  inflating: /content/Sudanese License Plate Dataset/valid/images/image cropped in 2025_01_21_11_33_59.jpg  \n",
            "  inflating: /content/Sudanese License Plate Dataset/valid/images/image cropped in 2025_01_21_11_34_12.jpg  \n",
            "  inflating: /content/Sudanese License Plate Dataset/valid/images/image cropped in 2025_01_21_11_34_23.jpg  \n",
            "  inflating: /content/Sudanese License Plate Dataset/valid/images/image cropped in 2025_01_21_11_34_32.jpg  \n",
            "  inflating: /content/Sudanese License Plate Dataset/valid/images/image cropped in 2025_01_21_11_34_42.jpg  \n",
            "  inflating: /content/Sudanese License Plate Dataset/valid/images/image cropped in 2025_01_21_11_34_59.jpg  \n",
            "  inflating: /content/Sudanese License Plate Dataset/valid/images/image cropped in 2025_01_21_11_35_09.jpg  \n",
            "  inflating: /content/Sudanese License Plate Dataset/valid/images/image cropped in 2025_01_21_11_35_19.jpg  \n",
            "  inflating: /content/Sudanese License Plate Dataset/valid/images/image cropped in 2025_01_21_11_35_36.jpg  \n",
            "  inflating: /content/Sudanese License Plate Dataset/valid/images/image cropped in 2025_01_21_11_35_48.jpg  \n",
            "  inflating: /content/Sudanese License Plate Dataset/valid/images/image cropped in 2025_01_21_11_36_09.jpg  \n",
            "   creating: /content/Sudanese License Plate Dataset/valid/labels/\n",
            "  inflating: /content/Sudanese License Plate Dataset/valid/labels/image cropped in 2025_01_21_08_36_51.txt  \n",
            "  inflating: /content/Sudanese License Plate Dataset/valid/labels/image cropped in 2025_01_21_08_37_04.txt  \n",
            "  inflating: /content/Sudanese License Plate Dataset/valid/labels/image cropped in 2025_01_21_08_37_13.txt  \n",
            "  inflating: /content/Sudanese License Plate Dataset/valid/labels/image cropped in 2025_01_21_08_37_21.txt  \n",
            "  inflating: /content/Sudanese License Plate Dataset/valid/labels/image cropped in 2025_01_21_08_37_42.txt  \n",
            "  inflating: /content/Sudanese License Plate Dataset/valid/labels/image cropped in 2025_01_21_08_37_52.txt  \n",
            "  inflating: /content/Sudanese License Plate Dataset/valid/labels/image cropped in 2025_01_21_08_38_01.txt  \n",
            "  inflating: /content/Sudanese License Plate Dataset/valid/labels/image cropped in 2025_01_21_08_38_11.txt  \n",
            "  inflating: /content/Sudanese License Plate Dataset/valid/labels/image cropped in 2025_01_21_08_38_20.txt  \n",
            "  inflating: /content/Sudanese License Plate Dataset/valid/labels/image cropped in 2025_01_21_08_38_38.txt  \n",
            "  inflating: /content/Sudanese License Plate Dataset/valid/labels/image cropped in 2025_01_21_08_38_47.txt  \n",
            "  inflating: /content/Sudanese License Plate Dataset/valid/labels/image cropped in 2025_01_21_08_38_58.txt  \n",
            "  inflating: /content/Sudanese License Plate Dataset/valid/labels/image cropped in 2025_01_21_08_39_06.txt  \n",
            "  inflating: /content/Sudanese License Plate Dataset/valid/labels/image cropped in 2025_01_21_08_39_15.txt  \n",
            "  inflating: /content/Sudanese License Plate Dataset/valid/labels/image cropped in 2025_01_21_08_39_40.txt  \n",
            "  inflating: /content/Sudanese License Plate Dataset/valid/labels/image cropped in 2025_01_21_08_39_52.txt  \n",
            "  inflating: /content/Sudanese License Plate Dataset/valid/labels/image cropped in 2025_01_21_08_41_51.txt  \n",
            "  inflating: /content/Sudanese License Plate Dataset/valid/labels/image cropped in 2025_01_21_08_42_00.txt  \n",
            "  inflating: /content/Sudanese License Plate Dataset/valid/labels/image cropped in 2025_01_21_08_44_06.txt  \n",
            "  inflating: /content/Sudanese License Plate Dataset/valid/labels/image cropped in 2025_01_21_08_46_02.txt  \n",
            "  inflating: /content/Sudanese License Plate Dataset/valid/labels/image cropped in 2025_01_21_08_46_17.txt  \n",
            "  inflating: /content/Sudanese License Plate Dataset/valid/labels/image cropped in 2025_01_21_08_46_25.txt  \n",
            "  inflating: /content/Sudanese License Plate Dataset/valid/labels/image cropped in 2025_01_21_08_46_35.txt  \n",
            "  inflating: /content/Sudanese License Plate Dataset/valid/labels/image cropped in 2025_01_21_08_46_43.txt  \n",
            "  inflating: /content/Sudanese License Plate Dataset/valid/labels/image cropped in 2025_01_21_08_47_08.txt  \n",
            "  inflating: /content/Sudanese License Plate Dataset/valid/labels/image cropped in 2025_01_21_08_47_32.txt  \n",
            "  inflating: /content/Sudanese License Plate Dataset/valid/labels/image cropped in 2025_01_21_08_49_46.txt  \n",
            "  inflating: /content/Sudanese License Plate Dataset/valid/labels/image cropped in 2025_01_21_08_49_55.txt  \n",
            "  inflating: /content/Sudanese License Plate Dataset/valid/labels/image cropped in 2025_01_21_08_50_58.txt  \n",
            "  inflating: /content/Sudanese License Plate Dataset/valid/labels/image cropped in 2025_01_21_08_51_20.txt  \n",
            "  inflating: /content/Sudanese License Plate Dataset/valid/labels/image cropped in 2025_01_21_08_51_54.txt  \n",
            "  inflating: /content/Sudanese License Plate Dataset/valid/labels/image cropped in 2025_01_21_08_52_16.txt  \n",
            "  inflating: /content/Sudanese License Plate Dataset/valid/labels/image cropped in 2025_01_21_08_52_24.txt  \n",
            "  inflating: /content/Sudanese License Plate Dataset/valid/labels/image cropped in 2025_01_21_08_52_34.txt  \n",
            "  inflating: /content/Sudanese License Plate Dataset/valid/labels/image cropped in 2025_01_21_08_54_21.txt  \n",
            "  inflating: /content/Sudanese License Plate Dataset/valid/labels/image cropped in 2025_01_21_08_54_29.txt  \n",
            "  inflating: /content/Sudanese License Plate Dataset/valid/labels/image cropped in 2025_01_21_08_54_39.txt  \n",
            "  inflating: /content/Sudanese License Plate Dataset/valid/labels/image cropped in 2025_01_21_08_54_48.txt  \n",
            "  inflating: /content/Sudanese License Plate Dataset/valid/labels/image cropped in 2025_01_21_08_54_58.txt  \n",
            "  inflating: /content/Sudanese License Plate Dataset/valid/labels/image cropped in 2025_01_21_08_55_11.txt  \n",
            "  inflating: /content/Sudanese License Plate Dataset/valid/labels/image cropped in 2025_01_21_08_55_20.txt  \n",
            "  inflating: /content/Sudanese License Plate Dataset/valid/labels/image cropped in 2025_01_21_08_55_28.txt  \n",
            "  inflating: /content/Sudanese License Plate Dataset/valid/labels/image cropped in 2025_01_21_08_55_46.txt  \n",
            "  inflating: /content/Sudanese License Plate Dataset/valid/labels/image cropped in 2025_01_21_08_56_26.txt  \n",
            "  inflating: /content/Sudanese License Plate Dataset/valid/labels/image cropped in 2025_01_21_08_56_41.txt  \n",
            "  inflating: /content/Sudanese License Plate Dataset/valid/labels/image cropped in 2025_01_21_08_57_24.txt  \n",
            "  inflating: /content/Sudanese License Plate Dataset/valid/labels/image cropped in 2025_01_21_08_57_40.txt  \n",
            "  inflating: /content/Sudanese License Plate Dataset/valid/labels/image cropped in 2025_01_21_08_57_53.txt  \n",
            "  inflating: /content/Sudanese License Plate Dataset/valid/labels/image cropped in 2025_01_21_09_03_02.txt  \n",
            "  inflating: /content/Sudanese License Plate Dataset/valid/labels/image cropped in 2025_01_21_09_03_29.txt  \n",
            "  inflating: /content/Sudanese License Plate Dataset/valid/labels/image cropped in 2025_01_21_09_03_41.txt  \n",
            "  inflating: /content/Sudanese License Plate Dataset/valid/labels/image cropped in 2025_01_21_09_03_54.txt  \n",
            "  inflating: /content/Sudanese License Plate Dataset/valid/labels/image cropped in 2025_01_21_09_04_09.txt  \n",
            "  inflating: /content/Sudanese License Plate Dataset/valid/labels/image cropped in 2025_01_21_09_04_45.txt  \n",
            "  inflating: /content/Sudanese License Plate Dataset/valid/labels/image cropped in 2025_01_21_09_05_04.txt  \n",
            "  inflating: /content/Sudanese License Plate Dataset/valid/labels/image cropped in 2025_01_21_09_05_47.txt  \n",
            "  inflating: /content/Sudanese License Plate Dataset/valid/labels/image cropped in 2025_01_21_09_06_04.txt  \n",
            "  inflating: /content/Sudanese License Plate Dataset/valid/labels/image cropped in 2025_01_21_09_07_19.txt  \n",
            "  inflating: /content/Sudanese License Plate Dataset/valid/labels/image cropped in 2025_01_21_09_07_37.txt  \n",
            "  inflating: /content/Sudanese License Plate Dataset/valid/labels/image cropped in 2025_01_21_09_07_46.txt  \n",
            "  inflating: /content/Sudanese License Plate Dataset/valid/labels/image cropped in 2025_01_21_09_08_35.txt  \n",
            "  inflating: /content/Sudanese License Plate Dataset/valid/labels/image cropped in 2025_01_21_09_10_08.txt  \n",
            "  inflating: /content/Sudanese License Plate Dataset/valid/labels/image cropped in 2025_01_21_09_10_29.txt  \n",
            "  inflating: /content/Sudanese License Plate Dataset/valid/labels/image cropped in 2025_01_21_09_11_59.txt  \n",
            "  inflating: /content/Sudanese License Plate Dataset/valid/labels/image cropped in 2025_01_21_09_12_16.txt  \n",
            "  inflating: /content/Sudanese License Plate Dataset/valid/labels/image cropped in 2025_01_21_09_12_31.txt  \n",
            "  inflating: /content/Sudanese License Plate Dataset/valid/labels/image cropped in 2025_01_21_09_12_43.txt  \n",
            "  inflating: /content/Sudanese License Plate Dataset/valid/labels/image cropped in 2025_01_21_09_12_53.txt  \n",
            "  inflating: /content/Sudanese License Plate Dataset/valid/labels/image cropped in 2025_01_21_09_13_12.txt  \n",
            "  inflating: /content/Sudanese License Plate Dataset/valid/labels/image cropped in 2025_01_21_09_13_20.txt  \n",
            "  inflating: /content/Sudanese License Plate Dataset/valid/labels/image cropped in 2025_01_21_09_13_29.txt  \n",
            "  inflating: /content/Sudanese License Plate Dataset/valid/labels/image cropped in 2025_01_21_09_13_38.txt  \n",
            "  inflating: /content/Sudanese License Plate Dataset/valid/labels/image cropped in 2025_01_21_09_13_46.txt  \n",
            "  inflating: /content/Sudanese License Plate Dataset/valid/labels/image cropped in 2025_01_21_09_14_04.txt  \n",
            "  inflating: /content/Sudanese License Plate Dataset/valid/labels/image cropped in 2025_01_21_09_14_12.txt  \n",
            "  inflating: /content/Sudanese License Plate Dataset/valid/labels/image cropped in 2025_01_21_09_14_21.txt  \n",
            "  inflating: /content/Sudanese License Plate Dataset/valid/labels/image cropped in 2025_01_21_09_14_30.txt  \n",
            "  inflating: /content/Sudanese License Plate Dataset/valid/labels/image cropped in 2025_01_21_09_14_40.txt  \n",
            "  inflating: /content/Sudanese License Plate Dataset/valid/labels/image cropped in 2025_01_21_09_15_04.txt  \n",
            "  inflating: /content/Sudanese License Plate Dataset/valid/labels/image cropped in 2025_01_21_09_15_13.txt  \n",
            "  inflating: /content/Sudanese License Plate Dataset/valid/labels/image cropped in 2025_01_21_09_15_22.txt  \n",
            "  inflating: /content/Sudanese License Plate Dataset/valid/labels/image cropped in 2025_01_21_09_15_31.txt  \n",
            "  inflating: /content/Sudanese License Plate Dataset/valid/labels/image cropped in 2025_01_21_09_15_42.txt  \n",
            "  inflating: /content/Sudanese License Plate Dataset/valid/labels/image cropped in 2025_01_21_09_15_55.txt  \n",
            "  inflating: /content/Sudanese License Plate Dataset/valid/labels/image cropped in 2025_01_21_09_16_09.txt  \n",
            "  inflating: /content/Sudanese License Plate Dataset/valid/labels/image cropped in 2025_01_21_09_17_01.txt  \n",
            "  inflating: /content/Sudanese License Plate Dataset/valid/labels/image cropped in 2025_01_21_09_17_13.txt  \n",
            "  inflating: /content/Sudanese License Plate Dataset/valid/labels/image cropped in 2025_01_21_09_17_24.txt  \n",
            "  inflating: /content/Sudanese License Plate Dataset/valid/labels/image cropped in 2025_01_21_09_17_44.txt  \n",
            "  inflating: /content/Sudanese License Plate Dataset/valid/labels/image cropped in 2025_01_21_09_17_54.txt  \n",
            "  inflating: /content/Sudanese License Plate Dataset/valid/labels/image cropped in 2025_01_21_09_18_04.txt  \n",
            "  inflating: /content/Sudanese License Plate Dataset/valid/labels/image cropped in 2025_01_21_09_18_14.txt  \n",
            "  inflating: /content/Sudanese License Plate Dataset/valid/labels/image cropped in 2025_01_21_09_18_24.txt  \n",
            "  inflating: /content/Sudanese License Plate Dataset/valid/labels/image cropped in 2025_01_21_09_18_40.txt  \n",
            "  inflating: /content/Sudanese License Plate Dataset/valid/labels/image cropped in 2025_01_21_09_18_53.txt  \n",
            "  inflating: /content/Sudanese License Plate Dataset/valid/labels/image cropped in 2025_01_21_09_19_08.txt  \n",
            "  inflating: /content/Sudanese License Plate Dataset/valid/labels/image cropped in 2025_01_21_11_22_57.txt  \n",
            "  inflating: /content/Sudanese License Plate Dataset/valid/labels/image cropped in 2025_01_21_11_23_20.txt  \n",
            "  inflating: /content/Sudanese License Plate Dataset/valid/labels/image cropped in 2025_01_21_11_23_29.txt  \n",
            "  inflating: /content/Sudanese License Plate Dataset/valid/labels/image cropped in 2025_01_21_11_24_32.txt  \n",
            "  inflating: /content/Sudanese License Plate Dataset/valid/labels/image cropped in 2025_01_21_11_24_41.txt  \n",
            "  inflating: /content/Sudanese License Plate Dataset/valid/labels/image cropped in 2025_01_21_11_26_46.txt  \n",
            "  inflating: /content/Sudanese License Plate Dataset/valid/labels/image cropped in 2025_01_21_11_26_57.txt  \n",
            "  inflating: /content/Sudanese License Plate Dataset/valid/labels/image cropped in 2025_01_21_11_27_11.txt  \n",
            "  inflating: /content/Sudanese License Plate Dataset/valid/labels/image cropped in 2025_01_21_11_27_20.txt  \n",
            "  inflating: /content/Sudanese License Plate Dataset/valid/labels/image cropped in 2025_01_21_11_27_29.txt  \n",
            "  inflating: /content/Sudanese License Plate Dataset/valid/labels/image cropped in 2025_01_21_11_28_18.txt  \n",
            "  inflating: /content/Sudanese License Plate Dataset/valid/labels/image cropped in 2025_01_21_11_28_26.txt  \n",
            "  inflating: /content/Sudanese License Plate Dataset/valid/labels/image cropped in 2025_01_21_11_28_35.txt  \n",
            "  inflating: /content/Sudanese License Plate Dataset/valid/labels/image cropped in 2025_01_21_11_28_44.txt  \n",
            "  inflating: /content/Sudanese License Plate Dataset/valid/labels/image cropped in 2025_01_21_11_28_54.txt  \n",
            "  inflating: /content/Sudanese License Plate Dataset/valid/labels/image cropped in 2025_01_21_11_29_09.txt  \n",
            "  inflating: /content/Sudanese License Plate Dataset/valid/labels/image cropped in 2025_01_21_11_29_19.txt  \n",
            "  inflating: /content/Sudanese License Plate Dataset/valid/labels/image cropped in 2025_01_21_11_29_28.txt  \n",
            "  inflating: /content/Sudanese License Plate Dataset/valid/labels/image cropped in 2025_01_21_11_29_37.txt  \n",
            "  inflating: /content/Sudanese License Plate Dataset/valid/labels/image cropped in 2025_01_21_11_29_48.txt  \n",
            "  inflating: /content/Sudanese License Plate Dataset/valid/labels/image cropped in 2025_01_21_11_31_53.txt  \n",
            "  inflating: /content/Sudanese License Plate Dataset/valid/labels/image cropped in 2025_01_21_11_32_04.txt  \n",
            "  inflating: /content/Sudanese License Plate Dataset/valid/labels/image cropped in 2025_01_21_11_32_18.txt  \n",
            "  inflating: /content/Sudanese License Plate Dataset/valid/labels/image cropped in 2025_01_21_11_32_30.txt  \n",
            "  inflating: /content/Sudanese License Plate Dataset/valid/labels/image cropped in 2025_01_21_11_33_20.txt  \n",
            "  inflating: /content/Sudanese License Plate Dataset/valid/labels/image cropped in 2025_01_21_11_33_59.txt  \n",
            "  inflating: /content/Sudanese License Plate Dataset/valid/labels/image cropped in 2025_01_21_11_34_12.txt  \n",
            "  inflating: /content/Sudanese License Plate Dataset/valid/labels/image cropped in 2025_01_21_11_34_23.txt  \n",
            "  inflating: /content/Sudanese License Plate Dataset/valid/labels/image cropped in 2025_01_21_11_34_32.txt  \n",
            "  inflating: /content/Sudanese License Plate Dataset/valid/labels/image cropped in 2025_01_21_11_34_42.txt  \n",
            "  inflating: /content/Sudanese License Plate Dataset/valid/labels/image cropped in 2025_01_21_11_34_59.txt  \n",
            "  inflating: /content/Sudanese License Plate Dataset/valid/labels/image cropped in 2025_01_21_11_35_09.txt  \n",
            "  inflating: /content/Sudanese License Plate Dataset/valid/labels/image cropped in 2025_01_21_11_35_19.txt  \n",
            "  inflating: /content/Sudanese License Plate Dataset/valid/labels/image cropped in 2025_01_21_11_35_36.txt  \n",
            "  inflating: /content/Sudanese License Plate Dataset/valid/labels/image cropped in 2025_01_21_11_35_48.txt  \n",
            "  inflating: /content/Sudanese License Plate Dataset/valid/labels/image cropped in 2025_01_21_11_36_09.txt  \n"
          ]
        }
      ],
      "source": [
        "!scp '/content/gdrive/My Drive/SLP-split/Sudanese License Plate Dataset (70-20-10).zip' '/content/Sudanese License Plate Dataset.zip'\n",
        "\n",
        "!unzip '/content/Sudanese License Plate Dataset.zip' -d '/content/'"
      ]
    },
    {
      "cell_type": "markdown",
      "metadata": {
        "id": "yxUwBvhcY_Eh"
      },
      "source": [
        "# Train model"
      ]
    },
    {
      "cell_type": "code",
      "source": [
        "config_path = '/content/gdrive/My Drive/SLP-split/config.yaml'\n",
        "\n",
        "# Load a model\n",
        "model = YOLO(\"yolo11n.pt\")\n",
        "\n",
        "# Train the model\n",
        "results = model.train(data = config_path, epochs = 30,)"
      ],
      "metadata": {
        "colab": {
          "base_uri": "https://localhost:8080/"
        },
        "id": "xkMJxJqNWKCk",
        "outputId": "0bc0d78a-9eb8-47f3-bec9-a11d3b08b316"
      },
      "execution_count": 5,
      "outputs": [
        {
          "output_type": "stream",
          "name": "stdout",
          "text": [
            "Downloading https://github.com/ultralytics/assets/releases/download/v8.3.0/yolo11n.pt to 'yolo11n.pt'...\n"
          ]
        },
        {
          "output_type": "stream",
          "name": "stderr",
          "text": [
            "100%|██████████| 5.35M/5.35M [00:00<00:00, 67.1MB/s]\n"
          ]
        },
        {
          "output_type": "stream",
          "name": "stdout",
          "text": [
            "Ultralytics 8.3.69 🚀 Python-3.11.11 torch-2.5.1+cu124 CUDA:0 (NVIDIA A100-SXM4-40GB, 40507MiB)\n",
            "\u001b[34m\u001b[1mengine/trainer: \u001b[0mtask=detect, mode=train, model=yolo11n.pt, data=/content/gdrive/My Drive/SLP-split/config.yaml, epochs=30, time=None, patience=100, batch=16, imgsz=640, save=True, save_period=-1, cache=False, device=None, workers=8, project=None, name=train, exist_ok=False, pretrained=True, optimizer=auto, verbose=True, seed=0, deterministic=True, single_cls=False, rect=False, cos_lr=False, close_mosaic=10, resume=False, amp=True, fraction=1.0, profile=False, freeze=None, multi_scale=False, overlap_mask=True, mask_ratio=4, dropout=0.0, val=True, split=val, save_json=False, save_hybrid=False, conf=None, iou=0.7, max_det=300, half=False, dnn=False, plots=True, source=None, vid_stride=1, stream_buffer=False, visualize=False, augment=False, agnostic_nms=False, classes=None, retina_masks=False, embed=None, show=False, save_frames=False, save_txt=False, save_conf=False, save_crop=False, show_labels=True, show_conf=True, show_boxes=True, line_width=None, format=torchscript, keras=False, optimize=False, int8=False, dynamic=False, simplify=True, opset=None, workspace=None, nms=False, lr0=0.01, lrf=0.01, momentum=0.937, weight_decay=0.0005, warmup_epochs=3.0, warmup_momentum=0.8, warmup_bias_lr=0.1, box=7.5, cls=0.5, dfl=1.5, pose=12.0, kobj=1.0, nbs=64, hsv_h=0.015, hsv_s=0.7, hsv_v=0.4, degrees=0.0, translate=0.1, scale=0.5, shear=0.0, perspective=0.0, flipud=0.0, fliplr=0.5, bgr=0.0, mosaic=1.0, mixup=0.0, copy_paste=0.0, copy_paste_mode=flip, auto_augment=randaugment, erasing=0.4, crop_fraction=1.0, cfg=None, tracker=botsort.yaml, save_dir=runs/detect/train\n",
            "Downloading https://ultralytics.com/assets/Arial.ttf to '/root/.config/Ultralytics/Arial.ttf'...\n"
          ]
        },
        {
          "output_type": "stream",
          "name": "stderr",
          "text": [
            "100%|██████████| 755k/755k [00:00<00:00, 14.1MB/s]\n"
          ]
        },
        {
          "output_type": "stream",
          "name": "stdout",
          "text": [
            "Overriding model.yaml nc=80 with nc=2\n",
            "\n",
            "                   from  n    params  module                                       arguments                     \n",
            "  0                  -1  1       464  ultralytics.nn.modules.conv.Conv             [3, 16, 3, 2]                 \n",
            "  1                  -1  1      4672  ultralytics.nn.modules.conv.Conv             [16, 32, 3, 2]                \n",
            "  2                  -1  1      6640  ultralytics.nn.modules.block.C3k2            [32, 64, 1, False, 0.25]      \n",
            "  3                  -1  1     36992  ultralytics.nn.modules.conv.Conv             [64, 64, 3, 2]                \n",
            "  4                  -1  1     26080  ultralytics.nn.modules.block.C3k2            [64, 128, 1, False, 0.25]     \n",
            "  5                  -1  1    147712  ultralytics.nn.modules.conv.Conv             [128, 128, 3, 2]              \n",
            "  6                  -1  1     87040  ultralytics.nn.modules.block.C3k2            [128, 128, 1, True]           \n",
            "  7                  -1  1    295424  ultralytics.nn.modules.conv.Conv             [128, 256, 3, 2]              \n",
            "  8                  -1  1    346112  ultralytics.nn.modules.block.C3k2            [256, 256, 1, True]           \n",
            "  9                  -1  1    164608  ultralytics.nn.modules.block.SPPF            [256, 256, 5]                 \n",
            " 10                  -1  1    249728  ultralytics.nn.modules.block.C2PSA           [256, 256, 1]                 \n",
            " 11                  -1  1         0  torch.nn.modules.upsampling.Upsample         [None, 2, 'nearest']          \n",
            " 12             [-1, 6]  1         0  ultralytics.nn.modules.conv.Concat           [1]                           \n",
            " 13                  -1  1    111296  ultralytics.nn.modules.block.C3k2            [384, 128, 1, False]          \n",
            " 14                  -1  1         0  torch.nn.modules.upsampling.Upsample         [None, 2, 'nearest']          \n",
            " 15             [-1, 4]  1         0  ultralytics.nn.modules.conv.Concat           [1]                           \n",
            " 16                  -1  1     32096  ultralytics.nn.modules.block.C3k2            [256, 64, 1, False]           \n",
            " 17                  -1  1     36992  ultralytics.nn.modules.conv.Conv             [64, 64, 3, 2]                \n",
            " 18            [-1, 13]  1         0  ultralytics.nn.modules.conv.Concat           [1]                           \n",
            " 19                  -1  1     86720  ultralytics.nn.modules.block.C3k2            [192, 128, 1, False]          \n",
            " 20                  -1  1    147712  ultralytics.nn.modules.conv.Conv             [128, 128, 3, 2]              \n",
            " 21            [-1, 10]  1         0  ultralytics.nn.modules.conv.Concat           [1]                           \n",
            " 22                  -1  1    378880  ultralytics.nn.modules.block.C3k2            [384, 256, 1, True]           \n",
            " 23        [16, 19, 22]  1    431062  ultralytics.nn.modules.head.Detect           [2, [64, 128, 256]]           \n",
            "YOLO11n summary: 319 layers, 2,590,230 parameters, 2,590,214 gradients, 6.4 GFLOPs\n",
            "\n",
            "Transferred 448/499 items from pretrained weights\n",
            "\u001b[34m\u001b[1mTensorBoard: \u001b[0mStart with 'tensorboard --logdir runs/detect/train', view at http://localhost:6006/\n",
            "Freezing layer 'model.23.dfl.conv.weight'\n",
            "\u001b[34m\u001b[1mAMP: \u001b[0mrunning Automatic Mixed Precision (AMP) checks...\n",
            "\u001b[34m\u001b[1mAMP: \u001b[0mchecks passed ✅\n"
          ]
        },
        {
          "output_type": "stream",
          "name": "stderr",
          "text": [
            "\u001b[34m\u001b[1mtrain: \u001b[0mScanning /content/Sudanese License Plate Dataset/train/labels... 460 images, 0 backgrounds, 0 corrupt: 100%|██████████| 460/460 [00:00<00:00, 1470.41it/s]"
          ]
        },
        {
          "output_type": "stream",
          "name": "stdout",
          "text": [
            "\u001b[34m\u001b[1mtrain: \u001b[0mNew cache created: /content/Sudanese License Plate Dataset/train/labels.cache\n"
          ]
        },
        {
          "output_type": "stream",
          "name": "stderr",
          "text": [
            "\n"
          ]
        },
        {
          "output_type": "stream",
          "name": "stdout",
          "text": [
            "\u001b[34m\u001b[1malbumentations: \u001b[0mBlur(p=0.01, blur_limit=(3, 7)), MedianBlur(p=0.01, blur_limit=(3, 7)), ToGray(p=0.01, num_output_channels=3, method='weighted_average'), CLAHE(p=0.01, clip_limit=(1.0, 4.0), tile_grid_size=(8, 8))\n"
          ]
        },
        {
          "output_type": "stream",
          "name": "stderr",
          "text": [
            "/usr/local/lib/python3.11/dist-packages/albumentations/__init__.py:24: UserWarning: A new version of Albumentations is available: 2.0.2 (you have 1.4.20). Upgrade using: pip install -U albumentations. To disable automatic update checks, set the environment variable NO_ALBUMENTATIONS_UPDATE to 1.\n",
            "  check_for_updates()\n",
            "\u001b[34m\u001b[1mval: \u001b[0mScanning /content/Sudanese License Plate Dataset/valid/labels... 132 images, 0 backgrounds, 0 corrupt: 100%|██████████| 132/132 [00:00<00:00, 1316.91it/s]"
          ]
        },
        {
          "output_type": "stream",
          "name": "stdout",
          "text": [
            "\u001b[34m\u001b[1mval: \u001b[0mNew cache created: /content/Sudanese License Plate Dataset/valid/labels.cache\n"
          ]
        },
        {
          "output_type": "stream",
          "name": "stderr",
          "text": [
            "\n"
          ]
        },
        {
          "output_type": "stream",
          "name": "stdout",
          "text": [
            "Plotting labels to runs/detect/train/labels.jpg... \n",
            "\u001b[34m\u001b[1moptimizer:\u001b[0m 'optimizer=auto' found, ignoring 'lr0=0.01' and 'momentum=0.937' and determining best 'optimizer', 'lr0' and 'momentum' automatically... \n",
            "\u001b[34m\u001b[1moptimizer:\u001b[0m AdamW(lr=0.001667, momentum=0.9) with parameter groups 81 weight(decay=0.0), 88 weight(decay=0.0005), 87 bias(decay=0.0)\n",
            "\u001b[34m\u001b[1mTensorBoard: \u001b[0mmodel graph visualization added ✅\n",
            "Image sizes 640 train, 640 val\n",
            "Using 8 dataloader workers\n",
            "Logging results to \u001b[1mruns/detect/train\u001b[0m\n",
            "Starting training for 30 epochs...\n",
            "\n",
            "      Epoch    GPU_mem   box_loss   cls_loss   dfl_loss  Instances       Size\n"
          ]
        },
        {
          "output_type": "stream",
          "name": "stderr",
          "text": [
            "       1/30      2.77G      1.212      2.756      1.391         71        640: 100%|██████████| 29/29 [00:05<00:00,  5.61it/s]\n",
            "                 Class     Images  Instances      Box(P          R      mAP50  mAP50-95): 100%|██████████| 5/5 [00:01<00:00,  2.80it/s]"
          ]
        },
        {
          "output_type": "stream",
          "name": "stdout",
          "text": [
            "                   all        132        264    0.00667          1      0.832      0.558\n"
          ]
        },
        {
          "output_type": "stream",
          "name": "stderr",
          "text": [
            "\n"
          ]
        },
        {
          "output_type": "stream",
          "name": "stdout",
          "text": [
            "\n",
            "      Epoch    GPU_mem   box_loss   cls_loss   dfl_loss  Instances       Size\n"
          ]
        },
        {
          "output_type": "stream",
          "name": "stderr",
          "text": [
            "       2/30       2.6G     0.7483      1.264      1.047        101        640: 100%|██████████| 29/29 [00:03<00:00,  8.99it/s]\n",
            "                 Class     Images  Instances      Box(P          R      mAP50  mAP50-95): 100%|██████████| 5/5 [00:00<00:00,  7.36it/s]"
          ]
        },
        {
          "output_type": "stream",
          "name": "stdout",
          "text": [
            "                   all        132        264      0.894      0.808      0.951      0.783\n"
          ]
        },
        {
          "output_type": "stream",
          "name": "stderr",
          "text": [
            "\n"
          ]
        },
        {
          "output_type": "stream",
          "name": "stdout",
          "text": [
            "\n",
            "      Epoch    GPU_mem   box_loss   cls_loss   dfl_loss  Instances       Size\n"
          ]
        },
        {
          "output_type": "stream",
          "name": "stderr",
          "text": [
            "       3/30      2.76G     0.7129     0.9246      1.002         61        640: 100%|██████████| 29/29 [00:03<00:00,  8.86it/s]\n",
            "                 Class     Images  Instances      Box(P          R      mAP50  mAP50-95): 100%|██████████| 5/5 [00:00<00:00,  7.85it/s]"
          ]
        },
        {
          "output_type": "stream",
          "name": "stdout",
          "text": [
            "                   all        132        264      0.957      0.929      0.974      0.799\n"
          ]
        },
        {
          "output_type": "stream",
          "name": "stderr",
          "text": [
            "\n"
          ]
        },
        {
          "output_type": "stream",
          "name": "stdout",
          "text": [
            "\n",
            "      Epoch    GPU_mem   box_loss   cls_loss   dfl_loss  Instances       Size\n"
          ]
        },
        {
          "output_type": "stream",
          "name": "stderr",
          "text": [
            "       4/30      2.76G     0.7084     0.8681      1.005         61        640: 100%|██████████| 29/29 [00:03<00:00,  8.71it/s]\n",
            "                 Class     Images  Instances      Box(P          R      mAP50  mAP50-95): 100%|██████████| 5/5 [00:00<00:00,  7.50it/s]"
          ]
        },
        {
          "output_type": "stream",
          "name": "stdout",
          "text": [
            "                   all        132        264      0.738      0.797      0.904      0.723\n"
          ]
        },
        {
          "output_type": "stream",
          "name": "stderr",
          "text": [
            "\n"
          ]
        },
        {
          "output_type": "stream",
          "name": "stdout",
          "text": [
            "\n",
            "      Epoch    GPU_mem   box_loss   cls_loss   dfl_loss  Instances       Size\n"
          ]
        },
        {
          "output_type": "stream",
          "name": "stderr",
          "text": [
            "       5/30       2.6G     0.6794     0.7887     0.9876         68        640: 100%|██████████| 29/29 [00:03<00:00,  9.17it/s]\n",
            "                 Class     Images  Instances      Box(P          R      mAP50  mAP50-95): 100%|██████████| 5/5 [00:00<00:00,  7.69it/s]"
          ]
        },
        {
          "output_type": "stream",
          "name": "stdout",
          "text": [
            "                   all        132        264       0.95      0.969      0.987      0.819\n"
          ]
        },
        {
          "output_type": "stream",
          "name": "stderr",
          "text": [
            "\n"
          ]
        },
        {
          "output_type": "stream",
          "name": "stdout",
          "text": [
            "\n",
            "      Epoch    GPU_mem   box_loss   cls_loss   dfl_loss  Instances       Size\n"
          ]
        },
        {
          "output_type": "stream",
          "name": "stderr",
          "text": [
            "       6/30       2.6G     0.6496     0.7183     0.9756         42        640: 100%|██████████| 29/29 [00:03<00:00,  9.56it/s]\n",
            "                 Class     Images  Instances      Box(P          R      mAP50  mAP50-95): 100%|██████████| 5/5 [00:00<00:00,  8.56it/s]\n"
          ]
        },
        {
          "output_type": "stream",
          "name": "stdout",
          "text": [
            "                   all        132        264      0.996       0.97      0.991       0.84\n",
            "\n",
            "      Epoch    GPU_mem   box_loss   cls_loss   dfl_loss  Instances       Size\n"
          ]
        },
        {
          "output_type": "stream",
          "name": "stderr",
          "text": [
            "       7/30      2.76G     0.6359     0.6878     0.9704         50        640: 100%|██████████| 29/29 [00:03<00:00,  9.24it/s]\n",
            "                 Class     Images  Instances      Box(P          R      mAP50  mAP50-95): 100%|██████████| 5/5 [00:00<00:00,  8.38it/s]\n"
          ]
        },
        {
          "output_type": "stream",
          "name": "stdout",
          "text": [
            "                   all        132        264       0.99      0.983      0.994      0.846\n",
            "\n",
            "      Epoch    GPU_mem   box_loss   cls_loss   dfl_loss  Instances       Size\n"
          ]
        },
        {
          "output_type": "stream",
          "name": "stderr",
          "text": [
            "       8/30      2.75G     0.6109     0.6323     0.9589         61        640: 100%|██████████| 29/29 [00:03<00:00,  8.63it/s]\n",
            "                 Class     Images  Instances      Box(P          R      mAP50  mAP50-95): 100%|██████████| 5/5 [00:00<00:00,  8.41it/s]\n"
          ]
        },
        {
          "output_type": "stream",
          "name": "stdout",
          "text": [
            "                   all        132        264      0.971      0.985      0.992      0.847\n",
            "\n",
            "      Epoch    GPU_mem   box_loss   cls_loss   dfl_loss  Instances       Size\n"
          ]
        },
        {
          "output_type": "stream",
          "name": "stderr",
          "text": [
            "       9/30       2.6G     0.5791     0.5759     0.9434         64        640: 100%|██████████| 29/29 [00:03<00:00,  9.35it/s]\n",
            "                 Class     Images  Instances      Box(P          R      mAP50  mAP50-95): 100%|██████████| 5/5 [00:00<00:00,  8.74it/s]"
          ]
        },
        {
          "output_type": "stream",
          "name": "stdout",
          "text": [
            "                   all        132        264          1      0.998      0.995      0.887\n"
          ]
        },
        {
          "output_type": "stream",
          "name": "stderr",
          "text": [
            "\n"
          ]
        },
        {
          "output_type": "stream",
          "name": "stdout",
          "text": [
            "\n",
            "      Epoch    GPU_mem   box_loss   cls_loss   dfl_loss  Instances       Size\n"
          ]
        },
        {
          "output_type": "stream",
          "name": "stderr",
          "text": [
            "      10/30      2.75G     0.5861     0.5551     0.9421         62        640: 100%|██████████| 29/29 [00:03<00:00,  9.43it/s]\n",
            "                 Class     Images  Instances      Box(P          R      mAP50  mAP50-95): 100%|██████████| 5/5 [00:00<00:00,  8.06it/s]"
          ]
        },
        {
          "output_type": "stream",
          "name": "stdout",
          "text": [
            "                   all        132        264      0.995      0.989      0.995      0.855\n"
          ]
        },
        {
          "output_type": "stream",
          "name": "stderr",
          "text": [
            "\n"
          ]
        },
        {
          "output_type": "stream",
          "name": "stdout",
          "text": [
            "\n",
            "      Epoch    GPU_mem   box_loss   cls_loss   dfl_loss  Instances       Size\n"
          ]
        },
        {
          "output_type": "stream",
          "name": "stderr",
          "text": [
            "      11/30      2.75G     0.5539     0.5352      0.931         51        640: 100%|██████████| 29/29 [00:03<00:00,  9.17it/s]\n",
            "                 Class     Images  Instances      Box(P          R      mAP50  mAP50-95): 100%|██████████| 5/5 [00:00<00:00,  8.60it/s]"
          ]
        },
        {
          "output_type": "stream",
          "name": "stdout",
          "text": [
            "                   all        132        264      0.906      0.806      0.909      0.746\n"
          ]
        },
        {
          "output_type": "stream",
          "name": "stderr",
          "text": [
            "\n"
          ]
        },
        {
          "output_type": "stream",
          "name": "stdout",
          "text": [
            "\n",
            "      Epoch    GPU_mem   box_loss   cls_loss   dfl_loss  Instances       Size\n"
          ]
        },
        {
          "output_type": "stream",
          "name": "stderr",
          "text": [
            "      12/30      2.61G     0.5351     0.4966     0.9255         55        640: 100%|██████████| 29/29 [00:03<00:00,  8.62it/s]\n",
            "                 Class     Images  Instances      Box(P          R      mAP50  mAP50-95): 100%|██████████| 5/5 [00:00<00:00,  8.46it/s]\n"
          ]
        },
        {
          "output_type": "stream",
          "name": "stdout",
          "text": [
            "                   all        132        264      0.999      0.992      0.995       0.87\n",
            "\n",
            "      Epoch    GPU_mem   box_loss   cls_loss   dfl_loss  Instances       Size\n"
          ]
        },
        {
          "output_type": "stream",
          "name": "stderr",
          "text": [
            "      13/30      2.75G     0.5401     0.4979     0.9293         58        640: 100%|██████████| 29/29 [00:03<00:00,  9.56it/s]\n",
            "                 Class     Images  Instances      Box(P          R      mAP50  mAP50-95): 100%|██████████| 5/5 [00:00<00:00,  8.58it/s]"
          ]
        },
        {
          "output_type": "stream",
          "name": "stdout",
          "text": [
            "                   all        132        264      0.999      0.996      0.995      0.873\n"
          ]
        },
        {
          "output_type": "stream",
          "name": "stderr",
          "text": [
            "\n"
          ]
        },
        {
          "output_type": "stream",
          "name": "stdout",
          "text": [
            "\n",
            "      Epoch    GPU_mem   box_loss   cls_loss   dfl_loss  Instances       Size\n"
          ]
        },
        {
          "output_type": "stream",
          "name": "stderr",
          "text": [
            "      14/30      2.59G     0.5129     0.4384     0.9068         49        640: 100%|██████████| 29/29 [00:03<00:00,  9.36it/s]\n",
            "                 Class     Images  Instances      Box(P          R      mAP50  mAP50-95): 100%|██████████| 5/5 [00:00<00:00,  8.66it/s]"
          ]
        },
        {
          "output_type": "stream",
          "name": "stdout",
          "text": [
            "                   all        132        264      0.997      0.996      0.995       0.88\n"
          ]
        },
        {
          "output_type": "stream",
          "name": "stderr",
          "text": [
            "\n"
          ]
        },
        {
          "output_type": "stream",
          "name": "stdout",
          "text": [
            "\n",
            "      Epoch    GPU_mem   box_loss   cls_loss   dfl_loss  Instances       Size\n"
          ]
        },
        {
          "output_type": "stream",
          "name": "stderr",
          "text": [
            "      15/30      2.61G     0.5142     0.4429     0.9141         56        640: 100%|██████████| 29/29 [00:03<00:00,  9.02it/s]\n",
            "                 Class     Images  Instances      Box(P          R      mAP50  mAP50-95): 100%|██████████| 5/5 [00:00<00:00,  8.23it/s]\n"
          ]
        },
        {
          "output_type": "stream",
          "name": "stdout",
          "text": [
            "                   all        132        264      0.998          1      0.995      0.888\n",
            "\n",
            "      Epoch    GPU_mem   box_loss   cls_loss   dfl_loss  Instances       Size\n"
          ]
        },
        {
          "output_type": "stream",
          "name": "stderr",
          "text": [
            "      16/30      2.76G     0.5113     0.4496     0.9143         66        640: 100%|██████████| 29/29 [00:03<00:00,  8.61it/s]\n",
            "                 Class     Images  Instances      Box(P          R      mAP50  mAP50-95): 100%|██████████| 5/5 [00:00<00:00,  8.90it/s]"
          ]
        },
        {
          "output_type": "stream",
          "name": "stdout",
          "text": [
            "                   all        132        264      0.996      0.992      0.995      0.896\n"
          ]
        },
        {
          "output_type": "stream",
          "name": "stderr",
          "text": [
            "\n"
          ]
        },
        {
          "output_type": "stream",
          "name": "stdout",
          "text": [
            "\n",
            "      Epoch    GPU_mem   box_loss   cls_loss   dfl_loss  Instances       Size\n"
          ]
        },
        {
          "output_type": "stream",
          "name": "stderr",
          "text": [
            "      17/30      2.73G     0.5028     0.4181     0.9025         52        640: 100%|██████████| 29/29 [00:03<00:00,  9.34it/s]\n",
            "                 Class     Images  Instances      Box(P          R      mAP50  mAP50-95): 100%|██████████| 5/5 [00:00<00:00,  8.81it/s]"
          ]
        },
        {
          "output_type": "stream",
          "name": "stdout",
          "text": [
            "                   all        132        264      0.999          1      0.995      0.893\n"
          ]
        },
        {
          "output_type": "stream",
          "name": "stderr",
          "text": [
            "\n"
          ]
        },
        {
          "output_type": "stream",
          "name": "stdout",
          "text": [
            "\n",
            "      Epoch    GPU_mem   box_loss   cls_loss   dfl_loss  Instances       Size\n"
          ]
        },
        {
          "output_type": "stream",
          "name": "stderr",
          "text": [
            "      18/30       2.6G     0.4961     0.4241      0.913         58        640: 100%|██████████| 29/29 [00:03<00:00,  9.36it/s]\n",
            "                 Class     Images  Instances      Box(P          R      mAP50  mAP50-95): 100%|██████████| 5/5 [00:00<00:00,  8.73it/s]"
          ]
        },
        {
          "output_type": "stream",
          "name": "stdout",
          "text": [
            "                   all        132        264      0.997      0.999      0.995      0.897\n"
          ]
        },
        {
          "output_type": "stream",
          "name": "stderr",
          "text": [
            "\n"
          ]
        },
        {
          "output_type": "stream",
          "name": "stdout",
          "text": [
            "\n",
            "      Epoch    GPU_mem   box_loss   cls_loss   dfl_loss  Instances       Size\n"
          ]
        },
        {
          "output_type": "stream",
          "name": "stderr",
          "text": [
            "      19/30      2.61G     0.4695     0.3844     0.8937         56        640: 100%|██████████| 29/29 [00:03<00:00,  8.95it/s]\n",
            "                 Class     Images  Instances      Box(P          R      mAP50  mAP50-95): 100%|██████████| 5/5 [00:00<00:00,  8.86it/s]"
          ]
        },
        {
          "output_type": "stream",
          "name": "stdout",
          "text": [
            "                   all        132        264      0.997          1      0.995      0.889\n"
          ]
        },
        {
          "output_type": "stream",
          "name": "stderr",
          "text": [
            "\n"
          ]
        },
        {
          "output_type": "stream",
          "name": "stdout",
          "text": [
            "\n",
            "      Epoch    GPU_mem   box_loss   cls_loss   dfl_loss  Instances       Size\n"
          ]
        },
        {
          "output_type": "stream",
          "name": "stderr",
          "text": [
            "      20/30      2.55G     0.4786     0.4151     0.9058         69        640: 100%|██████████| 29/29 [00:03<00:00,  8.89it/s]\n",
            "                 Class     Images  Instances      Box(P          R      mAP50  mAP50-95): 100%|██████████| 5/5 [00:00<00:00,  8.57it/s]"
          ]
        },
        {
          "output_type": "stream",
          "name": "stdout",
          "text": [
            "                   all        132        264      0.999          1      0.995      0.894\n"
          ]
        },
        {
          "output_type": "stream",
          "name": "stderr",
          "text": [
            "\n"
          ]
        },
        {
          "output_type": "stream",
          "name": "stdout",
          "text": [
            "Closing dataloader mosaic\n",
            "\u001b[34m\u001b[1malbumentations: \u001b[0mBlur(p=0.01, blur_limit=(3, 7)), MedianBlur(p=0.01, blur_limit=(3, 7)), ToGray(p=0.01, num_output_channels=3, method='weighted_average'), CLAHE(p=0.01, clip_limit=(1.0, 4.0), tile_grid_size=(8, 8))\n",
            "\n",
            "      Epoch    GPU_mem   box_loss   cls_loss   dfl_loss  Instances       Size\n"
          ]
        },
        {
          "output_type": "stream",
          "name": "stderr",
          "text": [
            "      21/30      2.72G     0.4171     0.4058      0.849         24        640: 100%|██████████| 29/29 [00:03<00:00,  7.56it/s]\n",
            "                 Class     Images  Instances      Box(P          R      mAP50  mAP50-95): 100%|██████████| 5/5 [00:00<00:00,  8.44it/s]\n"
          ]
        },
        {
          "output_type": "stream",
          "name": "stdout",
          "text": [
            "                   all        132        264      0.996          1      0.995      0.899\n",
            "\n",
            "      Epoch    GPU_mem   box_loss   cls_loss   dfl_loss  Instances       Size\n"
          ]
        },
        {
          "output_type": "stream",
          "name": "stderr",
          "text": [
            "      22/30      2.72G     0.4225     0.3867      0.859         24        640: 100%|██████████| 29/29 [00:03<00:00,  9.60it/s]\n",
            "                 Class     Images  Instances      Box(P          R      mAP50  mAP50-95): 100%|██████████| 5/5 [00:00<00:00,  8.58it/s]\n"
          ]
        },
        {
          "output_type": "stream",
          "name": "stdout",
          "text": [
            "                   all        132        264      0.992          1      0.995      0.895\n",
            "\n",
            "      Epoch    GPU_mem   box_loss   cls_loss   dfl_loss  Instances       Size\n"
          ]
        },
        {
          "output_type": "stream",
          "name": "stderr",
          "text": [
            "      23/30      2.59G     0.4175     0.3638     0.8576         24        640: 100%|██████████| 29/29 [00:03<00:00,  8.98it/s]\n",
            "                 Class     Images  Instances      Box(P          R      mAP50  mAP50-95): 100%|██████████| 5/5 [00:00<00:00,  8.45it/s]\n"
          ]
        },
        {
          "output_type": "stream",
          "name": "stdout",
          "text": [
            "                   all        132        264      0.997          1      0.995      0.894\n",
            "\n",
            "      Epoch    GPU_mem   box_loss   cls_loss   dfl_loss  Instances       Size\n"
          ]
        },
        {
          "output_type": "stream",
          "name": "stderr",
          "text": [
            "      24/30      2.59G     0.4062     0.3435     0.8384         24        640: 100%|██████████| 29/29 [00:03<00:00,  9.06it/s]\n",
            "                 Class     Images  Instances      Box(P          R      mAP50  mAP50-95): 100%|██████████| 5/5 [00:00<00:00,  8.34it/s]\n"
          ]
        },
        {
          "output_type": "stream",
          "name": "stdout",
          "text": [
            "                   all        132        264      0.998          1      0.995      0.899\n",
            "\n",
            "      Epoch    GPU_mem   box_loss   cls_loss   dfl_loss  Instances       Size\n"
          ]
        },
        {
          "output_type": "stream",
          "name": "stderr",
          "text": [
            "      25/30      2.72G      0.399     0.3487     0.8484         24        640: 100%|██████████| 29/29 [00:02<00:00,  9.68it/s]\n",
            "                 Class     Images  Instances      Box(P          R      mAP50  mAP50-95): 100%|██████████| 5/5 [00:00<00:00,  8.87it/s]"
          ]
        },
        {
          "output_type": "stream",
          "name": "stdout",
          "text": [
            "                   all        132        264      0.999      0.989      0.995      0.899\n"
          ]
        },
        {
          "output_type": "stream",
          "name": "stderr",
          "text": [
            "\n"
          ]
        },
        {
          "output_type": "stream",
          "name": "stdout",
          "text": [
            "\n",
            "      Epoch    GPU_mem   box_loss   cls_loss   dfl_loss  Instances       Size\n"
          ]
        },
        {
          "output_type": "stream",
          "name": "stderr",
          "text": [
            "      26/30      2.72G     0.3914     0.3355     0.8449         24        640: 100%|██████████| 29/29 [00:03<00:00,  9.37it/s]\n",
            "                 Class     Images  Instances      Box(P          R      mAP50  mAP50-95): 100%|██████████| 5/5 [00:00<00:00,  8.50it/s]\n"
          ]
        },
        {
          "output_type": "stream",
          "name": "stdout",
          "text": [
            "                   all        132        264      0.999      0.998      0.995      0.888\n",
            "\n",
            "      Epoch    GPU_mem   box_loss   cls_loss   dfl_loss  Instances       Size\n"
          ]
        },
        {
          "output_type": "stream",
          "name": "stderr",
          "text": [
            "      27/30      2.73G     0.3741       0.32     0.8404         24        640: 100%|██████████| 29/29 [00:03<00:00,  8.86it/s]\n",
            "                 Class     Images  Instances      Box(P          R      mAP50  mAP50-95): 100%|██████████| 5/5 [00:00<00:00,  8.63it/s]"
          ]
        },
        {
          "output_type": "stream",
          "name": "stdout",
          "text": [
            "                   all        132        264      0.994          1      0.995      0.907\n"
          ]
        },
        {
          "output_type": "stream",
          "name": "stderr",
          "text": [
            "\n"
          ]
        },
        {
          "output_type": "stream",
          "name": "stdout",
          "text": [
            "\n",
            "      Epoch    GPU_mem   box_loss   cls_loss   dfl_loss  Instances       Size\n"
          ]
        },
        {
          "output_type": "stream",
          "name": "stderr",
          "text": [
            "      28/30       2.6G     0.3725     0.3162     0.8413         24        640: 100%|██████████| 29/29 [00:03<00:00,  9.29it/s]\n",
            "                 Class     Images  Instances      Box(P          R      mAP50  mAP50-95): 100%|██████████| 5/5 [00:00<00:00,  8.72it/s]"
          ]
        },
        {
          "output_type": "stream",
          "name": "stdout",
          "text": [
            "                   all        132        264      0.998      0.996      0.995      0.908\n"
          ]
        },
        {
          "output_type": "stream",
          "name": "stderr",
          "text": [
            "\n"
          ]
        },
        {
          "output_type": "stream",
          "name": "stdout",
          "text": [
            "\n",
            "      Epoch    GPU_mem   box_loss   cls_loss   dfl_loss  Instances       Size\n"
          ]
        },
        {
          "output_type": "stream",
          "name": "stderr",
          "text": [
            "      29/30      2.72G      0.358      0.297      0.839         24        640: 100%|██████████| 29/29 [00:03<00:00,  9.38it/s]\n",
            "                 Class     Images  Instances      Box(P          R      mAP50  mAP50-95): 100%|██████████| 5/5 [00:00<00:00,  8.99it/s]"
          ]
        },
        {
          "output_type": "stream",
          "name": "stdout",
          "text": [
            "                   all        132        264      0.997          1      0.995      0.908\n"
          ]
        },
        {
          "output_type": "stream",
          "name": "stderr",
          "text": [
            "\n"
          ]
        },
        {
          "output_type": "stream",
          "name": "stdout",
          "text": [
            "\n",
            "      Epoch    GPU_mem   box_loss   cls_loss   dfl_loss  Instances       Size\n"
          ]
        },
        {
          "output_type": "stream",
          "name": "stderr",
          "text": [
            "      30/30      2.74G     0.3534     0.2978     0.8396         24        640: 100%|██████████| 29/29 [00:03<00:00,  9.39it/s]\n",
            "                 Class     Images  Instances      Box(P          R      mAP50  mAP50-95): 100%|██████████| 5/5 [00:00<00:00,  8.66it/s]"
          ]
        },
        {
          "output_type": "stream",
          "name": "stdout",
          "text": [
            "                   all        132        264      0.997          1      0.995      0.906\n"
          ]
        },
        {
          "output_type": "stream",
          "name": "stderr",
          "text": [
            "\n"
          ]
        },
        {
          "output_type": "stream",
          "name": "stdout",
          "text": [
            "\n",
            "30 epochs completed in 0.039 hours.\n",
            "Optimizer stripped from runs/detect/train/weights/last.pt, 5.5MB\n",
            "Optimizer stripped from runs/detect/train/weights/best.pt, 5.5MB\n",
            "\n",
            "Validating runs/detect/train/weights/best.pt...\n",
            "Ultralytics 8.3.69 🚀 Python-3.11.11 torch-2.5.1+cu124 CUDA:0 (NVIDIA A100-SXM4-40GB, 40507MiB)\n",
            "YOLO11n summary (fused): 238 layers, 2,582,542 parameters, 0 gradients, 6.3 GFLOPs\n"
          ]
        },
        {
          "output_type": "stream",
          "name": "stderr",
          "text": [
            "                 Class     Images  Instances      Box(P          R      mAP50  mAP50-95): 100%|██████████| 5/5 [00:01<00:00,  4.02it/s]\n"
          ]
        },
        {
          "output_type": "stream",
          "name": "stdout",
          "text": [
            "                   all        132        264      0.997          1      0.995      0.908\n",
            "                 SCode        132        132      0.995          1      0.995      0.893\n",
            "               Numbers        132        132      0.999          1      0.995      0.923\n",
            "Speed: 0.1ms preprocess, 0.7ms inference, 0.0ms loss, 1.3ms postprocess per image\n",
            "Results saved to \u001b[1mruns/detect/train\u001b[0m\n"
          ]
        }
      ]
    },
    {
      "cell_type": "markdown",
      "metadata": {
        "id": "ih7-hhikwLoT"
      },
      "source": [
        "# The metrics"
      ]
    },
    {
      "cell_type": "code",
      "execution_count": 6,
      "metadata": {
        "colab": {
          "base_uri": "https://localhost:8080/"
        },
        "id": "NS4eacUGyk2P",
        "outputId": "a6e7f66e-33c1-4204-b2b8-631977bdc49c"
      },
      "outputs": [
        {
          "output_type": "stream",
          "name": "stdout",
          "text": [
            "metrics/precision(B): 0.9968984691165654\n",
            "metrics/recall(B): 1.0\n",
            "metrics/mAP50(B): 0.995\n",
            "metrics/mAP50-95(B): 0.9080170015762568\n",
            "fitness: 0.9167153014186311\n"
          ]
        }
      ],
      "source": [
        "# After training, print all metrics stored in results_dict\n",
        "for key, value in results.results_dict.items():\n",
        "    print(f\"{key}: {value}\")"
      ]
    },
    {
      "cell_type": "code",
      "execution_count": 7,
      "metadata": {
        "colab": {
          "base_uri": "https://localhost:8080/"
        },
        "id": "nUcKtsn6yrBE",
        "outputId": "81e80f4c-5752-49ce-8de0-664370a3a071"
      },
      "outputs": [
        {
          "output_type": "stream",
          "name": "stdout",
          "text": [
            "Precision: 1.00\n",
            "Recall: 1.00\n",
            "mAP@0.5: 0.99\n",
            "mAP@0.5-0.95: 0.91\n",
            "Fitness Score: 0.92\n"
          ]
        }
      ],
      "source": [
        "# Access specific metrics directly\n",
        "print(f\"Precision: {results.results_dict['metrics/precision(B)']:.2f}\")\n",
        "print(f\"Recall: {results.results_dict['metrics/recall(B)']:.2f}\")\n",
        "print(f\"mAP@0.5: {results.results_dict['metrics/mAP50(B)']:.2f}\")\n",
        "print(f\"mAP@0.5-0.95: {results.results_dict['metrics/mAP50-95(B)']:.2f}\")\n",
        "print(f\"Fitness Score: {results.results_dict['fitness']:.2f}\")"
      ]
    },
    {
      "cell_type": "markdown",
      "metadata": {
        "id": "gtOSI2uXZIpv"
      },
      "source": [
        "# Download results"
      ]
    },
    {
      "cell_type": "code",
      "execution_count": 1,
      "metadata": {
        "colab": {
          "base_uri": "https://localhost:8080/",
          "height": 538
        },
        "collapsed": true,
        "id": "7ndOIyhz-EYD",
        "outputId": "60adbd7b-bf04-487c-8008-d3317c210327"
      },
      "outputs": [
        {
          "output_type": "stream",
          "name": "stdout",
          "text": [
            "  adding: content/runs/ (stored 0%)\n",
            "  adding: content/runs/detect/ (stored 0%)\n",
            "  adding: content/runs/detect/train/ (stored 0%)\n",
            "  adding: content/runs/detect/train/events.out.tfevents.1738213238.91675cb8583f.2903.0 (deflated 92%)\n",
            "  adding: content/runs/detect/train/val_batch1_labels.jpg (deflated 9%)\n",
            "  adding: content/runs/detect/train/train_batch0.jpg (deflated 7%)\n",
            "  adding: content/runs/detect/train/val_batch1_pred.jpg (deflated 9%)\n",
            "  adding: content/runs/detect/train/PR_curve.png (deflated 28%)\n",
            "  adding: content/runs/detect/train/labels.jpg (deflated 36%)\n",
            "  adding: content/runs/detect/train/val_batch2_pred.jpg (deflated 9%)\n",
            "  adding: content/runs/detect/train/train_batch582.jpg (deflated 15%)\n",
            "  adding: content/runs/detect/train/confusion_matrix_normalized.png (deflated 37%)\n",
            "  adding: content/runs/detect/train/val_batch0_pred.jpg (deflated 10%)\n",
            "  adding: content/runs/detect/train/weights/ (stored 0%)\n",
            "  adding: content/runs/detect/train/weights/last.pt (deflated 10%)\n",
            "  adding: content/runs/detect/train/weights/best.pt (deflated 10%)\n",
            "  adding: content/runs/detect/train/labels_correlogram.jpg (deflated 44%)\n",
            "  adding: content/runs/detect/train/train_batch580.jpg (deflated 12%)\n",
            "  adding: content/runs/detect/train/args.yaml (deflated 52%)\n",
            "  adding: content/runs/detect/train/R_curve.png (deflated 18%)\n",
            "  adding: content/runs/detect/train/results.csv (deflated 62%)\n",
            "  adding: content/runs/detect/train/train_batch581.jpg (deflated 15%)\n",
            "  adding: content/runs/detect/train/val_batch2_labels.jpg (deflated 10%)\n",
            "  adding: content/runs/detect/train/val_batch0_labels.jpg (deflated 10%)\n",
            "  adding: content/runs/detect/train/confusion_matrix.png (deflated 36%)\n",
            "  adding: content/runs/detect/train/P_curve.png (deflated 23%)\n",
            "  adding: content/runs/detect/train/F1_curve.png (deflated 17%)\n",
            "  adding: content/runs/detect/train/results.png (deflated 8%)\n",
            "  adding: content/runs/detect/train/train_batch2.jpg (deflated 8%)\n",
            "  adding: content/runs/detect/train/train_batch1.jpg (deflated 5%)\n"
          ]
        },
        {
          "output_type": "display_data",
          "data": {
            "text/plain": [
              "<IPython.core.display.Javascript object>"
            ],
            "application/javascript": [
              "\n",
              "    async function download(id, filename, size) {\n",
              "      if (!google.colab.kernel.accessAllowed) {\n",
              "        return;\n",
              "      }\n",
              "      const div = document.createElement('div');\n",
              "      const label = document.createElement('label');\n",
              "      label.textContent = `Downloading \"${filename}\": `;\n",
              "      div.appendChild(label);\n",
              "      const progress = document.createElement('progress');\n",
              "      progress.max = size;\n",
              "      div.appendChild(progress);\n",
              "      document.body.appendChild(div);\n",
              "\n",
              "      const buffers = [];\n",
              "      let downloaded = 0;\n",
              "\n",
              "      const channel = await google.colab.kernel.comms.open(id);\n",
              "      // Send a message to notify the kernel that we're ready.\n",
              "      channel.send({})\n",
              "\n",
              "      for await (const message of channel.messages) {\n",
              "        // Send a message to notify the kernel that we're ready.\n",
              "        channel.send({})\n",
              "        if (message.buffers) {\n",
              "          for (const buffer of message.buffers) {\n",
              "            buffers.push(buffer);\n",
              "            downloaded += buffer.byteLength;\n",
              "            progress.value = downloaded;\n",
              "          }\n",
              "        }\n",
              "      }\n",
              "      const blob = new Blob(buffers, {type: 'application/binary'});\n",
              "      const a = document.createElement('a');\n",
              "      a.href = window.URL.createObjectURL(blob);\n",
              "      a.download = filename;\n",
              "      div.appendChild(a);\n",
              "      a.click();\n",
              "      div.remove();\n",
              "    }\n",
              "  "
            ]
          },
          "metadata": {}
        },
        {
          "output_type": "display_data",
          "data": {
            "text/plain": [
              "<IPython.core.display.Javascript object>"
            ],
            "application/javascript": [
              "download(\"download_0e563f15-fe3b-4567-9989-a26880f51dd1\", \"runs.zip\", 15305842)"
            ]
          },
          "metadata": {}
        }
      ],
      "source": [
        "from google.colab import files\n",
        "\n",
        "!zip -r /content/runs.zip /content/runs\n",
        "\n",
        "files.download('/content/runs.zip')"
      ]
    }
  ],
  "metadata": {
    "accelerator": "GPU",
    "colab": {
      "gpuType": "A100",
      "provenance": [],
      "machine_shape": "hm",
      "include_colab_link": true
    },
    "kernelspec": {
      "display_name": "Python 3",
      "name": "python3"
    },
    "language_info": {
      "name": "python"
    }
  },
  "nbformat": 4,
  "nbformat_minor": 0
}